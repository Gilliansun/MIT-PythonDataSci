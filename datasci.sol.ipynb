{
 "cells": [
  {
   "cell_type": "markdown",
   "metadata": {},
   "source": [
    "# Python for Data Science: Tools for Survival\n",
    "\n",
    "### Instructor: Soubhik Barari\n",
    "\n",
    "#### (with solutions)\n",
    "\n",
    "Welcome! This Jupyter notebook serves as a walk-through of the most essential Python data science tools. Assuming that you have some level of proficiency with the **`R`** programming language and elementary data analysis, this notebook will get you up to speed on how to work with \"equivalent\" functionalities in Python.\n",
    "\n",
    "<a class=\"anchor\" id=\"toc\"></a>\n",
    "### <u>**Table of Contents**</u>\n",
    "\n",
    "1. [**`NumPy`**](#numpy):&nbsp;&nbsp;&nbsp;&nbsp;&nbsp;&nbsp;&nbsp;&nbsp;&nbsp;&nbsp;&nbsp;&nbsp;&nbsp;&nbsp;&nbsp;&nbsp; all things linear algebra, probability, statistics\n",
    "2. [**`Pandas`**](#pandas):&nbsp;&nbsp;&nbsp;&nbsp;&nbsp;&nbsp;&nbsp;&nbsp;&nbsp;&nbsp;&nbsp;&nbsp;&nbsp;&nbsp; data structures and analysis\n",
    "3. [**`Matplotlib`**](#matplotlib):&nbsp;&nbsp;&nbsp;&nbsp;&nbsp; highly flexible 2D and 3D plotting\n",
    "4. [**`Scikit-learn`**](#scikit-learn): &nbsp;machine learning made easy\n",
    "\n",
    "### Importing Third-Party Libraries in Python\n",
    "\n",
    "Using the **`numpy`** package as an example --\n",
    "\n",
    "**[A.]** How to import a *package*:"
   ]
  },
  {
   "cell_type": "code",
   "execution_count": null,
   "metadata": {
    "collapsed": false
   },
   "outputs": [],
   "source": [
    "import numpy                                          # WAY 1\n",
    "m = numpy.mean([1,2,3,4])\n",
    "x = numpy.random.randint(1)\n",
    "\n",
    "import numpy as np                                    # WAY 2 (nickamed)\n",
    "m = np.mean([1,2,3,4])\n",
    "x = np.random.randint(1)"
   ]
  },
  {
   "cell_type": "markdown",
   "metadata": {},
   "source": [
    "**[B.]** How to import *specific modules*:"
   ]
  },
  {
   "cell_type": "code",
   "execution_count": null,
   "metadata": {
    "collapsed": false
   },
   "outputs": [],
   "source": [
    "import numpy.random as nrt                            # WAY 1 (line-by-line module import)\n",
    "import numpy.linalg as nla\n",
    "x = nrt.randint(1)\n",
    "\n",
    "from numpy import random as nrt, linalg as nla        # WAY 2 (in-line import)\n",
    "x = nrt.randint(1)\n",
    "\n",
    "from numpy import *                                   # WAY 3 (import all modules)\n",
    "x = random.randint(1)"
   ]
  },
  {
   "cell_type": "markdown",
   "metadata": {},
   "source": [
    "**[C.]** How to import *specific classes or functions*:"
   ]
  },
  {
   "cell_type": "code",
   "execution_count": 9,
   "metadata": {
    "collapsed": false
   },
   "outputs": [],
   "source": [
    "from numpy.random import randint, randn               # WAY 1 (in-line import)\n",
    "x = randint(1)\n",
    "\n",
    "from numpy.random import randint as rint, randn as rn # WAY 2 (in-line import, nicknamed)\n",
    "x = rint(1)"
   ]
  },
  {
   "cell_type": "markdown",
   "metadata": {},
   "source": [
    "As a practical example, below is a crucial import for Jupyter notebooks, allowing us to \"prettily\" display objects as output!"
   ]
  },
  {
   "cell_type": "code",
   "execution_count": 10,
   "metadata": {
    "collapsed": true
   },
   "outputs": [],
   "source": [
    "from IPython.display import display"
   ]
  },
  {
   "cell_type": "markdown",
   "metadata": {},
   "source": [
    "## 1. [`NumPy`](http://www.numpy.org/): all things linear algebra, probability, statistics<a class=\"anchor\" id=\"numpy\"></a>\n",
    "\n",
    "> **NumPy** is the fundamental package for scientific computing with Python. It contains among other things:\n",
    "\n",
    "> * A powerful N-dimensional array object\n",
    "> * Sophisticated (broadcasting) functions\n",
    "> * Tools for integrating C/C++ and Fortran code\n",
    "> * Useful linear algebra, Fourier transform, and random number capabilities\n",
    "> Besides its obvious scientific uses, NumPy can also be used as an efficient multi-dimensional container of generic data. Arbitrary data-types can be defined. This allows NumPy to seamlessly and speedily integrate with a wide variety of databases.\n",
    "\n",
    "![NumPy Data Science Nodes](imgs/datasci-dag-np.png)\n",
    "\n",
    "**`R`** equivalents: **`matrix`**, **`vector`**, **`rbind`**, **`cbind`**, **`solve`**, **`diag`**, **`chol`**, etc."
   ]
  },
  {
   "cell_type": "code",
   "execution_count": 11,
   "metadata": {
    "collapsed": true
   },
   "outputs": [],
   "source": [
    "import numpy as np\n",
    "np.random.seed(17806)  # SEED for reproducibility"
   ]
  },
  {
   "cell_type": "markdown",
   "metadata": {},
   "source": [
    "### 1.1. Creating arrays"
   ]
  },
  {
   "cell_type": "code",
   "execution_count": 12,
   "metadata": {
    "collapsed": true
   },
   "outputs": [],
   "source": [
    "W = np.ones(5)\n",
    "Z = np.zeros(10)"
   ]
  },
  {
   "cell_type": "code",
   "execution_count": 13,
   "metadata": {
    "collapsed": false
   },
   "outputs": [],
   "source": [
    "x1 = np.random.randint(10, size=6)          # ONE-dimensional array\n",
    "x2 = np.random.randint(10, size=(3, 4))     # TWO-dimensional array\n",
    "x3 = np.random.randint(10, size=(3, 4, 5))  # THREE-dimensional array"
   ]
  },
  {
   "cell_type": "code",
   "execution_count": 14,
   "metadata": {
    "collapsed": false
   },
   "outputs": [
    {
     "name": "stdout",
     "output_type": "stream",
     "text": [
      "x3 ndim:  3\n",
      "x3 shape: (3, 4, 5)\n",
      "x3 size:  60\n"
     ]
    }
   ],
   "source": [
    "print \"x3 ndim: \", x3.ndim\n",
    "print \"x3 shape:\", x3.shape\n",
    "print \"x3 size: \", x3.size"
   ]
  },
  {
   "cell_type": "code",
   "execution_count": 15,
   "metadata": {
    "collapsed": false
   },
   "outputs": [
    {
     "data": {
      "text/plain": [
       "array([ 0. ,  0.1,  0.2,  0.3,  0.4,  0.5,  0.6,  0.7,  0.8,  0.9])"
      ]
     },
     "metadata": {},
     "output_type": "display_data"
    }
   ],
   "source": [
    "display(np.arange(0, 1, 0.1))"
   ]
  },
  {
   "cell_type": "markdown",
   "metadata": {},
   "source": [
    "**TIP:** You can \"force\" the creation of a matrix, however this is not recommended. The most flexible type to stick with is the `array` type."
   ]
  },
  {
   "cell_type": "code",
   "execution_count": 16,
   "metadata": {
    "collapsed": true
   },
   "outputs": [],
   "source": [
    "b = np.mat('1 2; 3 4')"
   ]
  },
  {
   "cell_type": "markdown",
   "metadata": {},
   "source": [
    "### 1.2. Indexing / slicing / filtering an array\n",
    "\n",
    "All arrays/matrices are filtered using the syntax `X[row, col]`:"
   ]
  },
  {
   "cell_type": "code",
   "execution_count": 17,
   "metadata": {
    "collapsed": false
   },
   "outputs": [
    {
     "data": {
      "text/plain": [
       "7"
      ]
     },
     "execution_count": 17,
     "metadata": {},
     "output_type": "execute_result"
    }
   ],
   "source": [
    "x1[4]"
   ]
  },
  {
   "cell_type": "code",
   "execution_count": 18,
   "metadata": {
    "collapsed": false
   },
   "outputs": [
    {
     "data": {
      "text/plain": [
       "2"
      ]
     },
     "execution_count": 18,
     "metadata": {},
     "output_type": "execute_result"
    }
   ],
   "source": [
    "x2[0, 0]"
   ]
  },
  {
   "cell_type": "code",
   "execution_count": 19,
   "metadata": {
    "collapsed": false
   },
   "outputs": [
    {
     "data": {
      "text/plain": [
       "array([[[8, 8, 5, 4, 8]],\n",
       "\n",
       "       [[6, 3, 5, 3, 4]],\n",
       "\n",
       "       [[4, 0, 2, 1, 9]]])"
      ]
     },
     "execution_count": 19,
     "metadata": {},
     "output_type": "execute_result"
    }
   ],
   "source": [
    "x3[:3, 3:]"
   ]
  },
  {
   "cell_type": "code",
   "execution_count": 20,
   "metadata": {
    "collapsed": false
   },
   "outputs": [
    {
     "data": {
      "text/plain": [
       "array([ True,  True,  True, False, False, False], dtype=bool)"
      ]
     },
     "execution_count": 20,
     "metadata": {},
     "output_type": "execute_result"
    }
   ],
   "source": [
    "# Boolean mask\n",
    "x1 < 6"
   ]
  },
  {
   "cell_type": "code",
   "execution_count": 21,
   "metadata": {
    "collapsed": false
   },
   "outputs": [
    {
     "data": {
      "text/plain": [
       "3"
      ]
     },
     "execution_count": 21,
     "metadata": {},
     "output_type": "execute_result"
    }
   ],
   "source": [
    "# How many values less than 6?\n",
    "np.count_nonzero(x1 < 6)"
   ]
  },
  {
   "cell_type": "code",
   "execution_count": 22,
   "metadata": {
    "collapsed": false
   },
   "outputs": [
    {
     "data": {
      "text/plain": [
       "array([4, 2, 2])"
      ]
     },
     "execution_count": 22,
     "metadata": {},
     "output_type": "execute_result"
    }
   ],
   "source": [
    "# How many values less than 6 in each row?\n",
    "np.sum(x2 < 6, axis=1)"
   ]
  },
  {
   "cell_type": "code",
   "execution_count": 23,
   "metadata": {
    "collapsed": false
   },
   "outputs": [
    {
     "data": {
      "text/plain": [
       "39"
      ]
     },
     "execution_count": 23,
     "metadata": {},
     "output_type": "execute_result"
    }
   ],
   "source": [
    "# Sum of all elements < 6\n",
    "np.sum(x3 < 6)"
   ]
  },
  {
   "cell_type": "markdown",
   "metadata": {},
   "source": [
    "### 1.3. Shaping / joining"
   ]
  },
  {
   "cell_type": "code",
   "execution_count": 24,
   "metadata": {
    "collapsed": false
   },
   "outputs": [
    {
     "data": {
      "text/plain": [
       "array([[ 1,  2,  3,  4,  5],\n",
       "       [ 6,  7,  8,  9, 10],\n",
       "       [11, 12, 13, 14, 15],\n",
       "       [16, 17, 18, 19, 20],\n",
       "       [21, 22, 23, 24, 25]])"
      ]
     },
     "execution_count": 24,
     "metadata": {},
     "output_type": "execute_result"
    }
   ],
   "source": [
    "np.arange(1, 26).reshape((5,5))"
   ]
  },
  {
   "cell_type": "code",
   "execution_count": 25,
   "metadata": {
    "collapsed": false
   },
   "outputs": [
    {
     "name": "stdout",
     "output_type": "stream",
     "text": [
      "By row:\n",
      "[[1 2]\n",
      " [3 4]\n",
      " [5 6]]\n",
      "By col:\n",
      "[[1 2 5]\n",
      " [3 4 6]]\n"
     ]
    }
   ],
   "source": [
    "# CONCATENATE an arbitrary no. of arrays along an existing axis\n",
    "a = np.array([[1, 2], [3, 4]])\n",
    "b = np.array([[5, 6]])\n",
    "\n",
    "print \"By row:\\n\", np.concatenate((a, b), axis=0)\n",
    "print \"By col:\\n\", np.concatenate((a, b.T), axis=1)"
   ]
  },
  {
   "cell_type": "code",
   "execution_count": 26,
   "metadata": {
    "collapsed": false
   },
   "outputs": [
    {
     "data": {
      "text/plain": [
       "array([[1, 2],\n",
       "       [3, 4],\n",
       "       [5, 6],\n",
       "       [1, 2],\n",
       "       [3, 4],\n",
       "       [5, 6]])"
      ]
     },
     "execution_count": 26,
     "metadata": {},
     "output_type": "execute_result"
    }
   ],
   "source": [
    "# VERTICALLY STACK an arbitrary no. of arrays\n",
    "np.vstack([a, b, a, b])"
   ]
  },
  {
   "cell_type": "code",
   "execution_count": 27,
   "metadata": {
    "collapsed": false
   },
   "outputs": [
    {
     "data": {
      "text/plain": [
       "array([[1, 2, 5, 1, 2, 5],\n",
       "       [3, 4, 6, 3, 4, 6]])"
      ]
     },
     "execution_count": 27,
     "metadata": {},
     "output_type": "execute_result"
    }
   ],
   "source": [
    "# HORIZONTALLY STACK an arbitrary no. of arrays\n",
    "np.hstack([a, b.T, a, b.T])"
   ]
  },
  {
   "cell_type": "markdown",
   "metadata": {},
   "source": [
    "Refer to the full list of [**matrix concatenation methods**](https://docs.scipy.org/doc/numpy-1.13.0/reference/generated/numpy.concatenate.html)."
   ]
  },
  {
   "cell_type": "markdown",
   "metadata": {},
   "source": [
    "### 1.4. Linear algebra"
   ]
  },
  {
   "cell_type": "code",
   "execution_count": 28,
   "metadata": {
    "collapsed": false
   },
   "outputs": [
    {
     "name": "stdout",
     "output_type": "stream",
     "text": [
      "x = [1 2 3 4]\n",
      "y = [5 6 7 8]\n",
      "DOT product:\n",
      "70\n",
      "INNER product:\n",
      "70\n",
      "OUTER product:\n",
      "[[ 5  6  7  8]\n",
      " [10 12 14 16]\n",
      " [15 18 21 24]\n",
      " [20 24 28 32]]\n"
     ]
    }
   ],
   "source": [
    "# PRODUCTS\n",
    "x = np.array([1,2,3,4])\n",
    "y = np.array([5,6,7,8])\n",
    "\n",
    "print \"x =\",x\n",
    "print \"y =\",y\n",
    "print \"DOT product:\\n\",np.dot(x,y)\n",
    "print \"INNER product:\\n\",np.inner(x,y)\n",
    "print \"OUTER product:\\n\",np.outer(x,y)"
   ]
  },
  {
   "cell_type": "markdown",
   "metadata": {},
   "source": [
    "**TIP:** try using arithmetic operators with numpy arrays!"
   ]
  },
  {
   "cell_type": "code",
   "execution_count": 30,
   "metadata": {
    "collapsed": false
   },
   "outputs": [
    {
     "name": "stdout",
     "output_type": "stream",
     "text": [
      "d =\n",
      "[[-1.3678435  -2.06328093]\n",
      " [ 0.66199857  0.2151528 ]]\n",
      "EIGEN values: [-0.57634535+0.85989517j -0.57634535-0.85989517j]\n",
      "SINGULAR values: [ 2.53656979  0.42245779]\n"
     ]
    }
   ],
   "source": [
    "# DECOMPOSITIONS\n",
    "d = np.random.randn(2, 2)\n",
    "w, v = np.linalg.eig(d)\n",
    "U, s, V = np.linalg.svd(d)\n",
    "\n",
    "print \"d =\\n\",d\n",
    "print \"EIGEN values:\",w\n",
    "print \"SINGULAR values:\",s"
   ]
  },
  {
   "cell_type": "markdown",
   "metadata": {},
   "source": [
    "**TIP:** note that if a Python function returns a list or a tuple, you can naturally \"unravel\" by assigning each returning element to a different object!"
   ]
  },
  {
   "cell_type": "code",
   "execution_count": 31,
   "metadata": {
    "collapsed": false
   },
   "outputs": [
    {
     "name": "stdout",
     "output_type": "stream",
     "text": [
      "d^{-1}=\n",
      "[[ 0.20077834  1.92543219]\n",
      " [-0.61777014 -1.27645725]]\n"
     ]
    }
   ],
   "source": [
    "# INVERSIONS\n",
    "d_inv = np.linalg.inv(d)\n",
    "\n",
    "print \"d^{-1}=\\n\",d_inv"
   ]
  },
  {
   "cell_type": "markdown",
   "metadata": {},
   "source": [
    "### 1.5. Sampling"
   ]
  },
  {
   "cell_type": "code",
   "execution_count": 32,
   "metadata": {
    "collapsed": false
   },
   "outputs": [],
   "source": [
    "import numpy.random as npr\n",
    "\n",
    "X0 = npr.random_sample(size=5)                       # CONTINUOUS Uniform\n",
    "X1 = npr.uniform(low=1, high=5, size=5)              # DISCRETE Uniform\n",
    "X2 = npr.standard_normal(size=5)\n",
    "X3 = npr.multivariate_normal(mean=(5,5), cov=[[1,0], [0,100]], size=10)\n",
    "X4 = npr.binomial(n=5, p=0.5, size=1000)\n",
    "X5 = npr.poisson(lam=5, size=15)\n",
    "X6 = npr.beta(a=4, b=5, size=(2,2))"
   ]
  },
  {
   "cell_type": "markdown",
   "metadata": {},
   "source": [
    "### 1.6. Statistics"
   ]
  },
  {
   "cell_type": "code",
   "execution_count": 33,
   "metadata": {
    "collapsed": false
   },
   "outputs": [
    {
     "name": "stdout",
     "output_type": "stream",
     "text": [
      "Median: 0.887968471366\n",
      "Mean: 0.732185773611\n",
      "Std: 0.244333340531\n",
      "Var: 0.0596987812953\n",
      "95th %: 0.962194613452\n"
     ]
    }
   ],
   "source": [
    "# Try setting `X` to any of the above samples!\n",
    "X = X0          \n",
    "\n",
    "print \"Median:\",np.median(X)\n",
    "print \"Mean:\",np.mean(X)\n",
    "print \"Std:\",np.std(X0)\n",
    "print \"Var:\",np.var(X0)\n",
    "print \"95th %:\",np.percentile(X0, q=95)\n",
    "\n",
    "hist = np.histogram(X0)"
   ]
  },
  {
   "cell_type": "markdown",
   "metadata": {
    "collapsed": true
   },
   "source": [
    "### 1.7. **Exercise:**\n",
    "\n",
    "Recall the formula for vanilla linear regression, given a response vector $y$ and a predictor matrix $X$:\n",
    "\n",
    "$$y = X \\beta + \\epsilon$$\n",
    "\n",
    "The Ordinary Least Squares (OLS) solution for $\\beta$ which minimizes the sum of squared residuals is:\n",
    "\n",
    "$$\\hat{\\beta} = (X^{T}X)^{-1}X^{T}y$$\n",
    "\n",
    "Write a function that takes an predictor $X$ matrix a response $y$ vector and returns the OLS solution $\\hat{\\beta}$.\n",
    "\n",
    "*Extra credit:* What does OLS assume about $X$ and $y$ in order to solve for $\\beta$? Write in approppriate checks in the form of conditional statements or **`try/except`** clauses.\n",
    "\n",
    "### <div style=\"color:red\">Solution:</div>"
   ]
  },
  {
   "cell_type": "code",
   "execution_count": 78,
   "metadata": {
    "collapsed": false
   },
   "outputs": [
    {
     "data": {
      "text/plain": [
       "array([10., -6.,  2.])"
      ]
     },
     "execution_count": 78,
     "metadata": {},
     "output_type": "execute_result"
    }
   ],
   "source": [
    "def ols(X, y):\n",
    "    # ASSUMPTION 0: n(X) = n(y)\n",
    "    if X.shape[0] != y.shape[0]:\n",
    "        raise Exception(\"n(X) != n(y)\")\n",
    "    # ASSUMPTION 1: N > M\n",
    "    if X.shape[0] <= X.shape[1]:\n",
    "        raise Exception(\"N <= M\")\n",
    "    # ASSUMPTION 2: linear independence\n",
    "    if np.linalg.matrix_rank(X_) != X.shape[1]:\n",
    "        raise Exception(\"not linearly independent\")\n",
    "    return np.dot(np.dot(np.linalg.inv(np.dot(X.T, X)), X.T), y)\n",
    "\n",
    "# TEST\n",
    "X_ = np.array(\n",
    "   [[1,3,5],\n",
    "    [1,1,0],\n",
    "    [1,1,2],\n",
    "    [1,3,3]]\n",
    ")\n",
    "\n",
    "y_ = np.array([3,5,7,-3]).T\n",
    "\n",
    "ols(X_, y_)"
   ]
  },
  {
   "cell_type": "markdown",
   "metadata": {},
   "source": [
    "### <div style=\"color:purple\">SUMMARY</div>\n",
    "\n",
    "- The **`numpy`** packages services most of your numerical and statistical needs (things that are already part of the **`R`** basis).\n",
    "\n",
    "\n",
    "- Same rules about **`list`** indexing/slicing apply to **`numpy`** objects.\n",
    "\n",
    "\n",
    "- Many different ways of joining/merging vectors/matrices together.\n",
    "\n",
    "\n",
    "- Unlike in **`R`**, the best practice is to *just* stick to the **`array`** type. No need for a million different ways to create vectors/matrices!\n",
    "<br><br>\n",
    "<div style=\"color:gray; text-align:right; font-weight:bold;\">[BACK TO TOP  &#8593;](#toc)</div>"
   ]
  },
  {
   "cell_type": "markdown",
   "metadata": {},
   "source": [
    "## 2. [`Pandas`](https://pandas.pydata.org/): data structures and analysis\n",
    "\n",
    "> **Pandas** enables you to carry out your entire data analysis workflow in Python without having to switch to a more domain specific language like R. Some highlights:\n",
    "> * A fast and efficient DataFrame object for data manipulation with integrated indexing;\n",
    "> * Tools for reading and writing data between in-memory data structures and different formats: CSV, text files, Excel, SQL, etc.\n",
    "> * Time series-functionality\n",
    "> * Highly optimized for performance, with critical code paths written in Cython or C.\n",
    "\n",
    "![Pandas Data Science Nodes](imgs/datasci-dag-pd.png)\n",
    "\n",
    "**`R`** equivalents: **`data.frame`**, **`dplyr`**"
   ]
  },
  {
   "cell_type": "code",
   "execution_count": 79,
   "metadata": {
    "collapsed": true
   },
   "outputs": [],
   "source": [
    "import pandas as pd"
   ]
  },
  {
   "cell_type": "markdown",
   "metadata": {},
   "source": [
    "### 2.1. Reading in data"
   ]
  },
  {
   "cell_type": "code",
   "execution_count": 80,
   "metadata": {
    "collapsed": false
   },
   "outputs": [
    {
     "data": {
      "text/html": [
       "<div>\n",
       "<table border=\"1\" class=\"dataframe\">\n",
       "  <thead>\n",
       "    <tr style=\"text-align: right;\">\n",
       "      <th></th>\n",
       "      <th>StateName</th>\n",
       "      <th>2008</th>\n",
       "      <th>2009</th>\n",
       "      <th>2010</th>\n",
       "      <th>2011</th>\n",
       "      <th>2012</th>\n",
       "      <th>2013</th>\n",
       "      <th>2014</th>\n",
       "      <th>2015</th>\n",
       "      <th>2016</th>\n",
       "      <th>2017</th>\n",
       "      <th>2018</th>\n",
       "    </tr>\n",
       "  </thead>\n",
       "  <tbody>\n",
       "    <tr>\n",
       "      <th>0</th>\n",
       "      <td>Alabama</td>\n",
       "      <td>$6.55</td>\n",
       "      <td>$7.25</td>\n",
       "      <td>$7.25</td>\n",
       "      <td>$7.25</td>\n",
       "      <td>$7.25</td>\n",
       "      <td>$7.25</td>\n",
       "      <td>$7.25</td>\n",
       "      <td>$7.25</td>\n",
       "      <td>$7.25</td>\n",
       "      <td>$7.25</td>\n",
       "      <td>$7.25</td>\n",
       "    </tr>\n",
       "    <tr>\n",
       "      <th>1</th>\n",
       "      <td>Alaska</td>\n",
       "      <td>$7.15</td>\n",
       "      <td>$7.25</td>\n",
       "      <td>$7.75</td>\n",
       "      <td>$7.75</td>\n",
       "      <td>$7.75</td>\n",
       "      <td>$7.75</td>\n",
       "      <td>$7.75</td>\n",
       "      <td>$8.75</td>\n",
       "      <td>$9.75</td>\n",
       "      <td>$9.80</td>\n",
       "      <td>$9.84</td>\n",
       "    </tr>\n",
       "    <tr>\n",
       "      <th>2</th>\n",
       "      <td>Arizona</td>\n",
       "      <td>$6.90</td>\n",
       "      <td>$7.25</td>\n",
       "      <td>$7.25</td>\n",
       "      <td>$7.35</td>\n",
       "      <td>$7.65</td>\n",
       "      <td>$7.80</td>\n",
       "      <td>$7.90</td>\n",
       "      <td>$8.05</td>\n",
       "      <td>$8.05</td>\n",
       "      <td>$10.00</td>\n",
       "      <td>$10.50</td>\n",
       "    </tr>\n",
       "    <tr>\n",
       "      <th>3</th>\n",
       "      <td>Arkansas</td>\n",
       "      <td>$6.25</td>\n",
       "      <td>$7.25</td>\n",
       "      <td>$7.25</td>\n",
       "      <td>$7.25</td>\n",
       "      <td>$7.25</td>\n",
       "      <td>$7.25</td>\n",
       "      <td>$7.25</td>\n",
       "      <td>$7.50</td>\n",
       "      <td>$8.00</td>\n",
       "      <td>$8.50</td>\n",
       "      <td>$8.50</td>\n",
       "    </tr>\n",
       "    <tr>\n",
       "      <th>4</th>\n",
       "      <td>California</td>\n",
       "      <td>$8.00</td>\n",
       "      <td>$8.00</td>\n",
       "      <td>$8.00</td>\n",
       "      <td>$8.00</td>\n",
       "      <td>$8.00</td>\n",
       "      <td>$8.00</td>\n",
       "      <td>$9.00</td>\n",
       "      <td>$9.00</td>\n",
       "      <td>$10.00</td>\n",
       "      <td>$10.50</td>\n",
       "      <td>$11.00</td>\n",
       "    </tr>\n",
       "  </tbody>\n",
       "</table>\n",
       "</div>"
      ],
      "text/plain": [
       "    StateName   2008   2009   2010   2011   2012   2013   2014   2015    2016  \\\n",
       "0     Alabama  $6.55  $7.25  $7.25  $7.25  $7.25  $7.25  $7.25  $7.25   $7.25   \n",
       "1      Alaska  $7.15  $7.25  $7.75  $7.75  $7.75  $7.75  $7.75  $8.75   $9.75   \n",
       "2     Arizona  $6.90  $7.25  $7.25  $7.35  $7.65  $7.80  $7.90  $8.05   $8.05   \n",
       "3    Arkansas  $6.25  $7.25  $7.25  $7.25  $7.25  $7.25  $7.25  $7.50   $8.00   \n",
       "4  California  $8.00  $8.00  $8.00  $8.00  $8.00  $8.00  $9.00  $9.00  $10.00   \n",
       "\n",
       "     2017    2018  \n",
       "0   $7.25   $7.25  \n",
       "1   $9.80   $9.84  \n",
       "2  $10.00  $10.50  \n",
       "3   $8.50   $8.50  \n",
       "4  $10.50  $11.00  "
      ]
     },
     "execution_count": 80,
     "metadata": {},
     "output_type": "execute_result"
    }
   ],
   "source": [
    "pd.read_csv(\"data/state2wages.csv\").head()"
   ]
  },
  {
   "cell_type": "code",
   "execution_count": 81,
   "metadata": {
    "collapsed": false
   },
   "outputs": [
    {
     "data": {
      "text/html": [
       "<div>\n",
       "<table border=\"1\" class=\"dataframe\">\n",
       "  <thead>\n",
       "    <tr style=\"text-align: right;\">\n",
       "      <th></th>\n",
       "      <th>StateName</th>\n",
       "      <th>2008</th>\n",
       "      <th>2009</th>\n",
       "      <th>2010</th>\n",
       "      <th>2011</th>\n",
       "      <th>2012</th>\n",
       "      <th>2013</th>\n",
       "      <th>2014</th>\n",
       "      <th>2015</th>\n",
       "      <th>2016</th>\n",
       "      <th>2017</th>\n",
       "      <th>2018</th>\n",
       "    </tr>\n",
       "  </thead>\n",
       "  <tbody>\n",
       "    <tr>\n",
       "      <th>0</th>\n",
       "      <td>Alabama</td>\n",
       "      <td>6.55</td>\n",
       "      <td>7.25</td>\n",
       "      <td>7.25</td>\n",
       "      <td>7.25</td>\n",
       "      <td>7.25</td>\n",
       "      <td>7.25</td>\n",
       "      <td>7.25</td>\n",
       "      <td>7.25</td>\n",
       "      <td>7.25</td>\n",
       "      <td>7.25</td>\n",
       "      <td>7.25</td>\n",
       "    </tr>\n",
       "    <tr>\n",
       "      <th>1</th>\n",
       "      <td>Alaska</td>\n",
       "      <td>7.15</td>\n",
       "      <td>7.25</td>\n",
       "      <td>7.75</td>\n",
       "      <td>7.75</td>\n",
       "      <td>7.75</td>\n",
       "      <td>7.75</td>\n",
       "      <td>7.75</td>\n",
       "      <td>8.75</td>\n",
       "      <td>9.75</td>\n",
       "      <td>9.80</td>\n",
       "      <td>9.84</td>\n",
       "    </tr>\n",
       "    <tr>\n",
       "      <th>2</th>\n",
       "      <td>Arizona</td>\n",
       "      <td>6.90</td>\n",
       "      <td>7.25</td>\n",
       "      <td>7.25</td>\n",
       "      <td>7.35</td>\n",
       "      <td>7.65</td>\n",
       "      <td>7.80</td>\n",
       "      <td>7.90</td>\n",
       "      <td>8.05</td>\n",
       "      <td>8.05</td>\n",
       "      <td>10.00</td>\n",
       "      <td>10.5</td>\n",
       "    </tr>\n",
       "    <tr>\n",
       "      <th>3</th>\n",
       "      <td>Arkansas</td>\n",
       "      <td>6.25</td>\n",
       "      <td>7.25</td>\n",
       "      <td>7.25</td>\n",
       "      <td>7.25</td>\n",
       "      <td>7.25</td>\n",
       "      <td>7.25</td>\n",
       "      <td>7.25</td>\n",
       "      <td>7.50</td>\n",
       "      <td>8.00</td>\n",
       "      <td>8.50</td>\n",
       "      <td>8.5</td>\n",
       "    </tr>\n",
       "    <tr>\n",
       "      <th>4</th>\n",
       "      <td>California</td>\n",
       "      <td>8.00</td>\n",
       "      <td>8.00</td>\n",
       "      <td>8.00</td>\n",
       "      <td>8.00</td>\n",
       "      <td>8.00</td>\n",
       "      <td>8.00</td>\n",
       "      <td>9.00</td>\n",
       "      <td>9.00</td>\n",
       "      <td>10.00</td>\n",
       "      <td>10.50</td>\n",
       "      <td>11.001</td>\n",
       "    </tr>\n",
       "  </tbody>\n",
       "</table>\n",
       "</div>"
      ],
      "text/plain": [
       "    StateName  2008  2009  2010  2011  2012  2013  2014  2015   2016   2017  \\\n",
       "0     Alabama  6.55  7.25  7.25  7.25  7.25  7.25  7.25  7.25   7.25   7.25   \n",
       "1      Alaska  7.15  7.25  7.75  7.75  7.75  7.75  7.75  8.75   9.75   9.80   \n",
       "2     Arizona  6.90  7.25  7.25  7.35  7.65  7.80  7.90  8.05   8.05  10.00   \n",
       "3    Arkansas  6.25  7.25  7.25  7.25  7.25  7.25  7.25  7.50   8.00   8.50   \n",
       "4  California  8.00  8.00  8.00  8.00  8.00  8.00  9.00  9.00  10.00  10.50   \n",
       "\n",
       "     2018  \n",
       "0    7.25  \n",
       "1    9.84  \n",
       "2    10.5  \n",
       "3     8.5  \n",
       "4  11.001  "
      ]
     },
     "execution_count": 81,
     "metadata": {},
     "output_type": "execute_result"
    }
   ],
   "source": [
    "pd.read_excel(\"data/state2wages.xlsx\", sheet=0).head()"
   ]
  },
  {
   "cell_type": "code",
   "execution_count": 82,
   "metadata": {
    "collapsed": false
   },
   "outputs": [
    {
     "data": {
      "text/html": [
       "<div>\n",
       "<table border=\"1\" class=\"dataframe\">\n",
       "  <thead>\n",
       "    <tr style=\"text-align: right;\">\n",
       "      <th></th>\n",
       "      <th>2008</th>\n",
       "      <th>2009</th>\n",
       "      <th>2010</th>\n",
       "      <th>2011</th>\n",
       "      <th>2012</th>\n",
       "      <th>2013</th>\n",
       "      <th>2014</th>\n",
       "      <th>2015</th>\n",
       "      <th>2016</th>\n",
       "      <th>2017</th>\n",
       "      <th>2018</th>\n",
       "    </tr>\n",
       "  </thead>\n",
       "  <tbody>\n",
       "    <tr>\n",
       "      <th>Alabama</th>\n",
       "      <td>$6.55</td>\n",
       "      <td>$7.25</td>\n",
       "      <td>$7.25</td>\n",
       "      <td>$7.25</td>\n",
       "      <td>$7.25</td>\n",
       "      <td>$7.25</td>\n",
       "      <td>$7.25</td>\n",
       "      <td>$7.25</td>\n",
       "      <td>$7.25</td>\n",
       "      <td>$7.25</td>\n",
       "      <td>$7.25</td>\n",
       "    </tr>\n",
       "    <tr>\n",
       "      <th>Alaska</th>\n",
       "      <td>$7.15</td>\n",
       "      <td>$7.25</td>\n",
       "      <td>$7.75</td>\n",
       "      <td>$7.75</td>\n",
       "      <td>$7.75</td>\n",
       "      <td>$7.75</td>\n",
       "      <td>$7.75</td>\n",
       "      <td>$8.75</td>\n",
       "      <td>$9.75</td>\n",
       "      <td>$9.80</td>\n",
       "      <td>$9.84</td>\n",
       "    </tr>\n",
       "    <tr>\n",
       "      <th>Arizona</th>\n",
       "      <td>$6.90</td>\n",
       "      <td>$7.25</td>\n",
       "      <td>$7.25</td>\n",
       "      <td>$7.35</td>\n",
       "      <td>$7.65</td>\n",
       "      <td>$7.80</td>\n",
       "      <td>$7.90</td>\n",
       "      <td>$8.05</td>\n",
       "      <td>$8.05</td>\n",
       "      <td>$10.00</td>\n",
       "      <td>$10.50</td>\n",
       "    </tr>\n",
       "    <tr>\n",
       "      <th>Arkansas</th>\n",
       "      <td>$6.25</td>\n",
       "      <td>$7.25</td>\n",
       "      <td>$7.25</td>\n",
       "      <td>$7.25</td>\n",
       "      <td>$7.25</td>\n",
       "      <td>$7.25</td>\n",
       "      <td>$7.25</td>\n",
       "      <td>$7.50</td>\n",
       "      <td>$8.00</td>\n",
       "      <td>$8.50</td>\n",
       "      <td>$8.50</td>\n",
       "    </tr>\n",
       "    <tr>\n",
       "      <th>California</th>\n",
       "      <td>$8.00</td>\n",
       "      <td>$8.00</td>\n",
       "      <td>$8.00</td>\n",
       "      <td>$8.00</td>\n",
       "      <td>$8.00</td>\n",
       "      <td>$8.00</td>\n",
       "      <td>$9.00</td>\n",
       "      <td>$9.00</td>\n",
       "      <td>$10.00</td>\n",
       "      <td>$10.50</td>\n",
       "      <td>$11.00</td>\n",
       "    </tr>\n",
       "  </tbody>\n",
       "</table>\n",
       "</div>"
      ],
      "text/plain": [
       "             2008   2009   2010   2011   2012   2013   2014   2015    2016  \\\n",
       "Alabama     $6.55  $7.25  $7.25  $7.25  $7.25  $7.25  $7.25  $7.25   $7.25   \n",
       "Alaska      $7.15  $7.25  $7.75  $7.75  $7.75  $7.75  $7.75  $8.75   $9.75   \n",
       "Arizona     $6.90  $7.25  $7.25  $7.35  $7.65  $7.80  $7.90  $8.05   $8.05   \n",
       "Arkansas    $6.25  $7.25  $7.25  $7.25  $7.25  $7.25  $7.25  $7.50   $8.00   \n",
       "California  $8.00  $8.00  $8.00  $8.00  $8.00  $8.00  $9.00  $9.00  $10.00   \n",
       "\n",
       "              2017    2018  \n",
       "Alabama      $7.25   $7.25  \n",
       "Alaska       $9.80   $9.84  \n",
       "Arizona     $10.00  $10.50  \n",
       "Arkansas     $8.50   $8.50  \n",
       "California  $10.50  $11.00  "
      ]
     },
     "execution_count": 82,
     "metadata": {},
     "output_type": "execute_result"
    }
   ],
   "source": [
    "pd.read_json(\"data/state2wages.json\", orient=\"index\").head()"
   ]
  },
  {
   "cell_type": "markdown",
   "metadata": {},
   "source": [
    "**TIP:** The **`.describe()`** method can be used to create summary statistics on any dataframe."
   ]
  },
  {
   "cell_type": "markdown",
   "metadata": {},
   "source": [
    "### 2.2. Indexing / slicing / filtering a dataframe\n",
    "\n",
    "The **index** of your dataframe uniquely \"names\" each row and will determine how you filter rows. By default, the index of any dataframe is simply an array of row numbers assigned during creation."
   ]
  },
  {
   "cell_type": "code",
   "execution_count": 83,
   "metadata": {
    "collapsed": false
   },
   "outputs": [
    {
     "data": {
      "text/plain": [
       "RangeIndex(start=0, stop=52, step=1)"
      ]
     },
     "metadata": {},
     "output_type": "display_data"
    }
   ],
   "source": [
    "df = pd.read_csv(\"data/state2wages.csv\")\n",
    "display(df.index)"
   ]
  },
  {
   "cell_type": "markdown",
   "metadata": {},
   "source": [
    "Although we can stick with the range index, we may also choose **`\"State\"`** to be our index, since it uniquely names each row:"
   ]
  },
  {
   "cell_type": "code",
   "execution_count": 84,
   "metadata": {
    "collapsed": false
   },
   "outputs": [
    {
     "data": {
      "text/html": [
       "<div>\n",
       "<table border=\"1\" class=\"dataframe\">\n",
       "  <thead>\n",
       "    <tr style=\"text-align: right;\">\n",
       "      <th></th>\n",
       "      <th>2008</th>\n",
       "      <th>2009</th>\n",
       "      <th>2010</th>\n",
       "      <th>2011</th>\n",
       "      <th>2012</th>\n",
       "      <th>2013</th>\n",
       "      <th>2014</th>\n",
       "      <th>2015</th>\n",
       "      <th>2016</th>\n",
       "      <th>2017</th>\n",
       "      <th>2018</th>\n",
       "    </tr>\n",
       "    <tr>\n",
       "      <th>StateName</th>\n",
       "      <th></th>\n",
       "      <th></th>\n",
       "      <th></th>\n",
       "      <th></th>\n",
       "      <th></th>\n",
       "      <th></th>\n",
       "      <th></th>\n",
       "      <th></th>\n",
       "      <th></th>\n",
       "      <th></th>\n",
       "      <th></th>\n",
       "    </tr>\n",
       "  </thead>\n",
       "  <tbody>\n",
       "    <tr>\n",
       "      <th>Alabama</th>\n",
       "      <td>$6.55</td>\n",
       "      <td>$7.25</td>\n",
       "      <td>$7.25</td>\n",
       "      <td>$7.25</td>\n",
       "      <td>$7.25</td>\n",
       "      <td>$7.25</td>\n",
       "      <td>$7.25</td>\n",
       "      <td>$7.25</td>\n",
       "      <td>$7.25</td>\n",
       "      <td>$7.25</td>\n",
       "      <td>$7.25</td>\n",
       "    </tr>\n",
       "    <tr>\n",
       "      <th>Alaska</th>\n",
       "      <td>$7.15</td>\n",
       "      <td>$7.25</td>\n",
       "      <td>$7.75</td>\n",
       "      <td>$7.75</td>\n",
       "      <td>$7.75</td>\n",
       "      <td>$7.75</td>\n",
       "      <td>$7.75</td>\n",
       "      <td>$8.75</td>\n",
       "      <td>$9.75</td>\n",
       "      <td>$9.80</td>\n",
       "      <td>$9.84</td>\n",
       "    </tr>\n",
       "    <tr>\n",
       "      <th>Arizona</th>\n",
       "      <td>$6.90</td>\n",
       "      <td>$7.25</td>\n",
       "      <td>$7.25</td>\n",
       "      <td>$7.35</td>\n",
       "      <td>$7.65</td>\n",
       "      <td>$7.80</td>\n",
       "      <td>$7.90</td>\n",
       "      <td>$8.05</td>\n",
       "      <td>$8.05</td>\n",
       "      <td>$10.00</td>\n",
       "      <td>$10.50</td>\n",
       "    </tr>\n",
       "    <tr>\n",
       "      <th>Arkansas</th>\n",
       "      <td>$6.25</td>\n",
       "      <td>$7.25</td>\n",
       "      <td>$7.25</td>\n",
       "      <td>$7.25</td>\n",
       "      <td>$7.25</td>\n",
       "      <td>$7.25</td>\n",
       "      <td>$7.25</td>\n",
       "      <td>$7.50</td>\n",
       "      <td>$8.00</td>\n",
       "      <td>$8.50</td>\n",
       "      <td>$8.50</td>\n",
       "    </tr>\n",
       "    <tr>\n",
       "      <th>California</th>\n",
       "      <td>$8.00</td>\n",
       "      <td>$8.00</td>\n",
       "      <td>$8.00</td>\n",
       "      <td>$8.00</td>\n",
       "      <td>$8.00</td>\n",
       "      <td>$8.00</td>\n",
       "      <td>$9.00</td>\n",
       "      <td>$9.00</td>\n",
       "      <td>$10.00</td>\n",
       "      <td>$10.50</td>\n",
       "      <td>$11.00</td>\n",
       "    </tr>\n",
       "  </tbody>\n",
       "</table>\n",
       "</div>"
      ],
      "text/plain": [
       "             2008   2009   2010   2011   2012   2013   2014   2015    2016  \\\n",
       "StateName                                                                    \n",
       "Alabama     $6.55  $7.25  $7.25  $7.25  $7.25  $7.25  $7.25  $7.25   $7.25   \n",
       "Alaska      $7.15  $7.25  $7.75  $7.75  $7.75  $7.75  $7.75  $8.75   $9.75   \n",
       "Arizona     $6.90  $7.25  $7.25  $7.35  $7.65  $7.80  $7.90  $8.05   $8.05   \n",
       "Arkansas    $6.25  $7.25  $7.25  $7.25  $7.25  $7.25  $7.25  $7.50   $8.00   \n",
       "California  $8.00  $8.00  $8.00  $8.00  $8.00  $8.00  $9.00  $9.00  $10.00   \n",
       "\n",
       "              2017    2018  \n",
       "StateName                   \n",
       "Alabama      $7.25   $7.25  \n",
       "Alaska       $9.80   $9.84  \n",
       "Arizona     $10.00  $10.50  \n",
       "Arkansas     $8.50   $8.50  \n",
       "California  $10.50  $11.00  "
      ]
     },
     "metadata": {},
     "output_type": "display_data"
    }
   ],
   "source": [
    "df = df.set_index([\"StateName\"], drop=True)\n",
    "display(df.head(5))"
   ]
  },
  {
   "cell_type": "markdown",
   "metadata": {},
   "source": [
    "**TIP:** If you want to reset your dataframe's index to simply enumerate row number, use the **`.reset_index()`** function.\n",
    "\n",
    "E.g. **`df = df.reset_index()`**\n",
    "\n",
    "The current index on the dataframe will just turn into another column."
   ]
  },
  {
   "cell_type": "code",
   "execution_count": 85,
   "metadata": {
    "collapsed": false
   },
   "outputs": [
    {
     "data": {
      "text/html": [
       "<div>\n",
       "<table border=\"1\" class=\"dataframe\">\n",
       "  <thead>\n",
       "    <tr style=\"text-align: right;\">\n",
       "      <th></th>\n",
       "      <th>2008</th>\n",
       "      <th>2018</th>\n",
       "    </tr>\n",
       "    <tr>\n",
       "      <th>StateName</th>\n",
       "      <th></th>\n",
       "      <th></th>\n",
       "    </tr>\n",
       "  </thead>\n",
       "  <tbody>\n",
       "    <tr>\n",
       "      <th>Alabama</th>\n",
       "      <td>$6.55</td>\n",
       "      <td>$7.25</td>\n",
       "    </tr>\n",
       "    <tr>\n",
       "      <th>Alaska</th>\n",
       "      <td>$7.15</td>\n",
       "      <td>$9.84</td>\n",
       "    </tr>\n",
       "    <tr>\n",
       "      <th>Arizona</th>\n",
       "      <td>$6.90</td>\n",
       "      <td>$10.50</td>\n",
       "    </tr>\n",
       "    <tr>\n",
       "      <th>Arkansas</th>\n",
       "      <td>$6.25</td>\n",
       "      <td>$8.50</td>\n",
       "    </tr>\n",
       "    <tr>\n",
       "      <th>California</th>\n",
       "      <td>$8.00</td>\n",
       "      <td>$11.00</td>\n",
       "    </tr>\n",
       "  </tbody>\n",
       "</table>\n",
       "</div>"
      ],
      "text/plain": [
       "             2008    2018\n",
       "StateName                \n",
       "Alabama     $6.55   $7.25\n",
       "Alaska      $7.15   $9.84\n",
       "Arizona     $6.90  $10.50\n",
       "Arkansas    $6.25   $8.50\n",
       "California  $8.00  $11.00"
      ]
     },
     "metadata": {},
     "output_type": "display_data"
    }
   ],
   "source": [
    "# \"quick view\"\n",
    "display(df[[\"2008\", \"2018\"]].head())"
   ]
  },
  {
   "cell_type": "markdown",
   "metadata": {},
   "source": [
    "**TIP:** Just like for Python dictionaries, you can access a dataframe column (e.g. with name **`Col`**) using **`df.Col`** instead of **`df[\"Col\"]`**."
   ]
  },
  {
   "cell_type": "markdown",
   "metadata": {},
   "source": [
    "Based on a dataframe's index, you have the following ways of filtering the dataframe beyond just a \"quick view\":"
   ]
  },
  {
   "cell_type": "code",
   "execution_count": 86,
   "metadata": {
    "collapsed": false
   },
   "outputs": [
    {
     "data": {
      "text/html": [
       "<div>\n",
       "<table border=\"1\" class=\"dataframe\">\n",
       "  <thead>\n",
       "    <tr style=\"text-align: right;\">\n",
       "      <th></th>\n",
       "      <th>2008</th>\n",
       "      <th>2009</th>\n",
       "      <th>2010</th>\n",
       "      <th>2011</th>\n",
       "      <th>2012</th>\n",
       "    </tr>\n",
       "    <tr>\n",
       "      <th>StateName</th>\n",
       "      <th></th>\n",
       "      <th></th>\n",
       "      <th></th>\n",
       "      <th></th>\n",
       "      <th></th>\n",
       "    </tr>\n",
       "  </thead>\n",
       "  <tbody>\n",
       "    <tr>\n",
       "      <th>Alaska</th>\n",
       "      <td>$7.15</td>\n",
       "      <td>$7.25</td>\n",
       "      <td>$7.75</td>\n",
       "      <td>$7.75</td>\n",
       "      <td>$7.75</td>\n",
       "    </tr>\n",
       "    <tr>\n",
       "      <th>Arizona</th>\n",
       "      <td>$6.90</td>\n",
       "      <td>$7.25</td>\n",
       "      <td>$7.25</td>\n",
       "      <td>$7.35</td>\n",
       "      <td>$7.65</td>\n",
       "    </tr>\n",
       "    <tr>\n",
       "      <th>Arkansas</th>\n",
       "      <td>$6.25</td>\n",
       "      <td>$7.25</td>\n",
       "      <td>$7.25</td>\n",
       "      <td>$7.25</td>\n",
       "      <td>$7.25</td>\n",
       "    </tr>\n",
       "    <tr>\n",
       "      <th>California</th>\n",
       "      <td>$8.00</td>\n",
       "      <td>$8.00</td>\n",
       "      <td>$8.00</td>\n",
       "      <td>$8.00</td>\n",
       "      <td>$8.00</td>\n",
       "    </tr>\n",
       "  </tbody>\n",
       "</table>\n",
       "</div>"
      ],
      "text/plain": [
       "             2008   2009   2010   2011   2012\n",
       "StateName                                    \n",
       "Alaska      $7.15  $7.25  $7.75  $7.75  $7.75\n",
       "Arizona     $6.90  $7.25  $7.25  $7.35  $7.65\n",
       "Arkansas    $6.25  $7.25  $7.25  $7.25  $7.25\n",
       "California  $8.00  $8.00  $8.00  $8.00  $8.00"
      ]
     },
     "execution_count": 86,
     "metadata": {},
     "output_type": "execute_result"
    }
   ],
   "source": [
    "# .iloc : Filter on POSITION\n",
    "df.iloc[1:5, :5]"
   ]
  },
  {
   "cell_type": "code",
   "execution_count": 87,
   "metadata": {
    "collapsed": false
   },
   "outputs": [
    {
     "data": {
      "text/html": [
       "<div>\n",
       "<table border=\"1\" class=\"dataframe\">\n",
       "  <thead>\n",
       "    <tr style=\"text-align: right;\">\n",
       "      <th></th>\n",
       "      <th>2009</th>\n",
       "      <th>2010</th>\n",
       "    </tr>\n",
       "    <tr>\n",
       "      <th>StateName</th>\n",
       "      <th></th>\n",
       "      <th></th>\n",
       "    </tr>\n",
       "  </thead>\n",
       "  <tbody>\n",
       "    <tr>\n",
       "      <th>Massachusetts</th>\n",
       "      <td>$8.00</td>\n",
       "      <td>$8.00</td>\n",
       "    </tr>\n",
       "    <tr>\n",
       "      <th>Michigan</th>\n",
       "      <td>$7.40</td>\n",
       "      <td>$7.40</td>\n",
       "    </tr>\n",
       "    <tr>\n",
       "      <th>Minnesota</th>\n",
       "      <td>$6.15</td>\n",
       "      <td>$6.15</td>\n",
       "    </tr>\n",
       "    <tr>\n",
       "      <th>Mississippi</th>\n",
       "      <td>$7.25</td>\n",
       "      <td>$7.25</td>\n",
       "    </tr>\n",
       "    <tr>\n",
       "      <th>Missouri</th>\n",
       "      <td>$7.25</td>\n",
       "      <td>$7.25</td>\n",
       "    </tr>\n",
       "    <tr>\n",
       "      <th>Montana</th>\n",
       "      <td>$7.25</td>\n",
       "      <td>$7.25</td>\n",
       "    </tr>\n",
       "    <tr>\n",
       "      <th>Nebraska</th>\n",
       "      <td>$7.25</td>\n",
       "      <td>$7.25</td>\n",
       "    </tr>\n",
       "  </tbody>\n",
       "</table>\n",
       "</div>"
      ],
      "text/plain": [
       "                2009   2010\n",
       "StateName                  \n",
       "Massachusetts  $8.00  $8.00\n",
       "Michigan       $7.40  $7.40\n",
       "Minnesota      $6.15  $6.15\n",
       "Mississippi    $7.25  $7.25\n",
       "Missouri       $7.25  $7.25\n",
       "Montana        $7.25  $7.25\n",
       "Nebraska       $7.25  $7.25"
      ]
     },
     "execution_count": 87,
     "metadata": {},
     "output_type": "execute_result"
    }
   ],
   "source": [
    "# .loc : Filter on LABEL\n",
    "df.loc[\"Massachusetts\":\"Nebraska\", [\"2009\", \"2010\"]]"
   ]
  },
  {
   "cell_type": "code",
   "execution_count": 88,
   "metadata": {
    "collapsed": false
   },
   "outputs": [
    {
     "data": {
      "text/html": [
       "<div>\n",
       "<table border=\"1\" class=\"dataframe\">\n",
       "  <thead>\n",
       "    <tr style=\"text-align: right;\">\n",
       "      <th></th>\n",
       "      <th>2008</th>\n",
       "      <th>2009</th>\n",
       "      <th>2010</th>\n",
       "      <th>2011</th>\n",
       "      <th>2012</th>\n",
       "      <th>2013</th>\n",
       "      <th>2014</th>\n",
       "      <th>2015</th>\n",
       "      <th>2016</th>\n",
       "      <th>2017</th>\n",
       "    </tr>\n",
       "    <tr>\n",
       "      <th>StateName</th>\n",
       "      <th></th>\n",
       "      <th></th>\n",
       "      <th></th>\n",
       "      <th></th>\n",
       "      <th></th>\n",
       "      <th></th>\n",
       "      <th></th>\n",
       "      <th></th>\n",
       "      <th></th>\n",
       "      <th></th>\n",
       "    </tr>\n",
       "  </thead>\n",
       "  <tbody>\n",
       "    <tr>\n",
       "      <th>Massachusetts</th>\n",
       "      <td>$8.00</td>\n",
       "      <td>$8.00</td>\n",
       "      <td>$8.00</td>\n",
       "      <td>$8.00</td>\n",
       "      <td>$8.00</td>\n",
       "      <td>$8.00</td>\n",
       "      <td>$8.00</td>\n",
       "      <td>$9.00</td>\n",
       "      <td>$10.00</td>\n",
       "      <td>$11.00</td>\n",
       "    </tr>\n",
       "    <tr>\n",
       "      <th>California</th>\n",
       "      <td>$8.00</td>\n",
       "      <td>$8.00</td>\n",
       "      <td>$8.00</td>\n",
       "      <td>$8.00</td>\n",
       "      <td>$8.00</td>\n",
       "      <td>$8.00</td>\n",
       "      <td>$9.00</td>\n",
       "      <td>$9.00</td>\n",
       "      <td>$10.00</td>\n",
       "      <td>$10.50</td>\n",
       "    </tr>\n",
       "  </tbody>\n",
       "</table>\n",
       "</div>"
      ],
      "text/plain": [
       "                2008   2009   2010   2011   2012   2013   2014   2015    2016  \\\n",
       "StateName                                                                       \n",
       "Massachusetts  $8.00  $8.00  $8.00  $8.00  $8.00  $8.00  $8.00  $9.00  $10.00   \n",
       "California     $8.00  $8.00  $8.00  $8.00  $8.00  $8.00  $9.00  $9.00  $10.00   \n",
       "\n",
       "                 2017  \n",
       "StateName              \n",
       "Massachusetts  $11.00  \n",
       "California     $10.50  "
      ]
     },
     "execution_count": 88,
     "metadata": {},
     "output_type": "execute_result"
    }
   ],
   "source": [
    "# .ix : Filter on either POSITION or LABEL\n",
    "df.ix[[\"Massachusetts\", \"California\"], 0:10]"
   ]
  },
  {
   "cell_type": "code",
   "execution_count": 89,
   "metadata": {
    "collapsed": false
   },
   "outputs": [
    {
     "data": {
      "text/html": [
       "<div>\n",
       "<table border=\"1\" class=\"dataframe\">\n",
       "  <thead>\n",
       "    <tr style=\"text-align: right;\">\n",
       "      <th></th>\n",
       "      <th>2008</th>\n",
       "      <th>2009</th>\n",
       "      <th>2010</th>\n",
       "      <th>2011</th>\n",
       "      <th>2012</th>\n",
       "      <th>2013</th>\n",
       "      <th>2014</th>\n",
       "      <th>2015</th>\n",
       "      <th>2016</th>\n",
       "      <th>2017</th>\n",
       "      <th>2018</th>\n",
       "    </tr>\n",
       "    <tr>\n",
       "      <th>StateName</th>\n",
       "      <th></th>\n",
       "      <th></th>\n",
       "      <th></th>\n",
       "      <th></th>\n",
       "      <th></th>\n",
       "      <th></th>\n",
       "      <th></th>\n",
       "      <th></th>\n",
       "      <th></th>\n",
       "      <th></th>\n",
       "      <th></th>\n",
       "    </tr>\n",
       "  </thead>\n",
       "  <tbody>\n",
       "    <tr>\n",
       "      <th>New Mexico</th>\n",
       "      <td>$6.50</td>\n",
       "      <td>$7.50</td>\n",
       "      <td>$7.50</td>\n",
       "      <td>$7.50</td>\n",
       "      <td>$7.50</td>\n",
       "      <td>$7.50</td>\n",
       "      <td>$7.50</td>\n",
       "      <td>$7.50</td>\n",
       "      <td>$7.50</td>\n",
       "      <td>$7.50</td>\n",
       "      <td>TBD</td>\n",
       "    </tr>\n",
       "    <tr>\n",
       "      <th>Texas</th>\n",
       "      <td>$6.55</td>\n",
       "      <td>$7.25</td>\n",
       "      <td>$7.25</td>\n",
       "      <td>$7.25</td>\n",
       "      <td>$7.25</td>\n",
       "      <td>$7.25</td>\n",
       "      <td>$7.25</td>\n",
       "      <td>$7.25</td>\n",
       "      <td>$7.25</td>\n",
       "      <td>$7.25</td>\n",
       "      <td>$7.25</td>\n",
       "    </tr>\n",
       "  </tbody>\n",
       "</table>\n",
       "</div>"
      ],
      "text/plain": [
       "             2008   2009   2010   2011   2012   2013   2014   2015   2016  \\\n",
       "StateName                                                                   \n",
       "New Mexico  $6.50  $7.50  $7.50  $7.50  $7.50  $7.50  $7.50  $7.50  $7.50   \n",
       "Texas       $6.55  $7.25  $7.25  $7.25  $7.25  $7.25  $7.25  $7.25  $7.25   \n",
       "\n",
       "             2017   2018  \n",
       "StateName                 \n",
       "New Mexico  $7.50    TBD  \n",
       "Texas       $7.25  $7.25  "
      ]
     },
     "execution_count": 89,
     "metadata": {},
     "output_type": "execute_result"
    }
   ],
   "source": [
    "# .[any] : Filter using BOOLEAN array \n",
    "df.loc[df.index.str.contains(\"x\"),:]"
   ]
  },
  {
   "cell_type": "code",
   "execution_count": 90,
   "metadata": {
    "collapsed": false
   },
   "outputs": [],
   "source": [
    "# Can WRITE as well as READ on filter\n",
    "df.loc[df.index == \"New Mexico\", \"2018\"] = \"$7.50\""
   ]
  },
  {
   "cell_type": "markdown",
   "metadata": {},
   "source": [
    "Use the following table as a guide when deciding which slicing function to use:\n",
    "\n",
    "#### 2.3.1 <u>Guide to `Pandas` Indexing Functions</u>\n",
    "\n",
    "<table>\n",
    "  <tr>\n",
    "    <th></th>\n",
    "    <th>**`.iloc` [position-based filter]**</th>\n",
    "    <th>**`.loc` [label-based filter]**</th>\n",
    "    <th>**`.ix` [mixed filter]**</th>\n",
    "  </tr>\n",
    "  <tr>\n",
    "    <td>**Row arguments**<br>(df has **`int`** index)</td>\n",
    "    <td>- Single row's position (**`int`**)<br>- List/array of row positions<br>- Slice of row positions<br>- Bool list/array of row positions to include<br></td>\n",
    "    <td>- Single row label (**`int`**)<br>- List/array of row integer labels<br>- Slice of row integer labels<br>- Bool list/array of row labels to include<br></td>\n",
    "    <td>(only **`.loc`** arguments supported)</td>\n",
    "  </tr>\n",
    "  <tr>\n",
    "    <td>**Row arguments**<br>(df has **`str`** index)</td>\n",
    "    <td>- Single row's position (**`int`**)<br>- List/array of row positions<br>- Slice of row positions<br>- Bool list/array of row positions to include</td>\n",
    "    <td>- Single row label (**`str`**)<br>- List/array of row string labels<br>- Slice of row string labels<br>- Bool list/array of row labels to include<br></td>\n",
    "    <td>(checks for **`.loc`** arguments; <br>falls back on **`.iloc`** arguments)</td>\n",
    "  </tr>\n",
    "  <tr>\n",
    "    <td>**Column arguments**</td>\n",
    "    <td>- Single col's integer position (**`int`**)<br>- List/array of col integer positions<br>- Slice of col positions<br>- Bool list/array of col positions to include<br></td>\n",
    "    <td>- Single col name (**`str`**)<br>- List/array of col names<br>- Slice of col names<br>- Bool list/array of col names to include</td>\n",
    "    <td>(checks for **`.loc`** arguments; <br>falls back on **`.iloc`** arguments)</td>\n",
    "  </tr>\n",
    "</table>"
   ]
  },
  {
   "cell_type": "markdown",
   "metadata": {},
   "source": [
    "### 2.3. Data cleaning"
   ]
  },
  {
   "cell_type": "code",
   "execution_count": null,
   "metadata": {
    "collapsed": true
   },
   "outputs": [],
   "source": [
    "df2 = df.copy()"
   ]
  },
  {
   "cell_type": "code",
   "execution_count": null,
   "metadata": {
    "collapsed": false
   },
   "outputs": [],
   "source": [
    "# APPLY a fxn to one column\n",
    "df2[\"2018\"] = df2[\"2018\"].apply(lambda s: s.split(\".\")[0], 1)\n",
    "display(df2[\"2018\"].head())"
   ]
  },
  {
   "cell_type": "code",
   "execution_count": null,
   "metadata": {
    "collapsed": false
   },
   "outputs": [],
   "source": [
    "# APPLY a fxn to multiple columns\n",
    "df2.ix[:,\"2008\":\"2018\"].apply(lambda row: map(round_down, row), axis=1)\n",
    "display(df2.head())"
   ]
  },
  {
   "cell_type": "markdown",
   "metadata": {},
   "source": [
    "#### 2.3.1 Exercise:\n",
    "\n",
    "Run an **`.apply()`** function on **`df`** to convert each string value (e.g. **`\"$7.50\"`**) to a floating point number rounded to the nearest 10 cents.\n",
    "\n",
    "#### <div style=\"color:red\">Solution:</div>"
   ]
  },
  {
   "cell_type": "code",
   "execution_count": 119,
   "metadata": {
    "collapsed": false
   },
   "outputs": [
    {
     "data": {
      "text/html": [
       "<div>\n",
       "<table border=\"1\" class=\"dataframe\">\n",
       "  <thead>\n",
       "    <tr style=\"text-align: right;\">\n",
       "      <th></th>\n",
       "      <th>2008</th>\n",
       "      <th>2009</th>\n",
       "      <th>2010</th>\n",
       "      <th>2011</th>\n",
       "      <th>2012</th>\n",
       "      <th>2013</th>\n",
       "      <th>2014</th>\n",
       "      <th>2015</th>\n",
       "      <th>2016</th>\n",
       "      <th>2017</th>\n",
       "      <th>2018</th>\n",
       "    </tr>\n",
       "    <tr>\n",
       "      <th>StateName</th>\n",
       "      <th></th>\n",
       "      <th></th>\n",
       "      <th></th>\n",
       "      <th></th>\n",
       "      <th></th>\n",
       "      <th></th>\n",
       "      <th></th>\n",
       "      <th></th>\n",
       "      <th></th>\n",
       "      <th></th>\n",
       "      <th></th>\n",
       "    </tr>\n",
       "  </thead>\n",
       "  <tbody>\n",
       "    <tr>\n",
       "      <th>Alabama</th>\n",
       "      <td>6.55</td>\n",
       "      <td>7.25</td>\n",
       "      <td>7.25</td>\n",
       "      <td>7.25</td>\n",
       "      <td>7.25</td>\n",
       "      <td>7.25</td>\n",
       "      <td>7.25</td>\n",
       "      <td>7.25</td>\n",
       "      <td>7.25</td>\n",
       "      <td>7.25</td>\n",
       "      <td>7.25</td>\n",
       "    </tr>\n",
       "    <tr>\n",
       "      <th>Alaska</th>\n",
       "      <td>7.15</td>\n",
       "      <td>7.25</td>\n",
       "      <td>7.75</td>\n",
       "      <td>7.75</td>\n",
       "      <td>7.75</td>\n",
       "      <td>7.75</td>\n",
       "      <td>7.75</td>\n",
       "      <td>8.75</td>\n",
       "      <td>9.75</td>\n",
       "      <td>9.80</td>\n",
       "      <td>9.84</td>\n",
       "    </tr>\n",
       "    <tr>\n",
       "      <th>Arizona</th>\n",
       "      <td>6.90</td>\n",
       "      <td>7.25</td>\n",
       "      <td>7.25</td>\n",
       "      <td>7.35</td>\n",
       "      <td>7.65</td>\n",
       "      <td>7.80</td>\n",
       "      <td>7.90</td>\n",
       "      <td>8.05</td>\n",
       "      <td>8.05</td>\n",
       "      <td>10.00</td>\n",
       "      <td>10.50</td>\n",
       "    </tr>\n",
       "    <tr>\n",
       "      <th>Arkansas</th>\n",
       "      <td>6.25</td>\n",
       "      <td>7.25</td>\n",
       "      <td>7.25</td>\n",
       "      <td>7.25</td>\n",
       "      <td>7.25</td>\n",
       "      <td>7.25</td>\n",
       "      <td>7.25</td>\n",
       "      <td>7.50</td>\n",
       "      <td>8.00</td>\n",
       "      <td>8.50</td>\n",
       "      <td>8.50</td>\n",
       "    </tr>\n",
       "    <tr>\n",
       "      <th>California</th>\n",
       "      <td>8.00</td>\n",
       "      <td>8.00</td>\n",
       "      <td>8.00</td>\n",
       "      <td>8.00</td>\n",
       "      <td>8.00</td>\n",
       "      <td>8.00</td>\n",
       "      <td>9.00</td>\n",
       "      <td>9.00</td>\n",
       "      <td>10.00</td>\n",
       "      <td>10.50</td>\n",
       "      <td>11.00</td>\n",
       "    </tr>\n",
       "  </tbody>\n",
       "</table>\n",
       "</div>"
      ],
      "text/plain": [
       "            2008  2009  2010  2011  2012  2013  2014  2015   2016   2017  \\\n",
       "StateName                                                                  \n",
       "Alabama     6.55  7.25  7.25  7.25  7.25  7.25  7.25  7.25   7.25   7.25   \n",
       "Alaska      7.15  7.25  7.75  7.75  7.75  7.75  7.75  8.75   9.75   9.80   \n",
       "Arizona     6.90  7.25  7.25  7.35  7.65  7.80  7.90  8.05   8.05  10.00   \n",
       "Arkansas    6.25  7.25  7.25  7.25  7.25  7.25  7.25  7.50   8.00   8.50   \n",
       "California  8.00  8.00  8.00  8.00  8.00  8.00  9.00  9.00  10.00  10.50   \n",
       "\n",
       "             2018  \n",
       "StateName          \n",
       "Alabama      7.25  \n",
       "Alaska       9.84  \n",
       "Arizona     10.50  \n",
       "Arkansas     8.50  \n",
       "California  11.00  "
      ]
     },
     "metadata": {},
     "output_type": "display_data"
    }
   ],
   "source": [
    "df.ix[:,\"2008\":\"2018\"] = df.ix[:,\"2008\":\"2018\"].apply(lambda row: map(lambda cell: float(cell.strip(\"$\")), row), 1)\n",
    "display(df.head())"
   ]
  },
  {
   "cell_type": "markdown",
   "metadata": {},
   "source": [
    "### 2.4. Merging dataframes\n",
    "\n",
    "Let's combine our minimum wage data with our (1.) region data and (2.) state party majority data!"
   ]
  },
  {
   "cell_type": "code",
   "execution_count": 120,
   "metadata": {
    "collapsed": false
   },
   "outputs": [],
   "source": [
    "wage_df     = df.copy()\n",
    "party_df    = pd.read_csv(\"data/state2party2017.csv\")\n",
    "region_df   = pd.read_csv(\"data/region2states.csv\")\n",
    "state_df    = pd.read_csv(\"data/code2name.csv\")"
   ]
  },
  {
   "cell_type": "markdown",
   "metadata": {},
   "source": [
    "<div class=\"container\">\n",
    "\n",
    "    <div class=\"row\" style=\"font-size:8pt\">\n",
    "      <div class=\"table-responsive col-lg-2 col-xs-2\">\n",
    "        **`wage_df`:**\n",
    "        <table border=\"1\" class=\"dataframe\">\n",
    "          <thead>\n",
    "            <tr>\n",
    "              <th></th>\n",
    "              <th>2018</th>\n",
    "            </tr>\n",
    "            <tr>\n",
    "              <th>State</th>\n",
    "              <th></th>\n",
    "            </tr>\n",
    "          </thead>\n",
    "          <tbody>\n",
    "            <tr>\n",
    "              <th>Alabama</th>\n",
    "              <td>\\$7</td>\n",
    "            </tr>\n",
    "            <tr>\n",
    "              <th>Alaska</th>\n",
    "              <td>\\$9</td>\n",
    "            </tr>\n",
    "            <tr>\n",
    "              <th>Arizona</th>\n",
    "              <td>\\$10</td>\n",
    "            </tr>\n",
    "            <tr>\n",
    "              <th>Arkansas</th>\n",
    "              <td>\\$8</td>\n",
    "            </tr>\n",
    "            <tr>\n",
    "            <th>...</th><td>...</td>\n",
    "            </tr>\n",
    "          </tbody>\n",
    "        </table>\n",
    "      </div>\n",
    "      <div class=\"table-responsive col-lg-2 col-xs-2\">\n",
    "        **`party_df`:**\n",
    "        <table border=\"1\" class=\"dataframe\">\n",
    "          <thead>\n",
    "            <tr>\n",
    "              <th></th>\n",
    "              <th>StateName</th>\n",
    "              <th>Control</th>\n",
    "            </tr>\n",
    "          </thead>\n",
    "          <tbody>\n",
    "            <tr>\n",
    "              <th>0</th>\n",
    "              <td>Alabama</td>\n",
    "              <td>Rep</td>\n",
    "            </tr>\n",
    "            <tr>\n",
    "              <th>1</th>\n",
    "              <td>Alaska</td>\n",
    "              <td>Rep</td>\n",
    "            </tr>\n",
    "            <tr>\n",
    "              <th>2</th>\n",
    "              <td>Arizona</td>\n",
    "              <td>Rep</td>\n",
    "            </tr>\n",
    "            <tr>\n",
    "              <th>3</th>\n",
    "              <td>Arkansas</td>\n",
    "              <td>Rep</td>\n",
    "            </tr>\n",
    "            <tr>\n",
    "              <th>4</th>\n",
    "              <td>California</td>\n",
    "              <td>Dem</td>\n",
    "            </tr>\n",
    "            <th>...</th><td>...</td><td>...</td>\n",
    "          </tbody>\n",
    "        </table>\n",
    "      </div>\n",
    "      <div class=\"table-responsive col-lg-2 col-xs-2\">\n",
    "        **`state_df`:**\n",
    "          <table border=\"1\" class=\"dataframe\">\n",
    "              <thead>\n",
    "                <tr style=\"text-align: right;\">\n",
    "                  <th></th>\n",
    "                  <th>StateName</th>\n",
    "                  <th>StateCode</th>\n",
    "                </tr>\n",
    "              </thead>\n",
    "              <tbody>\n",
    "                <tr>\n",
    "                  <th>0</th>\n",
    "                  <td>Mississippi</td>\n",
    "                  <td>MS</td>\n",
    "                </tr>\n",
    "                <tr>\n",
    "                  <th>1</th>\n",
    "                  <td>Oklahoma</td>\n",
    "                  <td>OK</td>\n",
    "                </tr>\n",
    "                <tr>\n",
    "                  <th>2</th>\n",
    "                  <td>Delaware</td>\n",
    "                  <td>DE</td>\n",
    "                </tr>\n",
    "                <tr>\n",
    "                  <th>3</th>\n",
    "                  <td>Minnesota</td>\n",
    "                  <td>MN</td>\n",
    "                </tr>\n",
    "                <tr>\n",
    "                  <th>4</th>\n",
    "                  <td>Illinois</td>\n",
    "                  <td>IL</td>\n",
    "                </tr>\n",
    "                <th>...</th><td>...</td><td>...</td>\n",
    "              </tbody>\n",
    "        </table>      \n",
    "    </div>\n",
    "    <div class=\"table-responsive col-lg-2 col-xs-3\">\n",
    "      **`region_df`:**\n",
    "        <table border=\"1\" class=\"dataframe\">\n",
    "          <thead>\n",
    "            <tr style=\"text-align: right;\">\n",
    "              <th></th>\n",
    "              <th>StateCode</th>\n",
    "              <th>Region</th>\n",
    "            </tr>\n",
    "          </thead>\n",
    "          <tbody>\n",
    "            <tr>\n",
    "              <th>0</th>\n",
    "              <td>WA</td>\n",
    "              <td>Pacific</td>\n",
    "            </tr>\n",
    "            <tr>\n",
    "              <th>1</th>\n",
    "              <td>DE</td>\n",
    "              <td>South Atlantic</td>\n",
    "            </tr>\n",
    "            <tr>\n",
    "              <th>2</th>\n",
    "              <td>DC</td>\n",
    "              <td>South Atlantic</td>\n",
    "            </tr>\n",
    "            <tr>\n",
    "              <th>3</th>\n",
    "              <td>WI</td>\n",
    "              <td>East North Central</td>\n",
    "            </tr>\n",
    "            <tr>\n",
    "              <th>4</th>\n",
    "              <td>WV</td>\n",
    "              <td>South Atlantic</td>\n",
    "            </tr>\n",
    "            <th>...</th><td>...</td><td>...</td>\n",
    "          </tbody>\n",
    "    </table>\n",
    "    </div>\n",
    "</div>"
   ]
  },
  {
   "cell_type": "code",
   "execution_count": 164,
   "metadata": {
    "collapsed": false
   },
   "outputs": [
    {
     "data": {
      "text/html": [
       "<div>\n",
       "<table border=\"1\" class=\"dataframe\">\n",
       "  <thead>\n",
       "    <tr style=\"text-align: right;\">\n",
       "      <th></th>\n",
       "      <th>StateName</th>\n",
       "      <th>StateCode</th>\n",
       "      <th>Seats</th>\n",
       "      <th>2018</th>\n",
       "    </tr>\n",
       "  </thead>\n",
       "  <tbody>\n",
       "    <tr>\n",
       "      <th>0</th>\n",
       "      <td>Alabama</td>\n",
       "      <td>AL</td>\n",
       "      <td>140</td>\n",
       "      <td>7.25</td>\n",
       "    </tr>\n",
       "    <tr>\n",
       "      <th>1</th>\n",
       "      <td>Alaska</td>\n",
       "      <td>AK</td>\n",
       "      <td>60</td>\n",
       "      <td>9.84</td>\n",
       "    </tr>\n",
       "    <tr>\n",
       "      <th>2</th>\n",
       "      <td>Arizona</td>\n",
       "      <td>AZ</td>\n",
       "      <td>90</td>\n",
       "      <td>10.50</td>\n",
       "    </tr>\n",
       "    <tr>\n",
       "      <th>3</th>\n",
       "      <td>Arkansas</td>\n",
       "      <td>AR</td>\n",
       "      <td>135</td>\n",
       "      <td>8.50</td>\n",
       "    </tr>\n",
       "    <tr>\n",
       "      <th>4</th>\n",
       "      <td>California</td>\n",
       "      <td>CA</td>\n",
       "      <td>120</td>\n",
       "      <td>11.00</td>\n",
       "    </tr>\n",
       "  </tbody>\n",
       "</table>\n",
       "</div>"
      ],
      "text/plain": [
       "    StateName StateCode  Seats   2018\n",
       "0     Alabama        AL    140   7.25\n",
       "1      Alaska        AK     60   9.84\n",
       "2     Arizona        AZ     90  10.50\n",
       "3    Arkansas        AR    135   8.50\n",
       "4  California        CA    120  11.00"
      ]
     },
     "execution_count": 164,
     "metadata": {},
     "output_type": "execute_result"
    }
   ],
   "source": [
    "full_df = wage_df.merge(party_df, left_index=True, right_on=\"StateName\") \\\n",
    "                 .merge(state_df, left_on=\"StateName\", right_on=\"StateName\")\n",
    "full_df[[\"StateName\", \"StateCode\", \"Seats\", \"2018\"]].head()"
   ]
  },
  {
   "cell_type": "markdown",
   "metadata": {},
   "source": [
    "In **`pandas`**, you can specify what *kind* of merge to perform using the **`how`** keyword. Below is a visual explanation of different types of merges (more typically called joins):\n",
    "\n",
    "#### 2.4.1. <u>Visual Guide to Dataframe Joins</u>\n",
    "\n",
    "<sub>From `The Data Geekery SQL Masterclass`:</sub>"
   ]
  },
  {
   "cell_type": "markdown",
   "metadata": {},
   "source": [
    "![Visual Guide to Joins](imgs/joins.png \"Visual Guide to Joins\")"
   ]
  },
  {
   "cell_type": "markdown",
   "metadata": {},
   "source": [
    "#### 2.4.2. Exercise:\n",
    "\n",
    "Merge **`full_df`** with **`region_df`** and display the first 5 rows below.\n",
    "\n",
    "#### <div style=\"color:red\">Solution:</div>"
   ]
  },
  {
   "cell_type": "code",
   "execution_count": 165,
   "metadata": {
    "collapsed": false
   },
   "outputs": [
    {
     "data": {
      "text/html": [
       "<div>\n",
       "<table border=\"1\" class=\"dataframe\">\n",
       "  <thead>\n",
       "    <tr style=\"text-align: right;\">\n",
       "      <th></th>\n",
       "      <th>StateCode</th>\n",
       "      <th>Region</th>\n",
       "      <th>Control</th>\n",
       "      <th>SenateDem</th>\n",
       "    </tr>\n",
       "  </thead>\n",
       "  <tbody>\n",
       "    <tr>\n",
       "      <th>0</th>\n",
       "      <td>AL</td>\n",
       "      <td>East South Central</td>\n",
       "      <td>Rep</td>\n",
       "      <td>8.0</td>\n",
       "    </tr>\n",
       "    <tr>\n",
       "      <th>1</th>\n",
       "      <td>AK</td>\n",
       "      <td>Pacific</td>\n",
       "      <td>Rep</td>\n",
       "      <td>6.0</td>\n",
       "    </tr>\n",
       "    <tr>\n",
       "      <th>2</th>\n",
       "      <td>AZ</td>\n",
       "      <td>Mountain</td>\n",
       "      <td>Rep</td>\n",
       "      <td>13.0</td>\n",
       "    </tr>\n",
       "    <tr>\n",
       "      <th>3</th>\n",
       "      <td>AR</td>\n",
       "      <td>West South Central</td>\n",
       "      <td>Rep</td>\n",
       "      <td>9.0</td>\n",
       "    </tr>\n",
       "    <tr>\n",
       "      <th>4</th>\n",
       "      <td>CA</td>\n",
       "      <td>Pacific</td>\n",
       "      <td>Dem</td>\n",
       "      <td>27.0</td>\n",
       "    </tr>\n",
       "  </tbody>\n",
       "</table>\n",
       "</div>"
      ],
      "text/plain": [
       "  StateCode              Region Control  SenateDem\n",
       "0        AL  East South Central     Rep        8.0\n",
       "1        AK             Pacific     Rep        6.0\n",
       "2        AZ            Mountain     Rep       13.0\n",
       "3        AR  West South Central     Rep        9.0\n",
       "4        CA             Pacific     Dem       27.0"
      ]
     },
     "metadata": {},
     "output_type": "display_data"
    }
   ],
   "source": [
    "full_df = full_df.merge(region_df, how=\"left\", on=\"StateCode\")\n",
    "display(full_df.head(5)[[\"StateCode\", \"Region\", \"Control\", \"SenateDem\"]])"
   ]
  },
  {
   "cell_type": "markdown",
   "metadata": {
    "collapsed": true
   },
   "source": [
    "### 2.5. Aggregating data\n"
   ]
  },
  {
   "cell_type": "code",
   "execution_count": 166,
   "metadata": {
    "collapsed": false
   },
   "outputs": [
    {
     "data": {
      "text/plain": [
       "11.0"
      ]
     },
     "execution_count": 166,
     "metadata": {},
     "output_type": "execute_result"
    }
   ],
   "source": [
    "# Extract max value for a column\n",
    "full_df[\"2017\"].max()"
   ]
  },
  {
   "cell_type": "code",
   "execution_count": 168,
   "metadata": {
    "collapsed": false
   },
   "outputs": [
    {
     "data": {
      "text/html": [
       "<div>\n",
       "<table border=\"1\" class=\"dataframe\">\n",
       "  <thead>\n",
       "    <tr style=\"text-align: right;\">\n",
       "      <th></th>\n",
       "      <th>StateCode</th>\n",
       "      <th>Region</th>\n",
       "      <th>2017</th>\n",
       "    </tr>\n",
       "  </thead>\n",
       "  <tbody>\n",
       "    <tr>\n",
       "      <th>20</th>\n",
       "      <td>MA</td>\n",
       "      <td>New England</td>\n",
       "      <td>11.0</td>\n",
       "    </tr>\n",
       "  </tbody>\n",
       "</table>\n",
       "</div>"
      ],
      "text/plain": [
       "   StateCode       Region  2017\n",
       "20        MA  New England  11.0"
      ]
     },
     "execution_count": 168,
     "metadata": {},
     "output_type": "execute_result"
    }
   ],
   "source": [
    "# Extract row w/max value for a column\n",
    "idx_max_2017 = full_df[\"2017\"].idxmax()\n",
    "full_df.ix[[idx_max_2017],[\"StateCode\", \"Region\", \"2017\"]]"
   ]
  },
  {
   "cell_type": "code",
   "execution_count": 183,
   "metadata": {
    "collapsed": false
   },
   "outputs": [
    {
     "data": {
      "text/html": [
       "<div>\n",
       "<table border=\"1\" class=\"dataframe\">\n",
       "  <thead>\n",
       "    <tr style=\"text-align: right;\">\n",
       "      <th></th>\n",
       "      <th>2008</th>\n",
       "      <th>2009</th>\n",
       "      <th>2010</th>\n",
       "      <th>2011</th>\n",
       "      <th>2012</th>\n",
       "      <th>2013</th>\n",
       "      <th>2014</th>\n",
       "      <th>2015</th>\n",
       "      <th>2016</th>\n",
       "      <th>2017</th>\n",
       "      <th>2018</th>\n",
       "      <th>Seats</th>\n",
       "      <th>Senate</th>\n",
       "      <th>SenateDem</th>\n",
       "      <th>SenateRep</th>\n",
       "      <th>SenateOther</th>\n",
       "      <th>HouseDem</th>\n",
       "      <th>HouseRep</th>\n",
       "      <th>SenateDemPct</th>\n",
       "      <th>SenateRepPct</th>\n",
       "    </tr>\n",
       "    <tr>\n",
       "      <th>Control</th>\n",
       "      <th></th>\n",
       "      <th></th>\n",
       "      <th></th>\n",
       "      <th></th>\n",
       "      <th></th>\n",
       "      <th></th>\n",
       "      <th></th>\n",
       "      <th></th>\n",
       "      <th></th>\n",
       "      <th></th>\n",
       "      <th></th>\n",
       "      <th></th>\n",
       "      <th></th>\n",
       "      <th></th>\n",
       "      <th></th>\n",
       "      <th></th>\n",
       "      <th></th>\n",
       "      <th></th>\n",
       "      <th></th>\n",
       "      <th></th>\n",
       "    </tr>\n",
       "  </thead>\n",
       "  <tbody>\n",
       "    <tr>\n",
       "      <th>Dem</th>\n",
       "      <td>7.325</td>\n",
       "      <td>7.525</td>\n",
       "      <td>7.75</td>\n",
       "      <td>7.75</td>\n",
       "      <td>7.75</td>\n",
       "      <td>7.875</td>\n",
       "      <td>8.125</td>\n",
       "      <td>8.565</td>\n",
       "      <td>8.875</td>\n",
       "      <td>9.425</td>\n",
       "      <td>10.10</td>\n",
       "      <td>120</td>\n",
       "      <td>40</td>\n",
       "      <td>25.5</td>\n",
       "      <td>13.0</td>\n",
       "      <td>1.0</td>\n",
       "      <td>53.5</td>\n",
       "      <td>30.0</td>\n",
       "      <td>0.623083</td>\n",
       "      <td>0.376917</td>\n",
       "    </tr>\n",
       "    <tr>\n",
       "      <th>Rep</th>\n",
       "      <td>6.550</td>\n",
       "      <td>7.250</td>\n",
       "      <td>7.25</td>\n",
       "      <td>7.25</td>\n",
       "      <td>7.25</td>\n",
       "      <td>7.250</td>\n",
       "      <td>7.250</td>\n",
       "      <td>7.250</td>\n",
       "      <td>7.250</td>\n",
       "      <td>7.250</td>\n",
       "      <td>7.25</td>\n",
       "      <td>146</td>\n",
       "      <td>38</td>\n",
       "      <td>11.0</td>\n",
       "      <td>27.0</td>\n",
       "      <td>1.0</td>\n",
       "      <td>36.0</td>\n",
       "      <td>71.0</td>\n",
       "      <td>0.300000</td>\n",
       "      <td>0.700000</td>\n",
       "    </tr>\n",
       "    <tr>\n",
       "      <th>Split</th>\n",
       "      <td>7.250</td>\n",
       "      <td>7.280</td>\n",
       "      <td>7.50</td>\n",
       "      <td>7.50</td>\n",
       "      <td>7.64</td>\n",
       "      <td>7.780</td>\n",
       "      <td>8.000</td>\n",
       "      <td>8.230</td>\n",
       "      <td>8.310</td>\n",
       "      <td>9.300</td>\n",
       "      <td>10.10</td>\n",
       "      <td>186</td>\n",
       "      <td>35</td>\n",
       "      <td>17.0</td>\n",
       "      <td>18.0</td>\n",
       "      <td>NaN</td>\n",
       "      <td>77.0</td>\n",
       "      <td>72.0</td>\n",
       "      <td>0.485714</td>\n",
       "      <td>0.514286</td>\n",
       "    </tr>\n",
       "  </tbody>\n",
       "</table>\n",
       "</div>"
      ],
      "text/plain": [
       "          2008   2009  2010  2011  2012   2013   2014   2015   2016   2017  \\\n",
       "Control                                                                      \n",
       "Dem      7.325  7.525  7.75  7.75  7.75  7.875  8.125  8.565  8.875  9.425   \n",
       "Rep      6.550  7.250  7.25  7.25  7.25  7.250  7.250  7.250  7.250  7.250   \n",
       "Split    7.250  7.280  7.50  7.50  7.64  7.780  8.000  8.230  8.310  9.300   \n",
       "\n",
       "          2018  Seats  Senate  SenateDem  SenateRep  SenateOther  HouseDem  \\\n",
       "Control                                                                      \n",
       "Dem      10.10    120      40       25.5       13.0          1.0      53.5   \n",
       "Rep       7.25    146      38       11.0       27.0          1.0      36.0   \n",
       "Split    10.10    186      35       17.0       18.0          NaN      77.0   \n",
       "\n",
       "         HouseRep  SenateDemPct  SenateRepPct  \n",
       "Control                                        \n",
       "Dem          30.0      0.623083      0.376917  \n",
       "Rep          71.0      0.300000      0.700000  \n",
       "Split        72.0      0.485714      0.514286  "
      ]
     },
     "execution_count": 183,
     "metadata": {},
     "output_type": "execute_result"
    }
   ],
   "source": [
    "# Group rows by party control, \n",
    "# extract median for each column\n",
    "full_df.groupby([\"Control\"]).median()"
   ]
  },
  {
   "cell_type": "markdown",
   "metadata": {},
   "source": [
    "**TIP:** When performing a **`groupby`** operation followed by some sort of aggregation, the resulting dataframe will have the \"group\" columns set as the index."
   ]
  },
  {
   "cell_type": "code",
   "execution_count": 174,
   "metadata": {
    "collapsed": false
   },
   "outputs": [
    {
     "data": {
      "text/html": [
       "<div>\n",
       "<table border=\"1\" class=\"dataframe\">\n",
       "  <thead>\n",
       "    <tr style=\"text-align: right;\">\n",
       "      <th></th>\n",
       "      <th>SenateDemPct</th>\n",
       "      <th>SenateRepPct</th>\n",
       "    </tr>\n",
       "    <tr>\n",
       "      <th>Control</th>\n",
       "      <th></th>\n",
       "      <th></th>\n",
       "    </tr>\n",
       "  </thead>\n",
       "  <tbody>\n",
       "    <tr>\n",
       "      <th>Dem</th>\n",
       "      <td>0.667201</td>\n",
       "      <td>0.329398</td>\n",
       "    </tr>\n",
       "    <tr>\n",
       "      <th>Rep</th>\n",
       "      <td>0.297530</td>\n",
       "      <td>0.700952</td>\n",
       "    </tr>\n",
       "    <tr>\n",
       "      <th>Split</th>\n",
       "      <td>0.490476</td>\n",
       "      <td>0.509524</td>\n",
       "    </tr>\n",
       "  </tbody>\n",
       "</table>\n",
       "</div>"
      ],
      "text/plain": [
       "         SenateDemPct  SenateRepPct\n",
       "Control                            \n",
       "Dem          0.667201      0.329398\n",
       "Rep          0.297530      0.700952\n",
       "Split        0.490476      0.509524"
      ]
     },
     "execution_count": 174,
     "metadata": {},
     "output_type": "execute_result"
    }
   ],
   "source": [
    "# Group rows by party control, \n",
    "# extract means for two specific columns\n",
    "full_df[\"SenateDemPct\"] = full_df.SenateDem / full_df.Senate\n",
    "full_df[\"SenateRepPct\"] = full_df.SenateRep / full_df.Senate\n",
    "\n",
    "full_df.groupby([\"Control\"])[[\"SenateDemPct\", \"SenateRepPct\"]].mean()"
   ]
  },
  {
   "cell_type": "code",
   "execution_count": 184,
   "metadata": {
    "collapsed": false
   },
   "outputs": [
    {
     "data": {
      "text/html": [
       "<div>\n",
       "<table border=\"1\" class=\"dataframe\">\n",
       "  <thead>\n",
       "    <tr style=\"text-align: right;\">\n",
       "      <th></th>\n",
       "      <th></th>\n",
       "      <th>Seats</th>\n",
       "    </tr>\n",
       "    <tr>\n",
       "      <th>Control</th>\n",
       "      <th>Region</th>\n",
       "      <th></th>\n",
       "    </tr>\n",
       "  </thead>\n",
       "  <tbody>\n",
       "    <tr>\n",
       "      <th rowspan=\"5\" valign=\"top\">Dem</th>\n",
       "      <th>East North Central</th>\n",
       "      <td>177.000000</td>\n",
       "    </tr>\n",
       "    <tr>\n",
       "      <th>Middle Atlantic</th>\n",
       "      <td>166.500000</td>\n",
       "    </tr>\n",
       "    <tr>\n",
       "      <th>Mountain</th>\n",
       "      <td>87.500000</td>\n",
       "    </tr>\n",
       "    <tr>\n",
       "      <th>New England</th>\n",
       "      <td>164.333333</td>\n",
       "    </tr>\n",
       "    <tr>\n",
       "      <th>Pacific</th>\n",
       "      <td>108.250000</td>\n",
       "    </tr>\n",
       "  </tbody>\n",
       "</table>\n",
       "</div>"
      ],
      "text/plain": [
       "                                 Seats\n",
       "Control Region                        \n",
       "Dem     East North Central  177.000000\n",
       "        Middle Atlantic     166.500000\n",
       "        Mountain             87.500000\n",
       "        New England         164.333333\n",
       "        Pacific             108.250000"
      ]
     },
     "execution_count": 184,
     "metadata": {},
     "output_type": "execute_result"
    }
   ],
   "source": [
    "# Group rows by party control and region, \n",
    "# extract means for `Seats` in each group using custom function\n",
    "full_df.groupby([\"Control\", \"Region\"]).agg({ \"Seats\" : lambda l: float(sum(l))/len(l) })"
   ]
  },
  {
   "cell_type": "markdown",
   "metadata": {},
   "source": [
    "### 2.6. Saving data"
   ]
  },
  {
   "cell_type": "code",
   "execution_count": 126,
   "metadata": {
    "collapsed": true
   },
   "outputs": [],
   "source": [
    "out_df = full_df.groupby(\"Control\")[[\"SenateDemPct\", \"SenateRepPct\"]].mean()\n",
    "out_df.to_csv(\"state_majority_pct.csv\", index=False)"
   ]
  },
  {
   "cell_type": "markdown",
   "metadata": {},
   "source": [
    "Other output functions include:\n",
    "* **`.to_json()`**\n",
    "* **`.to_txt()`**\n",
    "* **`.to_sql()`**\n",
    "* **`.to_excel()`**\n",
    "* **`.to_html()`**\n",
    "* **`.to_stata()`**"
   ]
  },
  {
   "cell_type": "markdown",
   "metadata": {},
   "source": [
    "### 2.7. Exercise:\n",
    "\n",
    "In the previous notebook we analyzed minimum wage data using **`dict`** objects. This time, use **`pandas`** to output which region within *Democrat* states and *Republican* states respectively has the lowest average minimum wage in 2017.\n",
    "\n",
    "**TIP:** On any dataframe, the function **`.sort_values()`** can be called where the first argument is the column to be sorted by. \n",
    "\n",
    "### <div style=\"color:red\">Solution:</div>"
   ]
  },
  {
   "cell_type": "code",
   "execution_count": 189,
   "metadata": {
    "collapsed": false
   },
   "outputs": [
    {
     "data": {
      "text/html": [
       "<div>\n",
       "<table border=\"1\" class=\"dataframe\">\n",
       "  <thead>\n",
       "    <tr style=\"text-align: right;\">\n",
       "      <th></th>\n",
       "      <th>Control</th>\n",
       "      <th>Region</th>\n",
       "      <th>2017</th>\n",
       "    </tr>\n",
       "  </thead>\n",
       "  <tbody>\n",
       "    <tr>\n",
       "      <th>2</th>\n",
       "      <td>Dem</td>\n",
       "      <td>Mountain</td>\n",
       "      <td>7.875</td>\n",
       "    </tr>\n",
       "    <tr>\n",
       "      <th>7</th>\n",
       "      <td>Rep</td>\n",
       "      <td>East South Central</td>\n",
       "      <td>7.250</td>\n",
       "    </tr>\n",
       "    <tr>\n",
       "      <th>15</th>\n",
       "      <td>Split</td>\n",
       "      <td>Mountain</td>\n",
       "      <td>9.300</td>\n",
       "    </tr>\n",
       "  </tbody>\n",
       "</table>\n",
       "</div>"
      ],
      "text/plain": [
       "   Control              Region   2017\n",
       "2      Dem            Mountain  7.875\n",
       "7      Rep  East South Central  7.250\n",
       "15   Split            Mountain  9.300"
      ]
     },
     "metadata": {},
     "output_type": "display_data"
    }
   ],
   "source": [
    "# (One possible solution)\n",
    "## 1. Group rows by party and region, \n",
    "##    extract the 2017 mean wage for each group,\n",
    "##    remove party/region index \n",
    "##    -- we have average wages for each region within each party\n",
    "party_region_max_df = full_df.groupby([\"Control\", \"Region\"])[\"2017\"].mean().reset_index()\n",
    "## 2. Group rows just by party,\n",
    "##    extract the row index with the min 2017 mean wage for each group,\n",
    "##    subset the original dataframe on the extracted index using .loc,\n",
    "##    -- display!\n",
    "display(party_region_max_df.loc[party_region_max_df.groupby([\"Control\"])[\"2017\"].idxmin()])"
   ]
  },
  {
   "cell_type": "markdown",
   "metadata": {},
   "source": [
    "### <div style=\"color:purple\">SUMMARY</div>\n",
    "\n",
    "- The **`DataFrame`** object in **`pandas`** provides the same functionality as **`R`**'s data frames.\n",
    "\n",
    "\n",
    "- The most important thing when working with dataframes: **pay attention to what your index is!**\n",
    "\n",
    "\n",
    "- Indexing/slicing in **`pandas`** is tricky, but precise. When in doubt, just use the **`.ix`** method for Boolean, label, and positional indexing/slicing.\n",
    "\n",
    "\n",
    "- Columns have functions for aggregation (e.g. **`mean, max, idxmax`**). These same aggregation functions can be applied *within* groups after performing a **`.groupby()`** operation.\n",
    "<br><br>\n",
    "<div style=\"color:gray; text-align:right; font-weight:bold;\">[BACK TO TOP  &#8593;](#toc)</div>"
   ]
  },
  {
   "cell_type": "markdown",
   "metadata": {},
   "source": [
    "## 3. [`Matplotlib`](https://matplotlib.org/index.html): highly flexible 2D and 3D plotting <a class=\"anchor\" id=\"matplotlib\"></a>\n",
    "\n",
    "> **Matplotlib** is a Python 2D plotting library which produces publication quality figures in a variety of hardcopy formats and interactive environments across platforms. Matplotlib can be used in Python scripts, the Python and IPython shell, the jupyter notebook, web application servers, and four graphical user interface toolkits.\n",
    "\n",
    "![Matplotlib Data Science Nodes](imgs/datasci-dag-mpl.png)\n",
    "\n",
    "**`R`** equivalents: **`ggplot2`** (Python is better ☺)"
   ]
  },
  {
   "cell_type": "code",
   "execution_count": 192,
   "metadata": {
    "collapsed": false
   },
   "outputs": [],
   "source": [
    "import matplotlib as mpl\n",
    "import matplotlib.pyplot as plt    # Default plotting API"
   ]
  },
  {
   "cell_type": "code",
   "execution_count": 193,
   "metadata": {
    "collapsed": true
   },
   "outputs": [],
   "source": [
    "# Need this to display plots in Jupyter \n",
    "%matplotlib inline "
   ]
  },
  {
   "cell_type": "markdown",
   "metadata": {},
   "source": [
    "### 3.1. Varieties of plots"
   ]
  },
  {
   "cell_type": "code",
   "execution_count": 194,
   "metadata": {
    "collapsed": false
   },
   "outputs": [
    {
     "data": {
      "image/png": "[encoded data removed]",
      "text/plain": [
       "<matplotlib.figure.Figure at 0x10fc75ed0>"
      ]
     },
     "metadata": {},
     "output_type": "display_data"
    }
   ],
   "source": [
    "# SCATTER plot\n",
    "plt.scatter(x=[1,2,3,4,5], y=[1,4,9,16,25], marker=\"o\")\n",
    "plt.title(\"Scatter plot\", fontweight=\"bold\")\n",
    "plt.xlabel(\"X axis\")\n",
    "plt.ylabel(\"Y axis\")\n",
    "\n",
    "plt.show()"
   ]
  },
  {
   "cell_type": "markdown",
   "metadata": {},
   "source": [
    "**TIP:** **`matplotlib`** plotting functions often take in *many* different types of iterable objects as data."
   ]
  },
  {
   "cell_type": "code",
   "execution_count": 195,
   "metadata": {
    "collapsed": false
   },
   "outputs": [
    {
     "data": {
      "image/png": "[encoded data removed]",
      "text/plain": [
       "<matplotlib.figure.Figure at 0x10fda2250>"
      ]
     },
     "metadata": {},
     "output_type": "display_data"
    }
   ],
   "source": [
    "# LINE plot\n",
    "x = np.arange(0., 5., 0.2)\n",
    "plt.plot(x, x**2, ls=\"--\", c=\"r\")\n",
    "plt.title(\"Line plot\", fontweight=\"bold\")\n",
    "plt.xlabel(\"X axis\")\n",
    "plt.ylabel(\"Y axis\")\n",
    "\n",
    "# plt.xlim([1, 4])\n",
    "# plt.ylim([5, 15])\n",
    "\n",
    "plt.show()"
   ]
  },
  {
   "cell_type": "markdown",
   "metadata": {},
   "source": [
    "**TIP:** You can call multiple plotting functions on the same underlying figure."
   ]
  },
  {
   "cell_type": "code",
   "execution_count": 196,
   "metadata": {
    "collapsed": false
   },
   "outputs": [
    {
     "data": {
      "image/png": "[encoded data removed]",
      "text/plain": [
       "<matplotlib.figure.Figure at 0x10fc75dd0>"
      ]
     },
     "metadata": {},
     "output_type": "display_data"
    }
   ],
   "source": [
    "# MIXED plot\n",
    "plt.scatter([1,2,3,4,5], [1,4,9,16,25], marker=\"o\")\n",
    "plt.plot([1,2,3,4,5], [1,4,9,16,25], \"--\")\n",
    "plt.title(\"Scatter plot\", fontweight=\"bold\")\n",
    "plt.xlabel(\"X axis\")\n",
    "plt.ylabel(\"Y axis\")\n",
    "\n",
    "plt.show()"
   ]
  },
  {
   "cell_type": "code",
   "execution_count": 197,
   "metadata": {
    "collapsed": false
   },
   "outputs": [
    {
     "data": {
      "image/png": "[encoded data removed]",
      "text/plain": [
       "<matplotlib.figure.Figure at 0x10f160b50>"
      ]
     },
     "metadata": {},
     "output_type": "display_data"
    }
   ],
   "source": [
    "# BOX PLOT\n",
    "x = np.random.randn(100)\n",
    "plt.boxplot(x, vert=True, sym=\"+\")\n",
    "plt.title(\"Box plot\", fontweight=\"bold\")\n",
    "plt.xlabel(\"$x$ bins\", fontsize=15)\n",
    "plt.ylabel(\"$y$ axis\", fontsize=15)\n",
    "plt.show()"
   ]
  },
  {
   "cell_type": "markdown",
   "metadata": {},
   "source": [
    "Other plotting functions include:\n",
    "* **`.stackplot()`** - create a stacked area plot\n",
    "* **`.streamplot()`** - plot vector fields\n",
    "* **`.imshow()`** - plot images/matrices/heatmaps"
   ]
  },
  {
   "cell_type": "markdown",
   "metadata": {
    "collapsed": true
   },
   "source": [
    "### 3.2. Creating and arranging subplots\n",
    "\n",
    "Every plotting function in **`matplotlib`** uses a figure and a subplot.\n",
    "\n",
    "* The **figure** object handles sizing, rendering, and arrangement of new subplots.\n",
    "\n",
    "\n",
    "* The **subplot** object (with class name `AxesSubplot`) handles an individual plot.\n",
    "\n",
    "The **`.pyplot`** (often stylized to **`.plt`**) maintains a \"default\" figure and subplot. \n",
    "\n",
    "However, when you want to create multiple subplots in one figure *or* draw many figures, create your own using the **`plt.subplots()`** function:"
   ]
  },
  {
   "cell_type": "code",
   "execution_count": 198,
   "metadata": {
    "collapsed": false
   },
   "outputs": [
    {
     "data": {
      "image/png": "[encoded data removed]",
      "text/plain": [
       "<matplotlib.figure.Figure at 0x11030d690>"
      ]
     },
     "metadata": {},
     "output_type": "display_data"
    }
   ],
   "source": [
    "# ROW of subplots\n",
    "fig, (ax1, ax2) = plt.subplots(1, 2, sharey=True)\n",
    "\n",
    "## Figure adjustments\n",
    "# fig.subplots_adjust(wspace=0.5)\n",
    "\n",
    "## Individual subplots \n",
    "ax1.scatter([1,2,3,4,5], [1,2,3,4,5])\n",
    "ax1.set_title(\"subplot 1\")\n",
    "\n",
    "ax2.scatter([1,2,3,4,5], [1,4,9,16,25])\n",
    "ax2.set_title(\"subplot 2\")\n",
    "\n",
    "plt.show()"
   ]
  },
  {
   "cell_type": "code",
   "execution_count": 199,
   "metadata": {
    "collapsed": false,
    "scrolled": true
   },
   "outputs": [
    {
     "data": {
      "image/png": "[encoded data removed]",
      "text/plain": [
       "<matplotlib.figure.Figure at 0x11032ca50>"
      ]
     },
     "metadata": {},
     "output_type": "display_data"
    }
   ],
   "source": [
    "# GRID of subplots\n",
    "fig, ax_matrix = plt.subplots(2, 2, sharey=True)\n",
    "\n",
    "fig.subplots_adjust(wspace=0.5, hspace=0.5)\n",
    "\n",
    "for i, row in enumerate(ax_matrix):\n",
    "    for j, ax in enumerate(row):\n",
    "        ax.plot([1,2,3], map(lambda s: s**(i+j+1), [1,2,3]), c=\"r\")\n",
    "        ax.set_title(\"subplot \" + str(i+j) )\n",
    "\n",
    "plt.show()"
   ]
  },
  {
   "cell_type": "markdown",
   "metadata": {},
   "source": [
    "**TIP:** Use the **`gridspec`** module to create your subplots, when you want even *more* flexibility in arrangement."
   ]
  },
  {
   "cell_type": "code",
   "execution_count": 200,
   "metadata": {
    "collapsed": false
   },
   "outputs": [
    {
     "data": {
      "image/png": "[encoded data removed]",
      "text/plain": [
       "<matplotlib.figure.Figure at 0x10fe03990>"
      ]
     },
     "metadata": {},
     "output_type": "display_data"
    }
   ],
   "source": [
    "# COMPLEX GRID of subplots\n",
    "\n",
    "import matplotlib.gridspec as gridspec\n",
    "\n",
    "# 0. Create your own figure object (optional)\n",
    "fig = plt.figure(1)\n",
    "fig.subplots_adjust(wspace=0.5, hspace=0.5)\n",
    "fig.suptitle(\"Example matplotlib grid\", fontweight=\"bold\")\n",
    "\n",
    "# 1. Pre-specify your figure's grid\n",
    "gs = gridspec.GridSpec(3, 3)\n",
    "\n",
    "# 2. Individually attach each subplot to\n",
    "#    cells in your grid and make subplot\n",
    "ax1 = fig.add_subplot(gs[0, :])\n",
    "ax1.scatter(np.arange(0, 1, 0.01), np.random.randn(100))\n",
    "\n",
    "ax2 = fig.add_subplot(gs[1, :-1])\n",
    "ax2.plot(np.arange(0, 1, 0.01), np.random.randn(100), color=\"k\")\n",
    "\n",
    "ax3 = fig.add_subplot(gs[1:, -1])\n",
    "ax3.plot(np.arange(0, 1, 0.1), np.random.randn(10), \"--\", c=\"r\")\n",
    "\n",
    "ax4 = fig.add_subplot(gs[-1, 0])\n",
    "ax4.boxplot([np.random.randn(100) for i in range(5)])\n",
    "\n",
    "ax5 = fig.add_subplot(gs[-1, -2])\n",
    "my_png = \"the-big-mc.png\"\n",
    "img_matrix = plt.imread(my_png)\n",
    "ax5.imshow(img_matrix)\n",
    "\n",
    "plt.show()"
   ]
  },
  {
   "cell_type": "markdown",
   "metadata": {},
   "source": [
    "### 3.3. Plot annotation"
   ]
  },
  {
   "cell_type": "code",
   "execution_count": 201,
   "metadata": {
    "collapsed": false
   },
   "outputs": [
    {
     "data": {
      "image/png": "[encoded data removed]",
      "text/plain": [
       "<matplotlib.figure.Figure at 0x11032cc10>"
      ]
     },
     "metadata": {},
     "output_type": "display_data"
    }
   ],
   "source": [
    "# LEGEND\n",
    "fix, ax = plt.subplots()\n",
    "\n",
    "x  = range(10,120,10)\n",
    "y1 = map(lambda xi: xi**2, x)\n",
    "y2 = y1[::-1]\n",
    "\n",
    "ax.plot(x, y1, label=\"For Python\")\n",
    "ax.plot(x, y2, label=\"For R\")\n",
    "\n",
    "ax.set_ylabel(\"Appreciation level\")\n",
    "ax.set_xlabel(\"Minutes spent in methods workshop\")\n",
    "\n",
    "ax.legend(loc=\"upper center\")\n",
    "plt.show()"
   ]
  },
  {
   "cell_type": "code",
   "execution_count": 202,
   "metadata": {
    "collapsed": false
   },
   "outputs": [
    {
     "data": {
      "image/png": "[encoded data removed]",
      "text/plain": [
       "<matplotlib.figure.Figure at 0x10fdf0250>"
      ]
     },
     "metadata": {},
     "output_type": "display_data"
    }
   ],
   "source": [
    "# TEXT ANNOTATION\n",
    "fix, ax = plt.subplots()\n",
    "\n",
    "my_png = \"the-big-mc.png\"\n",
    "img_matrix = plt.imread(my_png)\n",
    "ax.imshow(img_matrix)\n",
    "\n",
    "ax.annotate(\"Hi!\",              # Text string\n",
    "            xy=(2,1),           # (x,y) point to annotate (only important for arrows)\n",
    "            xytext=(100, 100),  # (x,y) location for text\n",
    "            size=20,            # Text size\n",
    "            color=\"white\"       # Text color\n",
    ")\n",
    "\n",
    "plt.show()"
   ]
  },
  {
   "cell_type": "markdown",
   "metadata": {},
   "source": [
    "### 3.4. Advanced: 3D plotting"
   ]
  },
  {
   "cell_type": "code",
   "execution_count": 203,
   "metadata": {
    "collapsed": false
   },
   "outputs": [
    {
     "data": {
      "image/png": "[encoded data removed]",
      "text/plain": [
       "<matplotlib.figure.Figure at 0x11056b650>"
      ]
     },
     "metadata": {},
     "output_type": "display_data"
    }
   ],
   "source": [
    "from matplotlib import cm                 # Custom colormaps\n",
    "from mpl_toolkits.mplot3d import Axes3D\n",
    "\n",
    "X = np.arange(-5, 5, 0.25)\n",
    "Y = np.arange(-5, 5, 0.25)\n",
    "X, Y = np.meshgrid(X, Y)\n",
    "\n",
    "R = np.sqrt(X**2 + Y**2)\n",
    "Z = np.sin(R)\n",
    "\n",
    "fig = plt.figure()\n",
    "ax  = Axes3D(fig)\n",
    "ax.plot_surface(X, Y, Z, cmap=cm.viridis)\n",
    "plt.show()"
   ]
  },
  {
   "cell_type": "markdown",
   "metadata": {},
   "source": [
    "### 3.5. Saving plots"
   ]
  },
  {
   "cell_type": "code",
   "execution_count": null,
   "metadata": {
    "collapsed": true
   },
   "outputs": [],
   "source": [
    "# You can save a specific figure object that you created...\n",
    "\n",
    "# fig.savefig(\"imgs/fig1.jpg\")\n",
    "# fig.savefig(\"imgs/fig2.png\")\n",
    "# fig.savefig(\"imgs/fig3.pdf\")"
   ]
  },
  {
   "cell_type": "code",
   "execution_count": 207,
   "metadata": {
    "collapsed": false
   },
   "outputs": [
    {
     "data": {
      "text/plain": [
       "<matplotlib.figure.Figure at 0x11d3aedd0>"
      ]
     },
     "metadata": {},
     "output_type": "display_data"
    }
   ],
   "source": [
    "# ...or you can save whatever figure is stored in `pyplot`\n",
    "\n",
    "# plt.savefig(\"imgs/plt1.png\")\n",
    "# plt.savefig(\"imgs/plt2.png\")\n",
    "# plt.savefig(\"imgs/plt3.pdf\")"
   ]
  },
  {
   "cell_type": "markdown",
   "metadata": {},
   "source": [
    "### 3.6. Exercise:\n",
    "\n",
    "Recall the minimum wage data from the previous section stored in the dataframe **`full_df`**. Create a grid of subplots where each subplot corresponds to a region. Within each subplot, plot the average minimum wage for Democrat states and Republican states over time.\n",
    "\n",
    "### <div style=\"color:red\">Solution:</div>"
   ]
  },
  {
   "cell_type": "code",
   "execution_count": 234,
   "metadata": {
    "collapsed": false
   },
   "outputs": [
    {
     "data": {
      "image/png": "[encoded data removed]",
      "text/plain": [
       "<matplotlib.figure.Figure at 0x111479b90>"
      ]
     },
     "metadata": {},
     "output_type": "display_data"
    }
   ],
   "source": [
    "## 0. Create figure and plots\n",
    "fig, ax_matrix = plt.subplots(3, 3, figsize=(10, 10), sharey=True)\n",
    "fig.subplots_adjust(hspace=0.4, wspace=0.4)\n",
    "\n",
    "## 1. Grab all the unique regions (could also use `set`)\n",
    "regions = full_df[\"Region\"].unique()\n",
    "\n",
    "i = 0\n",
    "for row in ax_matrix:\n",
    "    for ax in row:\n",
    "        ## 2. Filter on unique region\n",
    "        reg = regions[i]\n",
    "        reg_df = full_df.ix[full_df[\"Region\"] == reg,]\n",
    "        \n",
    "        ## 3. Filter on desired parties,\n",
    "        ##    aggregate the average min wages\n",
    "        x = range(2008, 2019)\n",
    "        dy = reg_df.ix[reg_df.Control == \"Dem\", \"2008\":\"2018\"].mean()\n",
    "        ry = reg_df.ix[reg_df.Control == \"Rep\", \"2008\":\"2018\"].mean()\n",
    "        \n",
    "        ## 4. Plot each trend line on same subplot\n",
    "        ##    (i.e. top of each other)\n",
    "        ax.plot(x, dy, c=\"b\", label=\"Dem states\")\n",
    "        ax.plot(x, ry, c=\"r\", label=\"Rep states\")\n",
    "        \n",
    "        ## 5. Adjust labels, ticks, and title for each subplot\n",
    "        ax.set_xlabel(\"Year\", fontsize=8)\n",
    "        ax.set_ylabel(\"Average minimum wage\", fontsize=8)\n",
    "        ax.set_xticks(range(2008, 2019, 2))\n",
    "        ax.set_title(reg, fontweight=\"bold\")\n",
    "        \n",
    "        ## 6. Display the default legend only for the\n",
    "        ##    top center subplot\n",
    "        if i == 1:\n",
    "            ax.legend()\n",
    "        \n",
    "        ## 7. Move onto next subplot!\n",
    "        i += 1\n",
    "\n",
    "## 8. Display plot in console\n",
    "plt.show()"
   ]
  },
  {
   "cell_type": "markdown",
   "metadata": {},
   "source": [
    "**TIP:** The **`matplotlib`** library is useful because of it's immense *flexibility* in creating any kind of plot imaginable. However, if you prefer *convenience*, check out the [**`seaborn`**](https://seaborn.pydata.org/) library which can ingest entire dataframe objects and create beautiful plots in just a single line of code!"
   ]
  },
  {
   "cell_type": "code",
   "execution_count": 248,
   "metadata": {
    "collapsed": false
   },
   "outputs": [
    {
     "data": {
      "image/png": "[encoded data removed]",
      "text/plain": [
       "<matplotlib.figure.Figure at 0x1179cc0d0>"
      ]
     },
     "metadata": {},
     "output_type": "display_data"
    }
   ],
   "source": [
    "import seaborn as sns\n",
    "sns.set_style(\"ticks\")\n",
    "\n",
    "# \"Melt\" in every year into a `Year` column\n",
    "fmttd_df = pd.melt(full_df, id_vars=[\"StateCode\", \"Region\", \"Control\"], value_vars=map(str, range(2008,2019)), var_name=\"Year\", value_name=\"Min wage\")\n",
    "\n",
    "# Read to plot!\n",
    "sns.factorplot(x=\"Year\", y=\"Min wage\", hue=\"Control\", col=\"Region\", data=fmttd_df, col_wrap=3)\n",
    "plt.show()"
   ]
  },
  {
   "cell_type": "markdown",
   "metadata": {},
   "source": [
    "### <div style=\"color:purple\">SUMMARY</div>\n",
    "\n",
    "- **`matplotlib`** is a highly customizable plotting library, revolving around creating **figures** and **subplots**.\n",
    "\n",
    "\n",
    "- The easiest way to program is to use the \"centralized\" **`pyplot`** (often nick-named **`plt`**) object to call plotting functions.\n",
    "\n",
    "\n",
    "- Call **`plt.show()`** to display and **`plt.savefig()`** (or **`fig.savefig()`** for a specific figure object) to save.\n",
    "\n",
    "\n",
    "\n",
    "- If you're working with pretty standard dataframes, mostly want quick visualizations, or don't care about aesthetic, use the **`seaborn`** library which does a lot of heavy-lifting for you!\n",
    "<br><br>\n",
    "<div style=\"color:gray; text-align:right; font-weight:bold;\">[BACK TO TOP  &#8593;](#toc)</div>"
   ]
  },
  {
   "cell_type": "markdown",
   "metadata": {},
   "source": [
    "## 4. [`Scikit-learn`](http://scikit-learn.org/stable/): machine learning made easy<a class=\"anchor\" id=\"scikit-learn\"></a>\n",
    "\n",
    "> **Scikit-learn** is a free software machine learning Python library. It features various classification, regression and clustering algorithms including support vector machines, random forests, gradient boosting, k-means and DBSCAN, and is designed to interoperate with the Python numerical and scientific libraries NumPy and SciPy.\n",
    "\n",
    "![Scikit-learn Data Science Nodes](imgs/datasci-dag-skl.png)\n",
    "\n",
    "**`R`** equivalents: **`caret`, `randomForest`, `e1071`, `kernLab`** (all pale in comparison ☺) \n",
    "\n"
   ]
  },
  {
   "cell_type": "markdown",
   "metadata": {},
   "source": [
    "### 4.1. Machine learning primer\n",
    "\n",
    "<h3 style=\"font-weight:normal\">\"Machine learning refers to a broad family of algorithms that *calibrate* themselves using **training** data in order to *predict* some form of output for unknown **testing** data.\"</h3>\n",
    "\n",
    "Usually all machine learning pipelines involve two main phases:\n",
    "\n",
    "&nbsp;&nbsp;&nbsp;&nbsp;**[1.] Training.** Fit model on some portion of the \"known\" data and evaluate model's quality using a **validation set** (remaining \"known\" data that is held out). Use the validation set to optimize / fine-tune the model.\n",
    "\n",
    "&nbsp;&nbsp;&nbsp;&nbsp;**[2.] Testing.** Fit the model on *all* of the \"known\" data. Use the model to predict outputs on \"unknown\" data (supervised) *or* infer properties of all available data (unsupervised).\n",
    "\n",
    "![ML-Specific Nodes](imgs/ml-dag.png)\n",
    "\n",
    "Ex. **OLS regression** *fits* to a sample of observed responses and their respective observed predictor variables; it can then *predict* the response to a new set of predictor values.\n",
    "\n",
    "Ex. **$K$-means clustering** *fits* to a sample of observations to discover $K$ underlying (i.e. no human labels!) clusters grouping each observation; it can then *infer* which of the $K$ clusters any observation would belong to.\n",
    "\n",
    "\n",
    "#### 4.1.1 <u>Overview of `Scikit-learn` Modules</u>\n",
    "\n",
    "\n",
    "<table>\n",
    "  <tr>\n",
    "    <th></th>\n",
    "    <th>Description</th>\n",
    "    <th>Example <br>algorithms</th>\n",
    "    <th>Example<br>usage for<br>Political Science</th>\n",
    "  </tr>\n",
    "  <tr>\n",
    "    <td><b>Classification<br>(supervised learning)</b></td>\n",
    "    <td>Predicting which category <br>an object belongs to.</td>\n",
    "    <td>SVM,<br>Random forest</td>\n",
    "    <td>\"Predict election <br>fraud (y/n) using <br>scanned ballot images.\"</td>\n",
    "  </tr>\n",
    "  <tr>\n",
    "    <td><b>Regression<br>(supervised learning)</b></td>\n",
    "    <td>Predicting a continuous-valued <br>response associated<br>with an object.</td>\n",
    "    <td>Lasso, <br>Ridge regression</td>\n",
    "    <td>\"Predict treatment <br>effects of minimum<br>wage increase on<br>state unemployment.\"</td>\n",
    "  </tr>\n",
    "  <tr>\n",
    "    <td><b>Clustering<br>(unsupervised learning)</b></td>\n",
    "    <td>Automatically grouping <br>similar objects into sets.</td>\n",
    "    <td>K-means,<br>Spectral clustering</td>\n",
    "    <td>\"Discover latent <br>political coalitions <br>based on Congressional <br>voting record.\"</td>\n",
    "  </tr>\n",
    "  <tr>\n",
    "    <td><b>Preprocessing</b></td>\n",
    "    <td>Extracting and processing <br>observed random variables <br>into learn-able \"features\".</td>\n",
    "    <td>Text vectorization,<br>Variance scaling</td>\n",
    "    <td>\"Remove un-informative<br>words from political<br>speech transcripts.\"</td>\n",
    "  </tr>\n",
    "  <tr>\n",
    "    <td><b>Dimensionality <br>reduction</b></td>\n",
    "    <td>Reducing the number of<br>features to consider when <br>performing a prediction.</td>\n",
    "    <td>Principal components <br>analysis, Linear <br>discriminant analysis</td>\n",
    "    <td>\"Find most predictive<br>policy preference variables<br>on survey respondent's <br>partisanship.\"</td>\n",
    "  </tr>\n",
    "  <tr>\n",
    "    <td><b>Model <br>selection</b></td>\n",
    "    <td>Comparing, validating and <br>choosing parameters and <br>models.</td>\n",
    "    <td>Hyperparameter <br>grid search, K-fold <br>cross validation</td>\n",
    "    <td>\"Create the most accurate<br>prediction model for <br>state-level election <br>turnout.\"</td>\n",
    "  </tr>\n",
    "</table>\n",
    "\n",
    "\n",
    "#### 4.1.2 <u>Which Algorithm do I Choose?</u>\n",
    "\n"
   ]
  },
  {
   "cell_type": "markdown",
   "metadata": {},
   "source": [
    "![](http://scikit-learn.org/stable/_static/ml_map.png)"
   ]
  },
  {
   "cell_type": "markdown",
   "metadata": {},
   "source": [
    "**TIP:** **`scikit-learn`** has a lot of stock datasets stored as dictionaries under the module **`sklearn.datasets`**. They are a great resource in benchmarking algorithms and testing out ideas!"
   ]
  },
  {
   "cell_type": "markdown",
   "metadata": {},
   "source": [
    "### 4.2 Demo: Regression\n",
    "\n",
    "\n",
    "#### *Q: Can we predict future housing prices in Boston?*"
   ]
  },
  {
   "cell_type": "code",
   "execution_count": 220,
   "metadata": {
    "collapsed": true
   },
   "outputs": [],
   "source": [
    "# 1. LOAD dataset dictionary\n",
    "import sklearn\n",
    "from sklearn.datasets import load_boston\n",
    "\n",
    "boston_dataset = load_boston()"
   ]
  },
  {
   "cell_type": "code",
   "execution_count": 243,
   "metadata": {
    "collapsed": false,
    "scrolled": true
   },
   "outputs": [
    {
     "name": "stdout",
     "output_type": "stream",
     "text": [
      "Boston House Prices dataset\n",
      "===========================\n",
      "\n",
      "Notes\n",
      "------\n",
      "Data Set Characteristics:  \n",
      "\n",
      "    :Number of Instances: 506 \n",
      "\n",
      "    :Number of Attributes: 13 numeric/categorical predictive\n",
      "    \n",
      "    :Median Value (attribute 14) is usually the target\n",
      "\n",
      "    :Attribute Information (in order):\n",
      "        - CRIM     per capita crime rate by town\n",
      "        - ZN       proportion of residential land zoned for lots over 25,000 sq.ft.\n",
      "        - INDUS    proportion of non-retail business acres per town\n",
      "        - CHAS     Charles River dummy variable (= 1 if tract bounds river; 0 otherwise)\n",
      "        - NOX      nitric oxides concentration (parts per 10 million)\n",
      "        - RM       average number of rooms per dwelling\n",
      "        - AGE      proportion of owner-occupied units built prior to 1940\n",
      "        - DIS      weighted distances to five Boston employment centres\n",
      "        - RAD      index of accessibility to radial highways\n",
      "        - TAX      full-value property-tax rate per $10,000\n",
      "        - PTRATIO  pupil-teacher ratio by town\n",
      "        - B        1000(Bk - 0.63)^2 where Bk is the proportion of blacks by town\n",
      "        - LSTAT    % lower status of the population\n",
      "        - MEDV     Median value of owner-occupied homes in $1000's\n",
      "\n",
      "    :Missing Attribute Values: None\n",
      "\n",
      "    :Creator: Harrison, D. and Rubinfeld, D.L.\n",
      "\n",
      "This is a copy of UCI ML housing dataset.\n",
      "http://archive.ics.uci.edu/ml/datasets/Housing\n",
      "\n",
      "\n",
      "This dataset was taken from the StatLib library which is maintained at Carnegie Mellon University.\n",
      "\n",
      "The Boston house-price data of Harrison, D. and Rubinfeld, D.L. 'Hedonic\n",
      "prices and the demand for clean air', J. Environ. Economics & Management,\n",
      "vol.5, 81-102, 1978.   Used in Belsley, Kuh & Welsch, 'Regression diagnostics\n",
      "...', Wiley, 1980.   N.B. Various transformations are used in the table on\n",
      "pages 244-261 of the latter.\n",
      "\n",
      "The Boston house-price data has been used in many machine learning papers that address regression\n",
      "problems.   \n",
      "     \n",
      "**References**\n",
      "\n",
      "   - Belsley, Kuh & Welsch, 'Regression diagnostics: Identifying Influential Data and Sources of Collinearity', Wiley, 1980. 244-261.\n",
      "   - Quinlan,R. (1993). Combining Instance-Based and Model-Based Learning. In Proceedings on the Tenth International Conference of Machine Learning, 236-243, University of Massachusetts, Amherst. Morgan Kaufmann.\n",
      "   - many more! (see http://archive.ics.uci.edu/ml/datasets/Housing)\n",
      "\n"
     ]
    }
   ],
   "source": [
    "# 2. VIEW dataset description\n",
    "print boston_dataset[\"DESCR\"]"
   ]
  },
  {
   "cell_type": "code",
   "execution_count": 231,
   "metadata": {
    "collapsed": false
   },
   "outputs": [
    {
     "data": {
      "text/html": [
       "<div>\n",
       "<table border=\"1\" class=\"dataframe\">\n",
       "  <thead>\n",
       "    <tr style=\"text-align: right;\">\n",
       "      <th></th>\n",
       "      <th>CRIM</th>\n",
       "      <th>ZN</th>\n",
       "      <th>INDUS</th>\n",
       "      <th>CHAS</th>\n",
       "      <th>NOX</th>\n",
       "      <th>RM</th>\n",
       "      <th>AGE</th>\n",
       "      <th>DIS</th>\n",
       "      <th>RAD</th>\n",
       "      <th>TAX</th>\n",
       "      <th>PTRATIO</th>\n",
       "      <th>B</th>\n",
       "      <th>LSTAT</th>\n",
       "      <th>PRICE</th>\n",
       "    </tr>\n",
       "  </thead>\n",
       "  <tbody>\n",
       "    <tr>\n",
       "      <th>0</th>\n",
       "      <td>0.00632</td>\n",
       "      <td>18.0</td>\n",
       "      <td>2.31</td>\n",
       "      <td>0.0</td>\n",
       "      <td>0.538</td>\n",
       "      <td>6.575</td>\n",
       "      <td>65.2</td>\n",
       "      <td>4.0900</td>\n",
       "      <td>1.0</td>\n",
       "      <td>296.0</td>\n",
       "      <td>15.3</td>\n",
       "      <td>396.90</td>\n",
       "      <td>4.98</td>\n",
       "      <td>24.0</td>\n",
       "    </tr>\n",
       "    <tr>\n",
       "      <th>1</th>\n",
       "      <td>0.02731</td>\n",
       "      <td>0.0</td>\n",
       "      <td>7.07</td>\n",
       "      <td>0.0</td>\n",
       "      <td>0.469</td>\n",
       "      <td>6.421</td>\n",
       "      <td>78.9</td>\n",
       "      <td>4.9671</td>\n",
       "      <td>2.0</td>\n",
       "      <td>242.0</td>\n",
       "      <td>17.8</td>\n",
       "      <td>396.90</td>\n",
       "      <td>9.14</td>\n",
       "      <td>21.6</td>\n",
       "    </tr>\n",
       "    <tr>\n",
       "      <th>2</th>\n",
       "      <td>0.02729</td>\n",
       "      <td>0.0</td>\n",
       "      <td>7.07</td>\n",
       "      <td>0.0</td>\n",
       "      <td>0.469</td>\n",
       "      <td>7.185</td>\n",
       "      <td>61.1</td>\n",
       "      <td>4.9671</td>\n",
       "      <td>2.0</td>\n",
       "      <td>242.0</td>\n",
       "      <td>17.8</td>\n",
       "      <td>392.83</td>\n",
       "      <td>4.03</td>\n",
       "      <td>34.7</td>\n",
       "    </tr>\n",
       "    <tr>\n",
       "      <th>3</th>\n",
       "      <td>0.03237</td>\n",
       "      <td>0.0</td>\n",
       "      <td>2.18</td>\n",
       "      <td>0.0</td>\n",
       "      <td>0.458</td>\n",
       "      <td>6.998</td>\n",
       "      <td>45.8</td>\n",
       "      <td>6.0622</td>\n",
       "      <td>3.0</td>\n",
       "      <td>222.0</td>\n",
       "      <td>18.7</td>\n",
       "      <td>394.63</td>\n",
       "      <td>2.94</td>\n",
       "      <td>33.4</td>\n",
       "    </tr>\n",
       "    <tr>\n",
       "      <th>4</th>\n",
       "      <td>0.06905</td>\n",
       "      <td>0.0</td>\n",
       "      <td>2.18</td>\n",
       "      <td>0.0</td>\n",
       "      <td>0.458</td>\n",
       "      <td>7.147</td>\n",
       "      <td>54.2</td>\n",
       "      <td>6.0622</td>\n",
       "      <td>3.0</td>\n",
       "      <td>222.0</td>\n",
       "      <td>18.7</td>\n",
       "      <td>396.90</td>\n",
       "      <td>5.33</td>\n",
       "      <td>36.2</td>\n",
       "    </tr>\n",
       "  </tbody>\n",
       "</table>\n",
       "</div>"
      ],
      "text/plain": [
       "      CRIM    ZN  INDUS  CHAS    NOX     RM   AGE     DIS  RAD    TAX  \\\n",
       "0  0.00632  18.0   2.31   0.0  0.538  6.575  65.2  4.0900  1.0  296.0   \n",
       "1  0.02731   0.0   7.07   0.0  0.469  6.421  78.9  4.9671  2.0  242.0   \n",
       "2  0.02729   0.0   7.07   0.0  0.469  7.185  61.1  4.9671  2.0  242.0   \n",
       "3  0.03237   0.0   2.18   0.0  0.458  6.998  45.8  6.0622  3.0  222.0   \n",
       "4  0.06905   0.0   2.18   0.0  0.458  7.147  54.2  6.0622  3.0  222.0   \n",
       "\n",
       "   PTRATIO       B  LSTAT  PRICE  \n",
       "0     15.3  396.90   4.98   24.0  \n",
       "1     17.8  396.90   9.14   21.6  \n",
       "2     17.8  392.83   4.03   34.7  \n",
       "3     18.7  394.63   2.94   33.4  \n",
       "4     18.7  396.90   5.33   36.2  "
      ]
     },
     "metadata": {},
     "output_type": "display_data"
    }
   ],
   "source": [
    "# 3. CREATE data frame\n",
    "boston_df           = pd.DataFrame(boston_dataset.data, columns=boston_dataset.feature_names)\n",
    "boston_df[\"PRICE\"]  = boston_dataset.target\n",
    "\n",
    "display(boston_df.head())"
   ]
  },
  {
   "cell_type": "code",
   "execution_count": 234,
   "metadata": {
    "collapsed": true
   },
   "outputs": [],
   "source": [
    "# 4. CREATE a regression model object (OLS)\n",
    "from sklearn.linear_model import LinearRegression\n",
    "\n",
    "lm = LinearRegression()"
   ]
  },
  {
   "cell_type": "code",
   "execution_count": 240,
   "metadata": {
    "collapsed": false
   },
   "outputs": [
    {
     "data": {
      "text/plain": [
       "LinearRegression(copy_X=True, fit_intercept=True, n_jobs=1, normalize=False)"
      ]
     },
     "execution_count": 240,
     "metadata": {},
     "output_type": "execute_result"
    }
   ],
   "source": [
    "# 5. TRAIN model on first 400 of the housing units' features and their prices\n",
    "training_features = boston_df.ix[:400, boston_dataset.feature_names]\n",
    "training_prices   = boston_df.ix[:400, \"PRICE\"]\n",
    "\n",
    "lm.fit(X=training_features, y=training_prices)"
   ]
  },
  {
   "cell_type": "code",
   "execution_count": 241,
   "metadata": {
    "collapsed": true
   },
   "outputs": [],
   "source": [
    "# 6. PREDICT prices on remaining the housing units using their features\n",
    "#    (validation)\n",
    "test_features = boston_df.ix[400:, boston_dataset.feature_names]\n",
    "test_prices   = boston_df.ix[400:, \"PRICE\"]\n",
    "\n",
    "predicted_prices = lm.predict(test_features)"
   ]
  },
  {
   "cell_type": "code",
   "execution_count": 242,
   "metadata": {
    "collapsed": false
   },
   "outputs": [
    {
     "data": {
      "image/png": "[encoded data removed]",
      "text/plain": [
       "<matplotlib.figure.Figure at 0x11d51d090>"
      ]
     },
     "metadata": {},
     "output_type": "display_data"
    }
   ],
   "source": [
    "# 7. VISUALIZE predicted price\n",
    "plt.scatter(test_prices, predicted_prices)\n",
    "\n",
    "plt.xlabel(\"Actual prices of housing units\")\n",
    "plt.ylabel(\"Predicted prices of housing units\")\n",
    "\n",
    "plt.show()"
   ]
  },
  {
   "cell_type": "code",
   "execution_count": 257,
   "metadata": {
    "collapsed": false
   },
   "outputs": [
    {
     "name": "stdout",
     "output_type": "stream",
     "text": [
      "Coefficients: \n",
      "[ -1.99873534e-01   4.42763141e-02   5.55407781e-02   1.73791950e+00\n",
      "  -1.49715808e+01   4.85503348e+00   2.90568657e-03  -1.29621067e+00\n",
      "   4.83051120e-01  -1.54201512e-02  -8.08704936e-01  -1.49681762e-03\n",
      "  -5.23714094e-01]\n",
      "Mean squared error: 37.50\n",
      "Explained variance: -0.33\n"
     ]
    }
   ],
   "source": [
    "# 8. EVALUATE model fit\n",
    "from sklearn.metrics import mean_squared_error as mse, r2_score as r2\n",
    "\n",
    "print 'Coefficients: \\n', lm.coef_\n",
    "print 'Mean squared error: %.2f' % mse(test_prices, predicted_prices)\n",
    "print 'Explained variance: %.2f' % r2(test_prices, predicted_prices)"
   ]
  },
  {
   "cell_type": "markdown",
   "metadata": {},
   "source": [
    "### 4.3 Demo: Classification\n",
    "\n",
    "#### *Q: Can we recognize images of hand-written digits?*"
   ]
  },
  {
   "cell_type": "code",
   "execution_count": 317,
   "metadata": {
    "collapsed": false
   },
   "outputs": [],
   "source": [
    "# 1. LOAD dataset dictionary\n",
    "from sklearn.datasets import load_digits\n",
    "\n",
    "digits_dataset = load_digits()"
   ]
  },
  {
   "cell_type": "code",
   "execution_count": 318,
   "metadata": {
    "collapsed": false
   },
   "outputs": [
    {
     "data": {
      "image/png": "[encoded data removed]",
      "text/plain": [
       "<matplotlib.figure.Figure at 0x125230f50>"
      ]
     },
     "metadata": {},
     "output_type": "display_data"
    }
   ],
   "source": [
    "# 2. VIEW first four images of dataset visually\n",
    "images_and_labels = list(zip(digits.images, digits.target))\n",
    "\n",
    "for i, (img_mat, lbl) in enumerate(images_and_labels[:4]):\n",
    "    plt.subplot(2, 4, i+1)          # create a subplot\n",
    "    plt.axis(\"off\")                 # remove axis\n",
    "    plt.imshow(img_mat)             # show image matrix\n",
    "    plt.title(\"'%i' example\" % lbl) # add title\n",
    "plt.show()"
   ]
  },
  {
   "cell_type": "code",
   "execution_count": 319,
   "metadata": {
    "collapsed": false
   },
   "outputs": [],
   "source": [
    "# 3. FLATTEN images to create \"feature\" vectors\n",
    "N = len(digits_dataset.images)\n",
    "img_vectors = digits_dataset.images.reshape((N, -1))\n",
    "img_labels  = digits_dataset.target"
   ]
  },
  {
   "cell_type": "code",
   "execution_count": 320,
   "metadata": {
    "collapsed": true
   },
   "outputs": [],
   "source": [
    "# 4. CREATE a classifier object (Support Vector Machine)\n",
    "from sklearn.svm import SVC\n",
    "\n",
    "clf = SVC(gamma=0.001)"
   ]
  },
  {
   "cell_type": "code",
   "execution_count": 321,
   "metadata": {
    "collapsed": false
   },
   "outputs": [
    {
     "data": {
      "text/plain": [
       "SVC(C=1.0, cache_size=200, class_weight=None, coef0=0.0,\n",
       "  decision_function_shape=None, degree=3, gamma=0.001, kernel='rbf',\n",
       "  max_iter=-1, probability=False, random_state=None, shrinking=True,\n",
       "  tol=0.001, verbose=False)"
      ]
     },
     "execution_count": 321,
     "metadata": {},
     "output_type": "execute_result"
    }
   ],
   "source": [
    "# 5. TRAIN model on first half of images' feature vectors and their labels\n",
    "clf.fit(img_vectors[:N/2], img_labels[:N/2])"
   ]
  },
  {
   "cell_type": "code",
   "execution_count": 1,
   "metadata": {
    "collapsed": false
   },
   "outputs": [
    {
     "ename": "NameError",
     "evalue": "name 'clf' is not defined",
     "output_type": "error",
     "traceback": [
      "\u001b[0;31m---------------------------------------------------------------------------\u001b[0m",
      "\u001b[0;31mNameError\u001b[0m                                 Traceback (most recent call last)",
      "\u001b[0;32m<ipython-input-1-bb0c690b3204>\u001b[0m in \u001b[0;36m<module>\u001b[0;34m()\u001b[0m\n\u001b[1;32m      1\u001b[0m \u001b[0;31m# 6. PREDICT labels on remaining images using their feature vectors\u001b[0m\u001b[0;34m\u001b[0m\u001b[0;34m\u001b[0m\u001b[0m\n\u001b[0;32m----> 2\u001b[0;31m \u001b[0mpredicted_labels\u001b[0m \u001b[0;34m=\u001b[0m \u001b[0mclf\u001b[0m\u001b[0;34m.\u001b[0m\u001b[0mpredict\u001b[0m\u001b[0;34m(\u001b[0m\u001b[0mimg_vectors\u001b[0m\u001b[0;34m[\u001b[0m\u001b[0mN\u001b[0m\u001b[0;34m/\u001b[0m\u001b[0;36m2\u001b[0m\u001b[0;34m:\u001b[0m\u001b[0;34m]\u001b[0m\u001b[0;34m)\u001b[0m\u001b[0;34m\u001b[0m\u001b[0m\n\u001b[0m",
      "\u001b[0;31mNameError\u001b[0m: name 'clf' is not defined"
     ]
    }
   ],
   "source": [
    "# 6. PREDICT labels on remaining images using their feature vectors\n",
    "predicted_labels = clf.predict(img_vectors[N/2:])"
   ]
  },
  {
   "cell_type": "code",
   "execution_count": 323,
   "metadata": {
    "collapsed": false
   },
   "outputs": [
    {
     "data": {
      "image/png": "[encoded data removed]",
      "text/plain": [
       "<matplotlib.figure.Figure at 0x125230f10>"
      ]
     },
     "metadata": {},
     "output_type": "display_data"
    }
   ],
   "source": [
    "# 7. VISUALIZE predicted labels (first 16)\n",
    "plt.figure(figsize=(10, 10))\n",
    "for i, img_matrix in enumerate(digits_dataset.images[N/2:((N/2)+16)]):\n",
    "    pred = predicted_labels[i]         # get corresponding prediction\n",
    "    plt.subplot(4, 4, i+1)             # create a subplot\n",
    "    plt.axis(\"off\")                    # remove axis\n",
    "    plt.imshow(img_matrix)             # show image matrix\n",
    "    plt.title(\"predicted '%i'\" % pred) # add title\n",
    "plt.show()"
   ]
  },
  {
   "cell_type": "code",
   "execution_count": 316,
   "metadata": {
    "collapsed": false
   },
   "outputs": [
    {
     "ename": "NameError",
     "evalue": "name 'predicted_labels' is not defined",
     "output_type": "error",
     "traceback": [
      "\u001b[0;31m---------------------------------------------------------------------------\u001b[0m",
      "\u001b[0;31mNameError\u001b[0m                                 Traceback (most recent call last)",
      "\u001b[0;32m<ipython-input-316-a29ad69c745d>\u001b[0m in \u001b[0;36m<module>\u001b[0;34m()\u001b[0m\n\u001b[1;32m      2\u001b[0m \u001b[0;32mfrom\u001b[0m \u001b[0msklearn\u001b[0m\u001b[0;34m.\u001b[0m\u001b[0mmetrics\u001b[0m \u001b[0;32mimport\u001b[0m \u001b[0mclassification_report\u001b[0m \u001b[0;32mas\u001b[0m \u001b[0mreport\u001b[0m\u001b[0;34m,\u001b[0m \u001b[0maccuracy_score\u001b[0m \u001b[0;32mas\u001b[0m \u001b[0macc\u001b[0m\u001b[0;34m\u001b[0m\u001b[0m\n\u001b[1;32m      3\u001b[0m \u001b[0;34m\u001b[0m\u001b[0m\n\u001b[0;32m----> 4\u001b[0;31m \u001b[0;32mprint\u001b[0m \u001b[0;34m\"Total accuracy: %0.2f%%\"\u001b[0m \u001b[0;34m%\u001b[0m \u001b[0;34m(\u001b[0m\u001b[0macc\u001b[0m\u001b[0;34m(\u001b[0m\u001b[0mpredicted_labels\u001b[0m\u001b[0;34m,\u001b[0m \u001b[0mtest_labels\u001b[0m\u001b[0;34m)\u001b[0m\u001b[0;34m*\u001b[0m\u001b[0;36m100\u001b[0m\u001b[0;34m)\u001b[0m\u001b[0;34m\u001b[0m\u001b[0m\n\u001b[0m\u001b[1;32m      5\u001b[0m \u001b[0;32mprint\u001b[0m \u001b[0;34m\"Other metrics:\"\u001b[0m\u001b[0;34m\u001b[0m\u001b[0m\n\u001b[1;32m      6\u001b[0m \u001b[0;32mprint\u001b[0m \u001b[0mreport\u001b[0m\u001b[0;34m(\u001b[0m\u001b[0mpredicted_labels\u001b[0m\u001b[0;34m,\u001b[0m \u001b[0mtest_labels\u001b[0m\u001b[0;34m)\u001b[0m\u001b[0;34m\u001b[0m\u001b[0m\n",
      "\u001b[0;31mNameError\u001b[0m: name 'predicted_labels' is not defined"
     ]
    }
   ],
   "source": [
    "# 8. EVALUATE accuracy\n",
    "from sklearn.metrics import classification_report as report, accuracy_score as acc\n",
    "\n",
    "print \"Total accuracy: %0.2f%%\" % (acc(predicted_labels, test_labels)*100)\n",
    "print \"Other metrics:\"\n",
    "print report(predicted_labels, test_labels)"
   ]
  },
  {
   "cell_type": "markdown",
   "metadata": {},
   "source": [
    "**TIP:** In classification, there is often a trade-off between *precision* and *recall*. Keep this in mind when you're selecting the model to use for your specific task!"
   ]
  },
  {
   "cell_type": "markdown",
   "metadata": {},
   "source": [
    "### 4.4. Exercise:\n",
    "\n",
    "Recall our minimum wage time series dataset. Using a linear model of your choice, create linear time trends on each state's yearly minimum wage. Collect the projected minimum wage for each of the states in 2019. \n",
    "\n",
    "Which state is predict to have the highest minimum wage? Can we trust our prediction?\n",
    "\n",
    "### <div style=\"color:red\">Solution:</div>"
   ]
  },
  {
   "cell_type": "code",
   "execution_count": 317,
   "metadata": {
    "collapsed": false
   },
   "outputs": [
    {
     "data": {
      "image/png": "[encoded data removed]",
      "text/plain": [
       "<matplotlib.figure.Figure at 0x112078b90>"
      ]
     },
     "metadata": {},
     "output_type": "display_data"
    }
   ],
   "source": [
    "from sklearn.linear_model import LinearRegression\n",
    "from sklearn.metrics import mean_squared_error\n",
    "\n",
    "fig, ax_list = plt.subplots(3, 1, figsize=(10, 10), sharey=True)\n",
    "fig.subplots_adjust(hspace=0.4, wspace=0.4)\n",
    "\n",
    "for i in range(len(full_df.index)):\n",
    "    state_name = full_df.loc[i,\"StateName\"]\n",
    "    \n",
    "    ## 0. Init model\n",
    "    lm = LinearRegression()\n",
    "    \n",
    "    # TRAINING\n",
    "    ## 1. Fit, holding out last 3 years\n",
    "    X_train = np.arange(2008, 2016).reshape(-1, 1)\n",
    "    y_train_true = full_df.loc[i, \"2008\":\"2015\"].values.reshape(-1, 1)\n",
    "    lm.fit(X_train, y_train_true)\n",
    "    \n",
    "    ## 2. Predict last 3 years' and evaluate\n",
    "    X_valid = np.arange(2016, 2019).reshape(-1, 1)\n",
    "    y_valid_true = full_df.loc[i, \"2016\":\"2018\"].values.reshape(-1, 1)\n",
    "    y_valid_pred  = lm.predict(X_valid)\n",
    "    mse = mean_squared_error(y_valid_true, y_valid_pred)\n",
    "    \n",
    "    # TESTING\n",
    "    ## 3. Train on all available years\n",
    "    X_ = np.arange(2008, 2019).reshape(-1, 1)\n",
    "    y_ = full_df.loc[i, \"2008\":\"2018\"].values.reshape(-1, 1)\n",
    "    lm.fit(X_, y_)\n",
    "    \n",
    "    ## 4. Predict 2019\n",
    "    y_pred_2019 = lm.predict(2019)\n",
    "    \n",
    "    # VISUALIZATION\n",
    "    if i < 3:\n",
    "        ax_list[i].plot(X_, y_, label=\"True\", c=\"k\")\n",
    "        ax_list[i].plot(X_valid, y_valid_pred, label=\"Predicted (validation set, MSE=%0.2f)\" % mse, c=\"g\", ls=\"--\")\n",
    "        ax_list[i].plot([X_[-1],2019], [y_[-1],y_pred_2019], label=\"Predicted (test point)\", c=\"r\")\n",
    "        \n",
    "        ax_list[i].set_title(state_name, fontweight=\"bold\")\n",
    "        ax_list[i].set_xlabel(\"Year\")\n",
    "        ax_list[i].set_ylabel(\"Min. wage ($/hr)\")\n",
    "\n",
    "        ax_list[i].legend()\n",
    "    \n",
    "##\n",
    "## It should be very obvious that minimum wage time trends are not linear!\n",
    "## As evidenced by our poor model fit (a fairly high mean square error\n",
    "## on the validation set during training), we clearly cannot just use\n",
    "## OLS to project future minimum wage ... using only YEAR as our input!\n",
    "## Some steps to improve our predictions:\n",
    "##\n",
    "## * DATA. Collect state-level covariates that predict minimum wage.\n",
    "##\n",
    "## * MODEL. Try an alternate regression specification (e.g. Ridge,\n",
    "##   Lasso, ElasticNet).\n",
    "##\n",
    "## * VALIDATION. Don't validate our model using just one pair of \n",
    "##   training/validation sets ... do this repeatedly (cross-validation)\n",
    "##   for a better estimate of model performance.\n",
    "##\n",
    "## * HYPERPARAMETERS. Search for better model settings (hyperparameters)\n",
    "##   in a data-driven way through cross-validation.\n",
    "##"
   ]
  },
  {
   "cell_type": "markdown",
   "metadata": {},
   "source": [
    "### <div style=\"color:purple\">SUMMARY</div>\n",
    "\n",
    "- **`scikit-learn`** is probably the most value added in specifically using Python when doing data science.\n",
    "\n",
    "\n",
    "- **Supervised learning** is mostly about predicting responses; **unsupervised learning** is mostly about predicting structure.\n",
    "\n",
    "\n",
    "- Lots of model diagnostic metrics available to use (e.g. **`metrics.classification_report`**, **`metrics.accuracy_score`**)\n",
    "\n",
    "\n",
    "- 99% of the time when you are doing machine learning with social science data, your \"off-the-shelf\" model will suck at its task. So you will need to (1.) perform cross-validation as well as (2.) search for good hyperparameters (model settings). Learn to get cozy with the **`sklearn.model_selection`** module!\n",
    "<br><br>\n",
    "<div style=\"color:gray; text-align:right; font-weight:bold;\">[BACK TO TOP  &#8593;](#toc)</div>"
   ]
  },
  {
   "cell_type": "markdown",
   "metadata": {},
   "source": [
    "# <span style=\"color:gray\">END OF NOTEBOOK</span>"
   ]
  }
 ],
 "metadata": {
  "kernelspec": {
   "display_name": "Python 2",
   "language": "python",
   "name": "python2"
  },
  "language_info": {
   "codemirror_mode": {
    "name": "ipython",
    "version": 2
   },
   "file_extension": ".py",
   "mimetype": "text/x-python",
   "name": "python",
   "nbconvert_exporter": "python",
   "pygments_lexer": "ipython2",
   "version": "2.7.13"
  }
 },
 "nbformat": 4,
 "nbformat_minor": 1
}
