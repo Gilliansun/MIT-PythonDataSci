{
 "cells": [
  {
   "cell_type": "markdown",
   "metadata": {},
   "source": [
    "# Python Fundamentals: A Crash Course \n",
    "\n",
    "### Instructor: Soubhik Barari\n",
    "\n",
    "#### (with solutions)\n",
    "\n",
    "Welcome! This Jupyter notebook serves as a walk-through of the most fundamental features of the Python programming language *specifically for data science*. Therefore, this is a *practical* rather than *comprehensive* guide, giving you the core essentials to get started with data science. \n",
    "\n",
    "<a class=\"anchor\" id=\"toc\"></a>\n",
    "### <u>Table of Contents</u>\n",
    "1. [**Basic Types**](#basic-types)\n",
    "2. [**Basic Data Structures (`list` and `dict`)**](#data-struct)\n",
    "3. [**Control Flow**](#control-flow)\n",
    "4. [**Functional and Object-Oriented Programming**](#func-obj)\n",
    "5. [**Working with Strings (`str`)**](#str)**\n",
    "6. [**Handling Errors**](#err)**\n",
    "7. [**Reading and Writing**](#rw) **\n",
    "8. [**System Libraries**](#sys-lib) **\n",
    "9. [**Miscellaneous Topics**](#misc) **\n",
    "\n",
    "<sub>** = optional</sub>\n",
    "\n",
    "**TIP:** when first learning Python, it's a good idea to have the documentation up next to your workspace. For Python 2.7 - the version of Python used in this notebook - that is:\n",
    "\n",
    "&nbsp;&nbsp;&nbsp;&nbsp;&nbsp;&nbsp;&nbsp;&nbsp;**[`https://docs.python.org/2.7/`](https://docs.python.org/2.7/)**\n",
    "\n",
    "\n",
    "This notebook assumes that you have some basic exposure of or proficiency with the **`R`** programming language or an imperative programming language of similar complexity.\n",
    "\n"
   ]
  },
  {
   "cell_type": "markdown",
   "metadata": {},
   "source": [
    "## 1. Basic Types  <a class=\"anchor\" id=\"basic-types\"></a>\n",
    "\n",
    "First we're going to go over the most fundamental building blocks of Python: basic data types. <br>\n",
    "\n",
    "As you would expect, Python has a data type for integers (**`int`**), strings (**`str`**), booleans (**`bool`**), and for floating point numbers/decimals (**`float`**). If you're familiar with R, these types pretty much directly translate with minor syntactical differences."
   ]
  },
  {
   "cell_type": "code",
   "execution_count": 5,
   "metadata": {
    "collapsed": true
   },
   "outputs": [],
   "source": [
    "a = 17\n",
    "b = \"Hello world\"\n",
    "c = 806.0\n",
    "d = \"\"\"\n",
    "    This is a multiline string.\n",
    "    \"\"\"\n",
    "e = True\n",
    "f = None"
   ]
  },
  {
   "cell_type": "markdown",
   "metadata": {},
   "source": [
    "You can write comments with a single **`#`** just like in R."
   ]
  },
  {
   "cell_type": "code",
   "execution_count": 6,
   "metadata": {
    "collapsed": true
   },
   "outputs": [],
   "source": [
    "# This is a comment!"
   ]
  },
  {
   "cell_type": "markdown",
   "metadata": {},
   "source": [
    "The print command is simply **`print`**."
   ]
  },
  {
   "cell_type": "code",
   "execution_count": 7,
   "metadata": {
    "collapsed": false
   },
   "outputs": [
    {
     "name": "stdout",
     "output_type": "stream",
     "text": [
      "17\n",
      "Hello world\n",
      "806.0\n",
      "\n",
      "    This is a multiline string.\n",
      "    \n"
     ]
    }
   ],
   "source": [
    "print a\n",
    "print b\n",
    "print c\n",
    "print d"
   ]
  },
  {
   "cell_type": "markdown",
   "metadata": {},
   "source": [
    "The equivalent of **`typeof`** in R is **`type`** in Python to discover the data type of any variable."
   ]
  },
  {
   "cell_type": "code",
   "execution_count": 8,
   "metadata": {
    "collapsed": false
   },
   "outputs": [
    {
     "name": "stdout",
     "output_type": "stream",
     "text": [
      "<type 'int'>\n",
      "<type 'str'>\n",
      "<type 'float'>\n",
      "<type 'str'>\n"
     ]
    }
   ],
   "source": [
    "print type(a)\n",
    "print type(b); print type(c); print type(d)"
   ]
  },
  {
   "cell_type": "markdown",
   "metadata": {},
   "source": [
    "The usual syntax for numerical operations in R still apply. "
   ]
  },
  {
   "cell_type": "code",
   "execution_count": 9,
   "metadata": {
    "collapsed": false
   },
   "outputs": [
    {
     "name": "stdout",
     "output_type": "stream",
     "text": [
      "823.0\n",
      "3\n"
     ]
    }
   ],
   "source": [
    "print a + c\n",
    "print a / 5"
   ]
  },
  {
   "cell_type": "code",
   "execution_count": 10,
   "metadata": {
    "collapsed": false
   },
   "outputs": [
    {
     "name": "stdout",
     "output_type": "stream",
     "text": [
      "3.4\n"
     ]
    }
   ],
   "source": [
    "print float(a) / 5"
   ]
  },
  {
   "cell_type": "markdown",
   "metadata": {
    "collapsed": true
   },
   "source": [
    "\n",
    "### 1.1. **Exercise:** \n",
    "Concatenate **`a`, `b`, `c`, `d`** into a single **`string`** object and display the output: \n",
    "\n",
    "\n",
    "### <div style=\"color:red\">Solution:</div>"
   ]
  },
  {
   "cell_type": "code",
   "execution_count": 11,
   "metadata": {
    "collapsed": false
   },
   "outputs": [
    {
     "data": {
      "text/plain": [
       "'17Hello world806.0\\n    This is a multiline string.\\n    '"
      ]
     },
     "execution_count": 11,
     "metadata": {},
     "output_type": "execute_result"
    }
   ],
   "source": [
    "str(a) + b + str(c) + d\n",
    "# And the award for the ugliest string in the world goes to..."
   ]
  },
  {
   "cell_type": "markdown",
   "metadata": {},
   "source": [
    "**TIP**: when you want to learn more about a variable's *class*, use the **`help`** function!"
   ]
  },
  {
   "cell_type": "code",
   "execution_count": 12,
   "metadata": {
    "collapsed": false,
    "scrolled": false
   },
   "outputs": [
    {
     "name": "stdout",
     "output_type": "stream",
     "text": [
      "Help on class str in module __builtin__:\n",
      "\n",
      "class str(basestring)\n",
      " |  str(object='') -> string\n",
      " |  \n",
      " |  Return a nice string representation of the object.\n",
      " |  If the argument is a string, the return value is the same object.\n",
      " |  \n",
      " |  Method resolution order:\n",
      " |      str\n",
      " |      basestring\n",
      " |      object\n",
      " |  \n",
      " |  Methods defined here:\n",
      " |  \n",
      " |  __add__(...)\n",
      " |      x.__add__(y) <==> x+y\n",
      " |  \n",
      " |  __contains__(...)\n",
      " |      x.__contains__(y) <==> y in x\n",
      " |  \n",
      " |  __eq__(...)\n",
      " |      x.__eq__(y) <==> x==y\n",
      " |  \n",
      " |  __format__(...)\n",
      " |      S.__format__(format_spec) -> string\n",
      " |      \n",
      " |      Return a formatted version of S as described by format_spec.\n",
      " |  \n",
      " |  __ge__(...)\n",
      " |      x.__ge__(y) <==> x>=y\n",
      " |  \n",
      " |  __getattribute__(...)\n",
      " |      x.__getattribute__('name') <==> x.name\n",
      " |  \n",
      " |  __getitem__(...)\n",
      " |      x.__getitem__(y) <==> x[y]\n",
      " |  \n",
      " |  __getnewargs__(...)\n",
      " |  \n",
      " |  __getslice__(...)\n",
      " |      x.__getslice__(i, j) <==> x[i:j]\n",
      " |      \n",
      " |      Use of negative indices is not supported.\n",
      " |  \n",
      " |  __gt__(...)\n",
      " |      x.__gt__(y) <==> x>y\n",
      " |  \n",
      " |  __hash__(...)\n",
      " |      x.__hash__() <==> hash(x)\n",
      " |  \n",
      " |  __le__(...)\n",
      " |      x.__le__(y) <==> x<=y\n",
      " |  \n",
      " |  __len__(...)\n",
      " |      x.__len__() <==> len(x)\n",
      " |  \n",
      " |  __lt__(...)\n",
      " |      x.__lt__(y) <==> x<y\n",
      " |  \n",
      " |  __mod__(...)\n",
      " |      x.__mod__(y) <==> x%y\n",
      " |  \n",
      " |  __mul__(...)\n",
      " |      x.__mul__(n) <==> x*n\n",
      " |  \n",
      " |  __ne__(...)\n",
      " |      x.__ne__(y) <==> x!=y\n",
      " |  \n",
      " |  __repr__(...)\n",
      " |      x.__repr__() <==> repr(x)\n",
      " |  \n",
      " |  __rmod__(...)\n",
      " |      x.__rmod__(y) <==> y%x\n",
      " |  \n",
      " |  __rmul__(...)\n",
      " |      x.__rmul__(n) <==> n*x\n",
      " |  \n",
      " |  __sizeof__(...)\n",
      " |      S.__sizeof__() -> size of S in memory, in bytes\n",
      " |  \n",
      " |  __str__(...)\n",
      " |      x.__str__() <==> str(x)\n",
      " |  \n",
      " |  capitalize(...)\n",
      " |      S.capitalize() -> string\n",
      " |      \n",
      " |      Return a copy of the string S with only its first character\n",
      " |      capitalized.\n",
      " |  \n",
      " |  center(...)\n",
      " |      S.center(width[, fillchar]) -> string\n",
      " |      \n",
      " |      Return S centered in a string of length width. Padding is\n",
      " |      done using the specified fill character (default is a space)\n",
      " |  \n",
      " |  count(...)\n",
      " |      S.count(sub[, start[, end]]) -> int\n",
      " |      \n",
      " |      Return the number of non-overlapping occurrences of substring sub in\n",
      " |      string S[start:end].  Optional arguments start and end are interpreted\n",
      " |      as in slice notation.\n",
      " |  \n",
      " |  decode(...)\n",
      " |      S.decode([encoding[,errors]]) -> object\n",
      " |      \n",
      " |      Decodes S using the codec registered for encoding. encoding defaults\n",
      " |      to the default encoding. errors may be given to set a different error\n",
      " |      handling scheme. Default is 'strict' meaning that encoding errors raise\n",
      " |      a UnicodeDecodeError. Other possible values are 'ignore' and 'replace'\n",
      " |      as well as any other name registered with codecs.register_error that is\n",
      " |      able to handle UnicodeDecodeErrors.\n",
      " |  \n",
      " |  encode(...)\n",
      " |      S.encode([encoding[,errors]]) -> object\n",
      " |      \n",
      " |      Encodes S using the codec registered for encoding. encoding defaults\n",
      " |      to the default encoding. errors may be given to set a different error\n",
      " |      handling scheme. Default is 'strict' meaning that encoding errors raise\n",
      " |      a UnicodeEncodeError. Other possible values are 'ignore', 'replace' and\n",
      " |      'xmlcharrefreplace' as well as any other name registered with\n",
      " |      codecs.register_error that is able to handle UnicodeEncodeErrors.\n",
      " |  \n",
      " |  endswith(...)\n",
      " |      S.endswith(suffix[, start[, end]]) -> bool\n",
      " |      \n",
      " |      Return True if S ends with the specified suffix, False otherwise.\n",
      " |      With optional start, test S beginning at that position.\n",
      " |      With optional end, stop comparing S at that position.\n",
      " |      suffix can also be a tuple of strings to try.\n",
      " |  \n",
      " |  expandtabs(...)\n",
      " |      S.expandtabs([tabsize]) -> string\n",
      " |      \n",
      " |      Return a copy of S where all tab characters are expanded using spaces.\n",
      " |      If tabsize is not given, a tab size of 8 characters is assumed.\n",
      " |  \n",
      " |  find(...)\n",
      " |      S.find(sub [,start [,end]]) -> int\n",
      " |      \n",
      " |      Return the lowest index in S where substring sub is found,\n",
      " |      such that sub is contained within S[start:end].  Optional\n",
      " |      arguments start and end are interpreted as in slice notation.\n",
      " |      \n",
      " |      Return -1 on failure.\n",
      " |  \n",
      " |  format(...)\n",
      " |      S.format(*args, **kwargs) -> string\n",
      " |      \n",
      " |      Return a formatted version of S, using substitutions from args and kwargs.\n",
      " |      The substitutions are identified by braces ('{' and '}').\n",
      " |  \n",
      " |  index(...)\n",
      " |      S.index(sub [,start [,end]]) -> int\n",
      " |      \n",
      " |      Like S.find() but raise ValueError when the substring is not found.\n",
      " |  \n",
      " |  isalnum(...)\n",
      " |      S.isalnum() -> bool\n",
      " |      \n",
      " |      Return True if all characters in S are alphanumeric\n",
      " |      and there is at least one character in S, False otherwise.\n",
      " |  \n",
      " |  isalpha(...)\n",
      " |      S.isalpha() -> bool\n",
      " |      \n",
      " |      Return True if all characters in S are alphabetic\n",
      " |      and there is at least one character in S, False otherwise.\n",
      " |  \n",
      " |  isdigit(...)\n",
      " |      S.isdigit() -> bool\n",
      " |      \n",
      " |      Return True if all characters in S are digits\n",
      " |      and there is at least one character in S, False otherwise.\n",
      " |  \n",
      " |  islower(...)\n",
      " |      S.islower() -> bool\n",
      " |      \n",
      " |      Return True if all cased characters in S are lowercase and there is\n",
      " |      at least one cased character in S, False otherwise.\n",
      " |  \n",
      " |  isspace(...)\n",
      " |      S.isspace() -> bool\n",
      " |      \n",
      " |      Return True if all characters in S are whitespace\n",
      " |      and there is at least one character in S, False otherwise.\n",
      " |  \n",
      " |  istitle(...)\n",
      " |      S.istitle() -> bool\n",
      " |      \n",
      " |      Return True if S is a titlecased string and there is at least one\n",
      " |      character in S, i.e. uppercase characters may only follow uncased\n",
      " |      characters and lowercase characters only cased ones. Return False\n",
      " |      otherwise.\n",
      " |  \n",
      " |  isupper(...)\n",
      " |      S.isupper() -> bool\n",
      " |      \n",
      " |      Return True if all cased characters in S are uppercase and there is\n",
      " |      at least one cased character in S, False otherwise.\n",
      " |  \n",
      " |  join(...)\n",
      " |      S.join(iterable) -> string\n",
      " |      \n",
      " |      Return a string which is the concatenation of the strings in the\n",
      " |      iterable.  The separator between elements is S.\n",
      " |  \n",
      " |  ljust(...)\n",
      " |      S.ljust(width[, fillchar]) -> string\n",
      " |      \n",
      " |      Return S left-justified in a string of length width. Padding is\n",
      " |      done using the specified fill character (default is a space).\n",
      " |  \n",
      " |  lower(...)\n",
      " |      S.lower() -> string\n",
      " |      \n",
      " |      Return a copy of the string S converted to lowercase.\n",
      " |  \n",
      " |  lstrip(...)\n",
      " |      S.lstrip([chars]) -> string or unicode\n",
      " |      \n",
      " |      Return a copy of the string S with leading whitespace removed.\n",
      " |      If chars is given and not None, remove characters in chars instead.\n",
      " |      If chars is unicode, S will be converted to unicode before stripping\n",
      " |  \n",
      " |  partition(...)\n",
      " |      S.partition(sep) -> (head, sep, tail)\n",
      " |      \n",
      " |      Search for the separator sep in S, and return the part before it,\n",
      " |      the separator itself, and the part after it.  If the separator is not\n",
      " |      found, return S and two empty strings.\n",
      " |  \n",
      " |  replace(...)\n",
      " |      S.replace(old, new[, count]) -> string\n",
      " |      \n",
      " |      Return a copy of string S with all occurrences of substring\n",
      " |      old replaced by new.  If the optional argument count is\n",
      " |      given, only the first count occurrences are replaced.\n",
      " |  \n",
      " |  rfind(...)\n",
      " |      S.rfind(sub [,start [,end]]) -> int\n",
      " |      \n",
      " |      Return the highest index in S where substring sub is found,\n",
      " |      such that sub is contained within S[start:end].  Optional\n",
      " |      arguments start and end are interpreted as in slice notation.\n",
      " |      \n",
      " |      Return -1 on failure.\n",
      " |  \n",
      " |  rindex(...)\n",
      " |      S.rindex(sub [,start [,end]]) -> int\n",
      " |      \n",
      " |      Like S.rfind() but raise ValueError when the substring is not found.\n",
      " |  \n",
      " |  rjust(...)\n",
      " |      S.rjust(width[, fillchar]) -> string\n",
      " |      \n",
      " |      Return S right-justified in a string of length width. Padding is\n",
      " |      done using the specified fill character (default is a space)\n",
      " |  \n",
      " |  rpartition(...)\n",
      " |      S.rpartition(sep) -> (head, sep, tail)\n",
      " |      \n",
      " |      Search for the separator sep in S, starting at the end of S, and return\n",
      " |      the part before it, the separator itself, and the part after it.  If the\n",
      " |      separator is not found, return two empty strings and S.\n",
      " |  \n",
      " |  rsplit(...)\n",
      " |      S.rsplit([sep [,maxsplit]]) -> list of strings\n",
      " |      \n",
      " |      Return a list of the words in the string S, using sep as the\n",
      " |      delimiter string, starting at the end of the string and working\n",
      " |      to the front.  If maxsplit is given, at most maxsplit splits are\n",
      " |      done. If sep is not specified or is None, any whitespace string\n",
      " |      is a separator.\n",
      " |  \n",
      " |  rstrip(...)\n",
      " |      S.rstrip([chars]) -> string or unicode\n",
      " |      \n",
      " |      Return a copy of the string S with trailing whitespace removed.\n",
      " |      If chars is given and not None, remove characters in chars instead.\n",
      " |      If chars is unicode, S will be converted to unicode before stripping\n",
      " |  \n",
      " |  split(...)\n",
      " |      S.split([sep [,maxsplit]]) -> list of strings\n",
      " |      \n",
      " |      Return a list of the words in the string S, using sep as the\n",
      " |      delimiter string.  If maxsplit is given, at most maxsplit\n",
      " |      splits are done. If sep is not specified or is None, any\n",
      " |      whitespace string is a separator and empty strings are removed\n",
      " |      from the result.\n",
      " |  \n",
      " |  splitlines(...)\n",
      " |      S.splitlines(keepends=False) -> list of strings\n",
      " |      \n",
      " |      Return a list of the lines in S, breaking at line boundaries.\n",
      " |      Line breaks are not included in the resulting list unless keepends\n",
      " |      is given and true.\n",
      " |  \n",
      " |  startswith(...)\n",
      " |      S.startswith(prefix[, start[, end]]) -> bool\n",
      " |      \n",
      " |      Return True if S starts with the specified prefix, False otherwise.\n",
      " |      With optional start, test S beginning at that position.\n",
      " |      With optional end, stop comparing S at that position.\n",
      " |      prefix can also be a tuple of strings to try.\n",
      " |  \n",
      " |  strip(...)\n",
      " |      S.strip([chars]) -> string or unicode\n",
      " |      \n",
      " |      Return a copy of the string S with leading and trailing\n",
      " |      whitespace removed.\n",
      " |      If chars is given and not None, remove characters in chars instead.\n",
      " |      If chars is unicode, S will be converted to unicode before stripping\n",
      " |  \n",
      " |  swapcase(...)\n",
      " |      S.swapcase() -> string\n",
      " |      \n",
      " |      Return a copy of the string S with uppercase characters\n",
      " |      converted to lowercase and vice versa.\n",
      " |  \n",
      " |  title(...)\n",
      " |      S.title() -> string\n",
      " |      \n",
      " |      Return a titlecased version of S, i.e. words start with uppercase\n",
      " |      characters, all remaining cased characters have lowercase.\n",
      " |  \n",
      " |  translate(...)\n",
      " |      S.translate(table [,deletechars]) -> string\n",
      " |      \n",
      " |      Return a copy of the string S, where all characters occurring\n",
      " |      in the optional argument deletechars are removed, and the\n",
      " |      remaining characters have been mapped through the given\n",
      " |      translation table, which must be a string of length 256 or None.\n",
      " |      If the table argument is None, no translation is applied and\n",
      " |      the operation simply removes the characters in deletechars.\n",
      " |  \n",
      " |  upper(...)\n",
      " |      S.upper() -> string\n",
      " |      \n",
      " |      Return a copy of the string S converted to uppercase.\n",
      " |  \n",
      " |  zfill(...)\n",
      " |      S.zfill(width) -> string\n",
      " |      \n",
      " |      Pad a numeric string S with zeros on the left, to fill a field\n",
      " |      of the specified width.  The string S is never truncated.\n",
      " |  \n",
      " |  ----------------------------------------------------------------------\n",
      " |  Data and other attributes defined here:\n",
      " |  \n",
      " |  __new__ = <built-in method __new__ of type object>\n",
      " |      T.__new__(S, ...) -> a new object with type S, a subtype of T\n",
      "\n"
     ]
    }
   ],
   "source": [
    "help(type(d))"
   ]
  },
  {
   "cell_type": "markdown",
   "metadata": {},
   "source": [
    "### <div style=\"color:purple\">SUMMARY:</div>\n",
    "- Arithmetic operations are the same as in **`R`**.\n",
    "\n",
    "\n",
    "- **`float`** and **`int`** behave differently under division.\n",
    "\n",
    "\n",
    "- Type-casting is encouraged!\n",
    "\n",
    "\n",
    "- Functions to save your life: **`print`**, **`type`** and **`help`**.\n",
    "<br><br>\n",
    "<div style=\"color:gray; text-align:right; font-weight:bold;\">[BACK TO TOP  &#8593;](#toc)</div>"
   ]
  },
  {
   "cell_type": "markdown",
   "metadata": {},
   "source": [
    "## 2. Basic Data Structures: **`list`** and **`dict`** <a class=\"anchor\" id=\"data-struct\"></a>\n",
    "\n",
    "We are going to go over the three most important data structures that can \"collect\" and organize multiple variables of various data types."
   ]
  },
  {
   "cell_type": "markdown",
   "metadata": {},
   "source": [
    "### 2.1. <u>**`list`**</u>\n",
    "\n",
    "An ordered collection that can contain variables of multiple data types and is accessed via numerical index. Can be modified (*mutable*)."
   ]
  },
  {
   "cell_type": "code",
   "execution_count": 13,
   "metadata": {
    "collapsed": false
   },
   "outputs": [],
   "source": [
    "states_list = [\"MA\", \"CA\", \"TX\", \"PA\"]          # INSTANTIATION"
   ]
  },
  {
   "cell_type": "markdown",
   "metadata": {},
   "source": [
    "Ways to index/slice into a Python list **`l`**:\n",
    "* **`l[i]`** &nbsp;&nbsp;&nbsp;&nbsp;&nbsp;&nbsp;&nbsp;&nbsp;&nbsp;&nbsp;&nbsp;&nbsp;&nbsp;&nbsp;&nbsp;&nbsp;&nbsp;&nbsp;&nbsp;&nbsp;&nbsp; - access single element at index **`i-1`**\n",
    "* **`l[start:end]`** &nbsp;&nbsp;&nbsp;&nbsp; - access all elements between indices **`start-1`** and **`end-1`**\n",
    "* **`l[start:end:n]`**&nbsp; - access every **`n`<sup>th</sup>** element between indices **`start-1`** and **`end-1`**\n",
    "\n",
    "**TIP:** Python is a zero-indexed programming language!"
   ]
  },
  {
   "cell_type": "code",
   "execution_count": 14,
   "metadata": {
    "collapsed": false
   },
   "outputs": [
    {
     "name": "stdout",
     "output_type": "stream",
     "text": [
      "MA\n",
      "['MA', 'CA']\n",
      "['MA', 'TX']\n"
     ]
    }
   ],
   "source": [
    "print states_list[0]\n",
    "print states_list[0:2]\n",
    "print states_list[0:3:2]"
   ]
  },
  {
   "cell_type": "markdown",
   "metadata": {},
   "source": [
    "**TIP:** The **`n`** in Python can be negative, in which case you will iterate backwards from the specified **`start`** to the **`end`** with the step size of **`n`**."
   ]
  },
  {
   "cell_type": "code",
   "execution_count": 15,
   "metadata": {
    "collapsed": false
   },
   "outputs": [
    {
     "name": "stdout",
     "output_type": "stream",
     "text": [
      "['PA', 'TX', 'CA']\n"
     ]
    }
   ],
   "source": [
    "print states_list[3:0:-1]"
   ]
  },
  {
   "cell_type": "code",
   "execution_count": 1,
   "metadata": {
    "collapsed": false
   },
   "outputs": [
    {
     "ename": "NameError",
     "evalue": "name 'states_list' is not defined",
     "output_type": "error",
     "traceback": [
      "\u001b[0;31m---------------------------------------------------------------------------\u001b[0m",
      "\u001b[0;31mNameError\u001b[0m                                 Traceback (most recent call last)",
      "\u001b[0;32m<ipython-input-1-3e3f5480b42d>\u001b[0m in \u001b[0;36m<module>\u001b[0;34m()\u001b[0m\n\u001b[0;32m----> 1\u001b[0;31m \u001b[0;32mprint\u001b[0m \u001b[0mlen\u001b[0m\u001b[0;34m(\u001b[0m\u001b[0mstates_list\u001b[0m\u001b[0;34m)\u001b[0m                         \u001b[0;31m# LENGTH\u001b[0m\u001b[0;34m\u001b[0m\u001b[0m\n\u001b[0m",
      "\u001b[0;31mNameError\u001b[0m: name 'states_list' is not defined"
     ]
    }
   ],
   "source": [
    "print len(states_list)                         # LENGTH"
   ]
  },
  {
   "cell_type": "code",
   "execution_count": 17,
   "metadata": {
    "collapsed": false
   },
   "outputs": [
    {
     "name": "stdout",
     "output_type": "stream",
     "text": [
      "['MA', 'CA', 'TX', 'PA', 'AZ', 'MN']\n"
     ]
    }
   ],
   "source": [
    "states_list = states_list + [\"AZ\", \"MN\"]       # CONCATENATION\n",
    "print states_list"
   ]
  },
  {
   "cell_type": "code",
   "execution_count": 18,
   "metadata": {
    "collapsed": false
   },
   "outputs": [
    {
     "name": "stdout",
     "output_type": "stream",
     "text": [
      "[\"Here's Johnny!\", \"Here's Johnny!\", \"Here's Johnny!\"]\n"
     ]
    }
   ],
   "source": [
    "print [\"Here's Johnny!\"]*3                     # REPETITION"
   ]
  },
  {
   "cell_type": "code",
   "execution_count": 19,
   "metadata": {
    "collapsed": false
   },
   "outputs": [
    {
     "name": "stdout",
     "output_type": "stream",
     "text": [
      "['AZ', 'CA', 'MA', 'MN', 'PA', 'TX']\n",
      "['AZ', 'CA', 'MA', 'MN', 'PA', 'TX']\n"
     ]
    }
   ],
   "source": [
    "print sorted(states_list)                      # SORTING (way 1)\n",
    "states_list.sort()                             # SORTING (way 2)\n",
    "print states_list"
   ]
  },
  {
   "cell_type": "code",
   "execution_count": 20,
   "metadata": {
    "collapsed": false
   },
   "outputs": [
    {
     "name": "stdout",
     "output_type": "stream",
     "text": [
      "['AZ', 'AZ', 'CA', 'MA', 'MN', 'PA', 'TX']\n"
     ]
    }
   ],
   "source": [
    "states_list.insert(1, \"AZ\")                    # INSERT\n",
    "print states_list"
   ]
  },
  {
   "cell_type": "code",
   "execution_count": 21,
   "metadata": {
    "collapsed": false
   },
   "outputs": [
    {
     "name": "stdout",
     "output_type": "stream",
     "text": [
      "['AZ', 'AZ', 'CA', 'MA', 'MN', 'PA', 'TX', 17]\n"
     ]
    }
   ],
   "source": [
    "states_list.append(17)                         # APPEND\n",
    "print states_list"
   ]
  },
  {
   "cell_type": "code",
   "execution_count": 22,
   "metadata": {
    "collapsed": false
   },
   "outputs": [
    {
     "name": "stdout",
     "output_type": "stream",
     "text": [
      "0\n",
      "True\n",
      "True\n"
     ]
    }
   ],
   "source": [
    "print states_list.index(\"AZ\")                  # FIND (get index)\n",
    "print \"AZ\" in states_list                      # FIND (get y/n answer)\n",
    "print \"PA\" in states_list"
   ]
  },
  {
   "cell_type": "code",
   "execution_count": 23,
   "metadata": {
    "collapsed": false
   },
   "outputs": [
    {
     "data": {
      "text/plain": [
       "2"
      ]
     },
     "execution_count": 23,
     "metadata": {},
     "output_type": "execute_result"
    }
   ],
   "source": [
    "states_list.count(\"AZ\")                        # COUNT"
   ]
  },
  {
   "cell_type": "code",
   "execution_count": 24,
   "metadata": {
    "collapsed": false
   },
   "outputs": [
    {
     "data": {
      "text/plain": [
       "[('MA', 'Mass.'), ('AZ', 'Ariz'), ('PA', 'Penn.')]"
      ]
     },
     "execution_count": 24,
     "metadata": {},
     "output_type": "execute_result"
    }
   ],
   "source": [
    "zip([\"MA\",\"AZ\",\"PA\"],[\"Mass.\",\"Ariz\",\"Penn.\"]) # ZIP"
   ]
  },
  {
   "cell_type": "code",
   "execution_count": 25,
   "metadata": {
    "collapsed": false
   },
   "outputs": [
    {
     "name": "stdout",
     "output_type": "stream",
     "text": [
      "5.15\n",
      "11.0\n"
     ]
    }
   ],
   "source": [
    "print min([5.15, 10.00, 7.25, 11.00])          # MINIMUM\n",
    "print max([5.15, 10.00, 7.25, 11.00])          # MAXIMUM"
   ]
  },
  {
   "cell_type": "code",
   "execution_count": 26,
   "metadata": {
    "collapsed": false
   },
   "outputs": [
    {
     "name": "stdout",
     "output_type": "stream",
     "text": [
      "[0, 1, 2, 3, 4, 5, 6]\n",
      "[0, 1, 2, 3, 4, 5, 6, 7]\n",
      "[0, 1, 2, 3, 4, 5, 6, 7]\n"
     ]
    }
   ],
   "source": [
    "print range(0, 7)                              # RANGES\n",
    "print range(0, len(states_list))\n",
    "print range(len(states_list))"
   ]
  },
  {
   "cell_type": "markdown",
   "metadata": {},
   "source": [
    "### 2.2. <u>**`dict`**</u>\n",
    "\n",
    "A collection of items (**values**) that can be accessed by corresponding labels (**keys**).  "
   ]
  },
  {
   "cell_type": "code",
   "execution_count": 4,
   "metadata": {
    "collapsed": false
   },
   "outputs": [
    {
     "name": "stdout",
     "output_type": "stream",
     "text": [
      "{'AZ': 10.0, 'MA': 11.0, 'TX': 7.25, 'GA': 5.15}\n"
     ]
    }
   ],
   "source": [
    "min_wage_dict = {                              # INSTANTIATION (way 1)\n",
    "    \"MA\"  : 11.00,\n",
    "    \"AZ\"  : 10.00,\n",
    "    \"GA\"  : 5.15,\n",
    "    \"TX\"  : 7.25\n",
    "}\n",
    "\n",
    "states_list = [\"MA\", \"AZ\", \"GA\", \"TX\"]         # INSTANTIATION (way 2)\n",
    "min_wages = [11.00, 10.00, 5.15, 7.25]\n",
    "min_wage_dict = dict(zip(states_list, min_wages))\n",
    "\n",
    "min_wage_dict = dict(MA=11.00,                 # INSTANTIATION (way 3)\n",
    "                     AZ=10.00,\n",
    "                     GA=5.15,\n",
    "                     TX=7.25)\n",
    "print min_wage_dict"
   ]
  },
  {
   "cell_type": "code",
   "execution_count": 8,
   "metadata": {
    "collapsed": false
   },
   "outputs": [
    {
     "name": "stdout",
     "output_type": "stream",
     "text": [
      "15.0\n"
     ]
    }
   ],
   "source": [
    "min_wage_dict[\"MA\"] = 15.00                    # UPDATE VALUE(S)\n",
    "print min_wage_dict[\"MA\"]"
   ]
  },
  {
   "cell_type": "code",
   "execution_count": 29,
   "metadata": {
    "collapsed": false
   },
   "outputs": [
    {
     "name": "stdout",
     "output_type": "stream",
     "text": [
      "[('AZ', 10.0), ('MA', 15.0), ('TX', 7.25), ('GA', 5.15)]\n"
     ]
    }
   ],
   "source": [
    "print min_wage_dict.items()                    # FLATTEN DICTIONARY"
   ]
  },
  {
   "cell_type": "markdown",
   "metadata": {},
   "source": [
    "**TIP:** a **`tuple`** is just a read-only list. Note that each key-value pair that comes out of **`min_wage_dict.items()`** is a tuple!"
   ]
  },
  {
   "cell_type": "code",
   "execution_count": 30,
   "metadata": {
    "collapsed": false
   },
   "outputs": [
    {
     "name": "stdout",
     "output_type": "stream",
     "text": [
      "States: ['AZ', 'MA', 'TX', 'GA']\n",
      "Wages: [10.0, 15.0, 7.25, 5.15]\n"
     ]
    }
   ],
   "source": [
    "print \"States:\", min_wage_dict.keys()          # GET KEYS\n",
    "print \"Wages:\", min_wage_dict.values()         # GET VALUES"
   ]
  },
  {
   "cell_type": "markdown",
   "metadata": {},
   "source": [
    "### 2.3. **Exercise:** \n",
    "Write some code to find the lowest minimum wage in the states in our \"sample\" and output the state name, using either the **`dict`** or the **`list`** variables.\n",
    "\n",
    "### <div style=\"color:red\">Solution:</div>"
   ]
  },
  {
   "cell_type": "code",
   "execution_count": 31,
   "metadata": {
    "collapsed": false
   },
   "outputs": [],
   "source": [
    "sol_A = states_list[min_wages.index(min(min_wages))]\n",
    "sol_B = min(min_wage_dict.items(), key=lambda (k,v): (v,k))[0]"
   ]
  },
  {
   "cell_type": "markdown",
   "metadata": {},
   "source": [
    "### 2.4. **Exercise:** \n",
    "Write some code to find the average minimum wage in the states in our \"sample\" rounded to the nearest dollar, using either the **`dict`** or the **`list`** variables.\n",
    "\n",
    "\n",
    "### <div style=\"color:red\">Solution:</div>"
   ]
  },
  {
   "cell_type": "code",
   "execution_count": 32,
   "metadata": {
    "collapsed": false
   },
   "outputs": [
    {
     "data": {
      "text/plain": [
       "8"
      ]
     },
     "execution_count": 32,
     "metadata": {},
     "output_type": "execute_result"
    }
   ],
   "source": [
    "int(sum(min_wages)/len(min_wages))"
   ]
  },
  {
   "cell_type": "markdown",
   "metadata": {},
   "source": [
    "**TIP:** A **`list`** can be converted to a **`set`** (i.e. stores only unique elements of a list):"
   ]
  },
  {
   "cell_type": "code",
   "execution_count": 33,
   "metadata": {
    "collapsed": false
   },
   "outputs": [
    {
     "data": {
      "text/plain": [
       "{1, 2, 3, 5}"
      ]
     },
     "execution_count": 33,
     "metadata": {},
     "output_type": "execute_result"
    }
   ],
   "source": [
    "set([1,2,2,2,2,3,3,3,5,5,5])"
   ]
  },
  {
   "cell_type": "markdown",
   "metadata": {},
   "source": [
    "### <div style=\"color:purple\">SUMMARY</div>\n",
    "- A **`list`** can be indexed, sliced using a range, or sliced using intervals.\n",
    "\n",
    "\n",
    "- The first element of a list has index 0!\n",
    "\n",
    "\n",
    "- A **`dict`** is a \"named\" list.\n",
    "\n",
    "\n",
    "- There are many global functions (e.g. **`zip`**) and class functions (e.g. **`d.items()`**) that are applicable to **`list`** and **`dict`** objects respectively. \n",
    "\n",
    "\n",
    "- A **`tuple`** is a read-only list.\n",
    "\n",
    "\n",
    "- A **`set`** is a de-depulicated list.\n",
    "<br><br>\n",
    "<div style=\"color:gray; text-align:right; font-weight:bold;\">[BACK TO TOP  &#8593;](#toc)</div>"
   ]
  },
  {
   "cell_type": "markdown",
   "metadata": {},
   "source": [
    "## 3. Control Flow <a class=\"anchor\" id=\"control-flow\"></a>\n",
    "\n",
    "Now that we know how to create variables as well as organize them into some simple but powerful data structures, let's learn how to \"traverse\" our data structures in order to do tasks that involve *more than one element of a data structure*."
   ]
  },
  {
   "cell_type": "markdown",
   "metadata": {},
   "source": [
    "### 3.1. <u>Loops</u>"
   ]
  },
  {
   "cell_type": "markdown",
   "metadata": {},
   "source": [
    "**TIP:** Indentation matters in Python!!"
   ]
  },
  {
   "cell_type": "code",
   "execution_count": 34,
   "metadata": {
    "collapsed": false
   },
   "outputs": [
    {
     "name": "stdout",
     "output_type": "stream",
     "text": [
      "MA\n",
      "AZ\n",
      "GA\n",
      "TX\n"
     ]
    }
   ],
   "source": [
    "for s in states_list:                # FOR-loop\n",
    "    print s"
   ]
  },
  {
   "cell_type": "code",
   "execution_count": 35,
   "metadata": {
    "collapsed": false
   },
   "outputs": [
    {
     "name": "stdout",
     "output_type": "stream",
     "text": [
      "0\n",
      "1\n",
      "2\n",
      "3\n"
     ]
    }
   ],
   "source": [
    "for i in range(len(states_list)):    # FOR-loop (over range)\n",
    "    print i"
   ]
  },
  {
   "cell_type": "code",
   "execution_count": 36,
   "metadata": {
    "collapsed": false
   },
   "outputs": [
    {
     "name": "stdout",
     "output_type": "stream",
     "text": [
      "0 MA\n",
      "1 AZ\n",
      "2 GA\n",
      "3 TX\n"
     ]
    }
   ],
   "source": [
    "for (i, s) in enumerate(states_list): # FOR-loop (over enumerated list)\n",
    "    print i, s"
   ]
  },
  {
   "cell_type": "code",
   "execution_count": 37,
   "metadata": {
    "collapsed": false
   },
   "outputs": [
    {
     "name": "stdout",
     "output_type": "stream",
     "text": [
      "0\n",
      "'M'\n",
      "'A'\n",
      "1\n",
      "'A'\n",
      "'Z'\n",
      "2\n",
      "'G'\n",
      "'A'\n",
      "3\n",
      "'T'\n",
      "'X'\n"
     ]
    }
   ],
   "source": [
    "for (i, s) in enumerate(states_list):# FOR-loops (nested)\n",
    "    print i\n",
    "    for char in s:\n",
    "        print \"'\"+char+\"'\""
   ]
  },
  {
   "cell_type": "code",
   "execution_count": 38,
   "metadata": {
    "collapsed": false
   },
   "outputs": [
    {
     "name": "stdout",
     "output_type": "stream",
     "text": [
      "MA\n",
      "AZ\n",
      "GA\n"
     ]
    }
   ],
   "source": [
    "i = 0                                # WHILE-loop\n",
    "while (i < (len(states_list)-1)):\n",
    "    print states_list[i]\n",
    "    i = i + 1"
   ]
  },
  {
   "cell_type": "markdown",
   "metadata": {},
   "source": [
    "### 3.2. <u>Conditional statements</u>"
   ]
  },
  {
   "cell_type": "code",
   "execution_count": 39,
   "metadata": {
    "collapsed": false
   },
   "outputs": [
    {
     "name": "stdout",
     "output_type": "stream",
     "text": [
      "MA\n",
      "GA\n"
     ]
    }
   ],
   "source": [
    "for (i, s) in enumerate(states_list): # IF statement\n",
    "    if s[1] == \"A\":\n",
    "        print s"
   ]
  },
  {
   "cell_type": "code",
   "execution_count": 40,
   "metadata": {
    "collapsed": false
   },
   "outputs": [
    {
     "name": "stdout",
     "output_type": "stream",
     "text": [
      "BEST STATE: MA\n",
      "WORST STATE: TX\n"
     ]
    }
   ],
   "source": [
    "for (i, s) in enumerate(states_list): # IF/ELSE statements\n",
    "    if i == 0:\n",
    "        print \"BEST STATE:\",s\n",
    "    elif i == (len(states_list)-1):\n",
    "        print \"WORST STATE:\",s\n",
    "    else:\n",
    "        continue                      # CONTINUE statement"
   ]
  },
  {
   "cell_type": "code",
   "execution_count": 41,
   "metadata": {
    "collapsed": false
   },
   "outputs": [
    {
     "name": "stdout",
     "output_type": "stream",
     "text": [
      "GA\n",
      "Found a state w/'G' in it! DONE!\n"
     ]
    }
   ],
   "source": [
    "for (i, s) in enumerate(states_list):\n",
    "    if \"G\" in s:\n",
    "        print s\n",
    "        print \"Found a state w/'G' in it! DONE!\" \n",
    "        break                         # BREAK statement"
   ]
  },
  {
   "cell_type": "markdown",
   "metadata": {},
   "source": [
    "**TIP:** You can create an entire conditional clause in one line ... similar to calling **`ifelse()`** in **`R`**:"
   ]
  },
  {
   "cell_type": "code",
   "execution_count": 42,
   "metadata": {
    "collapsed": false
   },
   "outputs": [
    {
     "name": "stdout",
     "output_type": "stream",
     "text": [
      "True\n"
     ]
    }
   ],
   "source": [
    "has_best_state = True if \"MA\" in states_list else False\n",
    "print has_best_state"
   ]
  },
  {
   "cell_type": "markdown",
   "metadata": {},
   "source": [
    "### 3.3. <u>**Application: State minimum wage data**</u>\n",
    "\n",
    "Below, we have dictionaries denoting which *region* each of the states the U.S. belongs to as well as the corresponding *majority party* in the state legislature (in 2017).\n",
    "\n"
   ]
  },
  {
   "cell_type": "code",
   "execution_count": 43,
   "metadata": {
    "collapsed": false
   },
   "outputs": [],
   "source": [
    "R2S   = {'Mountain': ['AZ', 'CO', 'ID', 'MT', 'NM', 'NV', 'UT', 'WY'], 'South Atlantic': ['DC', 'DE', 'FL', 'GA', 'MD', 'NC', 'SC', 'VA', 'WV'], 'New England': ['CT', 'MA', 'ME', 'NH', 'RI', 'VT'], 'East North Central': ['IL', 'IN', 'MI', 'OH', 'WI'], 'West North Central': ['IA', 'KS', 'MN', 'MO', 'ND', 'NE', 'SD'], 'Pacific': ['AK', 'CA', 'HI', 'OR', 'WA'], 'Middle Atlantic': ['NJ', 'NY', 'PA'], 'West South Central': ['AR', 'LA', 'OK', 'TX'], 'East South Central': ['AL', 'KY', 'MS', 'TN']}\n",
    "S2P   = {'WA': 'Dem', 'DE': 'Dem', 'WI': 'Rep', 'WV': 'Rep', 'HI': 'Dem', 'FL': 'Rep', 'WY': 'Rep', 'NH': 'Rep', 'NJ': 'Dem', 'NM': 'Dem', 'TX': 'Rep', 'LA': 'Rep', 'NC': 'Rep', 'ND': 'Rep', 'TN': 'Rep', 'NY': 'Dem', 'PA': 'Rep', 'CA': 'Dem', 'NV': 'Dem', 'VA': 'Rep', 'CO': 'Split', 'AK': 'Rep', 'AL': 'Rep', 'AR': 'Rep', 'VT': 'Dem', 'IL': 'Dem', 'GA': 'Rep', 'IN': 'Rep', 'IA': 'Rep', 'OK': 'Rep', 'AZ': 'Rep', 'ID': 'Rep', 'CT': 'Split', 'ME': 'Split', 'MD': 'Dem', 'MA': 'Dem', 'OH': 'Rep', 'UT': 'Rep', 'MO': 'Rep', 'MN': 'Rep', 'MI': 'Rep', 'RI': 'Dem', 'KS': 'Rep', 'MT': 'Rep', 'MS': 'Rep', 'SC': 'Rep', 'KY': 'Rep', 'OR': 'Dem', 'SD': 'Rep'}\n",
    "S2W   = {'WA': 11.0, 'DE': 8.25, 'DC': 12.5, 'WI': 7.25, 'WV': 8.75, 'HI': 9.25, 'FL': 8.01, 'WY': 7.25, 'NH': 7.25, 'NJ': 8.44, 'NM': 7.5, 'TX': 7.25, 'LA': 7.25, 'NC': 7.25, 'ND': 7.25, 'NE': 9.0, 'TN': 7.25, 'NY': 9.70, 'PA': 7.25, 'CA': 10.5, 'NV': 8.25, 'VA': 7.25, 'CO': 9.31, 'AK': 9.81, 'AL': 7.25, 'AR': 8.5, 'VT': 10.0, 'IL': 8.25, 'GA': 7.25, 'IN': 7.25, 'IA': 7.25, 'OK': 7.25, 'AZ': 10.0, 'ID': 7.25, 'CT': 10.1, 'ME': 9.0, 'MD': 9.25, 'MA': 11.0, 'OH': 8.15, 'UT': 7.25, 'MO': 7.71, 'MN': 9.5, 'MI': 8.91, 'RI': 9.60, 'KS': 7.25, 'MT': 8.15, 'MS': 7.25, 'SC': 7.25, 'KY': 7.25, 'OR': 10.25, 'SD': 8.65}"
   ]
  },
  {
   "cell_type": "code",
   "execution_count": 44,
   "metadata": {
    "collapsed": false
   },
   "outputs": [
    {
     "name": "stdout",
     "output_type": "stream",
     "text": [
      "['CT', 'MA', 'ME', 'NH', 'RI', 'VT']\n",
      "Rep\n",
      "11.0\n"
     ]
    }
   ],
   "source": [
    "print R2S[\"New England\"]\n",
    "print S2P[\"AZ\"]\n",
    "print S2W[\"MA\"]"
   ]
  },
  {
   "cell_type": "markdown",
   "metadata": {},
   "source": [
    "#### 3.3.1. **Exercise:** \n",
    "First, output which party has the most state legislature majorities across all states.\n",
    "\n",
    "#### <div style=\"color:red\">Solution:</div>"
   ]
  },
  {
   "cell_type": "code",
   "execution_count": 45,
   "metadata": {
    "collapsed": false
   },
   "outputs": [
    {
     "data": {
      "text/plain": [
       "'Rep'"
      ]
     },
     "execution_count": 45,
     "metadata": {},
     "output_type": "execute_result"
    }
   ],
   "source": [
    "parties = []\n",
    "counts = []\n",
    "\n",
    "for party in set(S2P.values()):\n",
    "    parties.append(party)\n",
    "    counts.append(S2P.values().count(party))\n",
    "    \n",
    "parties[counts.index(max(counts))]\n",
    "\n",
    "# Note: Using loops is pretty painful and gross here! Hold this \n",
    "#       pain close to your heart as we go into functional\n",
    "#       programming for sigh of relief."
   ]
  },
  {
   "cell_type": "markdown",
   "metadata": {},
   "source": [
    "#### 3.3.2. **Exercise:** \n",
    "Next, calculate the average minimum wage for states with *Democratic* state legislatures and *Republican* state legislatures respectively.\n",
    "\n",
    "#### <div style=\"color:red\">Solution:</div>"
   ]
  },
  {
   "cell_type": "code",
   "execution_count": 46,
   "metadata": {
    "collapsed": false
   },
   "outputs": [
    {
     "name": "stdout",
     "output_type": "stream",
     "text": [
      "DEM state average min wage: $ 9.37\n",
      "REP state average min wage: $"
     ]
    },
    {
     "ename": "TypeError",
     "evalue": "unsupported operand type(s) for +: 'int' and 'list'",
     "output_type": "error",
     "traceback": [
      "\u001b[0;31m---------------------------------------------------------------------------\u001b[0m",
      "\u001b[0;31mTypeError\u001b[0m                                 Traceback (most recent call last)",
      "\u001b[0;32m<ipython-input-46-6856bf8166dc>\u001b[0m in \u001b[0;36m<module>\u001b[0;34m()\u001b[0m\n\u001b[1;32m      9\u001b[0m \u001b[0;34m\u001b[0m\u001b[0m\n\u001b[1;32m     10\u001b[0m \u001b[0;32mprint\u001b[0m \u001b[0;34m\"DEM state average min wage: $\"\u001b[0m\u001b[0;34m,\u001b[0m \u001b[0mround\u001b[0m\u001b[0;34m(\u001b[0m\u001b[0msum\u001b[0m\u001b[0;34m(\u001b[0m\u001b[0mdem_mw\u001b[0m\u001b[0;34m)\u001b[0m\u001b[0;34m/\u001b[0m\u001b[0mlen\u001b[0m\u001b[0;34m(\u001b[0m\u001b[0mdem_mw\u001b[0m\u001b[0;34m)\u001b[0m\u001b[0;34m,\u001b[0m \u001b[0;36m2\u001b[0m\u001b[0;34m)\u001b[0m\u001b[0;34m\u001b[0m\u001b[0m\n\u001b[0;32m---> 11\u001b[0;31m \u001b[0;32mprint\u001b[0m \u001b[0;34m\"REP state average min wage: $\"\u001b[0m\u001b[0;34m,\u001b[0m \u001b[0mround\u001b[0m\u001b[0;34m(\u001b[0m\u001b[0msum\u001b[0m\u001b[0;34m(\u001b[0m\u001b[0mrep_mw\u001b[0m\u001b[0;34m)\u001b[0m\u001b[0;34m/\u001b[0m\u001b[0mlen\u001b[0m\u001b[0;34m(\u001b[0m\u001b[0mrep_mw\u001b[0m\u001b[0;34m)\u001b[0m\u001b[0;34m,\u001b[0m \u001b[0;36m2\u001b[0m\u001b[0;34m)\u001b[0m\u001b[0;34m\u001b[0m\u001b[0m\n\u001b[0m",
      "\u001b[0;31mTypeError\u001b[0m: unsupported operand type(s) for +: 'int' and 'list'"
     ]
    }
   ],
   "source": [
    "dem_mw = []\n",
    "rep_mw = []\n",
    "\n",
    "for state, party in S2P.items():\n",
    "    if party == \"Dem\":\n",
    "        dem_mw.append(S2W[state])\n",
    "    else:\n",
    "        rep_mw.append([state])\n",
    "\n",
    "print \"DEM state average min wage: $\", round(sum(dem_mw)/len(dem_mw), 2)\n",
    "print \"REP state average min wage: $\", round(sum(rep_mw)/len(rep_mw), 2)"
   ]
  },
  {
   "cell_type": "markdown",
   "metadata": {},
   "source": [
    "#### 3.3.3. **Exercise:** \n",
    "Which region has the highest average minimum wage?\n",
    "\n",
    "#### <div style=\"color:red\">Solution:</div>"
   ]
  },
  {
   "cell_type": "code",
   "execution_count": null,
   "metadata": {
    "collapsed": false
   },
   "outputs": [],
   "source": [
    "# First, find the highest minimum wage within each region. Then\n",
    "# find the highest minimum wage between regions.\n",
    "\n",
    "region_names = []\n",
    "region_avg_mws = []\n",
    "for region_name, region_states in R2S.items():\n",
    "    region_mws = []\n",
    "    for state in region_states:\n",
    "        region_mws.append(S2W[state])\n",
    "    region_avg_mw = sum(region_mws)/len(region_mws)\n",
    "    region_avg_mws.append(region_avg_mw)\n",
    "    region_names.append(region_name)\n",
    "    \n",
    "region_names[region_avg_mws.index(max(region_avg_mws))]"
   ]
  },
  {
   "cell_type": "markdown",
   "metadata": {},
   "source": [
    "### <div style=\"color:purple\">SUMMARY</div>\n",
    "- Indentation matters for loops and conditional statements.\n",
    "\n",
    "\n",
    "- You can write an entire clause of conditional statements in one line!\n",
    "\n",
    "\n",
    "- The **`enumerate`** function automatically pairs each element of an iterable variable with its index.\n",
    "\n",
    "\n",
    "- Each character in a **`str`** variable can be iterated over.\n",
    "\n",
    "\n",
    "- In a loop, **`continue`** and **`break`** statements skip ahead to the next iteration and exit the loop respectively.\n",
    "\n",
    "\n",
    "- Sometimes using loops is a huge pain when using multiple or nested data structures...\n",
    "<br><br>\n",
    "<div style=\"color:gray; text-align:right; font-weight:bold;\">[BACK TO TOP  &#8593;](#toc)</div>"
   ]
  },
  {
   "cell_type": "markdown",
   "metadata": {},
   "source": [
    "## 4. Functional and Object-Oriented Programming <a class=\"anchor\" id=\"func-obj\"></a>\n",
    "\n",
    "Finally, we will learn the syntax for two important structures in Python: functions and classes."
   ]
  },
  {
   "cell_type": "markdown",
   "metadata": {
    "collapsed": true
   },
   "source": [
    "### 4.1. <u>**Functions**</u>\n",
    "\n",
    "A function groups a set of statements together so that they may be run anywhere in a Python program. As in any other programming language, a Python function takes a set of inputs and computes a output value to return to the user.\n",
    "\n",
    "There are two ways to define functions. The first way is via a **`def`** statement:"
   ]
  },
  {
   "cell_type": "code",
   "execution_count": null,
   "metadata": {
    "collapsed": true
   },
   "outputs": [],
   "source": [
    "def f(x):\n",
    "    return x**2"
   ]
  },
  {
   "cell_type": "code",
   "execution_count": null,
   "metadata": {
    "collapsed": true
   },
   "outputs": [],
   "source": [
    "def compute_average(iterable):\n",
    "    \"\"\"This function returns the average of elements in an\n",
    "       iterable data type such as a list.\n",
    "    \"\"\"\n",
    "    return sum(iterable)/float(len(iterable))"
   ]
  },
  {
   "cell_type": "code",
   "execution_count": null,
   "metadata": {
    "collapsed": true
   },
   "outputs": [],
   "source": [
    "Last_Computed_Average = None\n",
    "def compute_average2(iterable):\n",
    "    \"\"\"This function returns the average of elements in an\n",
    "       iterable data type such as a list. Additionally it \n",
    "       stores the last computed average in a global variable.\n",
    "    \"\"\"\n",
    "    global Last_Computed_Average\n",
    "    Last_Computed_Average = sum(iterable)/float(len(iterable))\n",
    "    return Last_Computed_Average"
   ]
  },
  {
   "cell_type": "markdown",
   "metadata": {},
   "source": [
    "**TIP:** Functions defined via **`def`** do not need to have a **`return`** statement at the end! In other words, a function can simply \"do some stuff\" and then return nothing back to the user (the return value will just be `None`)."
   ]
  },
  {
   "cell_type": "markdown",
   "metadata": {},
   "source": [
    "The second way is via a **`lambda`** expression:"
   ]
  },
  {
   "cell_type": "code",
   "execution_count": null,
   "metadata": {
    "collapsed": false
   },
   "outputs": [],
   "source": [
    "compute_average = lambda i: sum(i)/float(len(i)) "
   ]
  },
  {
   "cell_type": "markdown",
   "metadata": {},
   "source": [
    "Both share the same type (**`function`**), however there are only 2 differences between **`def`** and **`lambda`**:\n",
    "\n",
    "* **Anonymity**. A **`def`**'d fxn must have a name while a **`lambda`** does not need be assigned to a variable with a name.\n",
    "\n",
    "* **Sparsity**. A **`def`**'d fxn can contain an arbitrary number of statements while a **`lambda`** must consist of a single expression (no assignments allowed!). \n",
    "\n",
    "\n",
    "**TIP:** The biggest convenience of **`lambda`** functions is being able to neatly pass them to *higher-order functions* -- that is, functions that take functions as their argments. See below:\n"
   ]
  },
  {
   "cell_type": "code",
   "execution_count": null,
   "metadata": {
    "collapsed": false
   },
   "outputs": [],
   "source": [
    "map(lambda x: x**2, range(10))"
   ]
  },
  {
   "cell_type": "code",
   "execution_count": null,
   "metadata": {
    "collapsed": false
   },
   "outputs": [],
   "source": [
    "filter(lambda s: s in R2S[\"Pacific\"], [\"AZ\",\"MA\",\"CA\",\"OR\"])"
   ]
  },
  {
   "cell_type": "code",
   "execution_count": null,
   "metadata": {
    "collapsed": false
   },
   "outputs": [],
   "source": [
    "reduce(lambda x_i, x_j: x_i + \",\" + x_j, [\"AZ\",\"MA\",\"CA\",\"OR\"])"
   ]
  },
  {
   "cell_type": "code",
   "execution_count": null,
   "metadata": {
    "collapsed": false
   },
   "outputs": [],
   "source": [
    "# How many regions have more than 7 states?\n",
    "filter(lambda y: y > 7, map(lambda x: (x[0], len(x[1])), R2S.items()))"
   ]
  },
  {
   "cell_type": "markdown",
   "metadata": {},
   "source": [
    "#### 4.1.1. **Exercise:** \n",
    "Output which party has the most state legislature majorities across all states *but without any **`for`** loops, **`while`** loops, or **`if/else`** statements*.\n",
    "\n",
    "**HINT:** Python's **`max`** function can sort iterable variables by some custom criterion using the **`key`** argument.\n",
    "\n",
    "#### <div style=\"color:red\">Solution:</div>"
   ]
  },
  {
   "cell_type": "code",
   "execution_count": null,
   "metadata": {
    "collapsed": false
   },
   "outputs": [],
   "source": [
    "party_and_count = map(lambda p: (p, S2P.values().count(p)), set(S2P.values()))\n",
    "max(party_and_count, key=lambda (party, count): count)[0]"
   ]
  },
  {
   "cell_type": "markdown",
   "metadata": {},
   "source": [
    "**TIP:** The **`numpy`** package in Python has an implementation of \"mode\" which would come in handy here. See the next notebook for how to work with **`numpy`**!"
   ]
  },
  {
   "cell_type": "markdown",
   "metadata": {},
   "source": [
    "#### 4.1.2. **Exercise:** \n",
    "Calculate the average minimum wage for states with *Democratic* state legislatures and *Republican* state legislatures respectively *but without any **`for`** loops, **`while`** loops, or **`if/else`** statements*.\n",
    "\n",
    "#### <div style=\"color:red\">Solution:</div>"
   ]
  },
  {
   "cell_type": "code",
   "execution_count": null,
   "metadata": {
    "collapsed": false
   },
   "outputs": [],
   "source": [
    "def avg(l):\n",
    "    \"\"\"Can also define this as a lambda func!\"\"\"\n",
    "    return sum(l)/len(l)\n",
    "\n",
    "d_avg = avg(map(lambda (s,p): S2W[s], filter(lambda (s,p): p == \"Dem\", S2P.items())))\n",
    "r_avg = avg(map(lambda (s,p): S2W[s], filter(lambda (s,p): p == \"Rep\", S2P.items())))\n",
    "\n",
    "print \"DEM state average min wage: $\", round(d_avg, 2)\n",
    "print \"REP state average min wage: $\", round(r_avg, 2)"
   ]
  },
  {
   "cell_type": "markdown",
   "metadata": {},
   "source": [
    "#### 4.1.3. **Exercise:**\n",
    "\n",
    "Finally, which region within *Republican* states has the lowest average minimum wage?\n",
    "\n",
    "#### <div style=\"color:red\">Solution:</div>"
   ]
  },
  {
   "cell_type": "code",
   "execution_count": null,
   "metadata": {
    "collapsed": false
   },
   "outputs": [],
   "source": [
    "regions  = []\n",
    "r_min_ws = []\n",
    "for r, slist in R2S.items():\n",
    "    r_min_ws.append(avg(filter(lambda x: x != 0, map(lambda s: S2W[s] if s in s in S2P.keys() and S2P[s] == \"Rep\" else 0, slist))))\n",
    "    regions.append(r)\n",
    "regions[r_min_ws.index(min(r_min_ws))]\n",
    "\n",
    "# Note: in this case, functional programing is a bit overkill / not needed"
   ]
  },
  {
   "cell_type": "markdown",
   "metadata": {},
   "source": [
    "### 4.2. <u>**Classes**</u>\n",
    "\n",
    "A class is a framework that defines objects that contain certain properties (e.g. functions, shared globals, and local variables). \n",
    "\n",
    "Once a class is defined, it can be instantiated as an \"instance\" of that class.\n",
    "\n",
    "All classes must have an **`__init__`** function defined. This function is what first runs when a class instance is created, based on the user's inputs.\n",
    "\n",
    "Example:"
   ]
  },
  {
   "cell_type": "code",
   "execution_count": null,
   "metadata": {
    "collapsed": false
   },
   "outputs": [],
   "source": [
    "class Animal:\n",
    "    def __init__(self, species, name):     # INIT FUNCTION (must have `self` as first argument)\n",
    "        self.my_species = species\n",
    "        self.my_name    = name\n",
    "        \n",
    "    def say_my_name(self):                 # CLASS FUNCTION\n",
    "        print \"Hello human! My name is\",self.my_name\n",
    "        \n",
    "    def say_my_species(self):\n",
    "        print \"I belong to the\",self.my_species,\"species\""
   ]
  },
  {
   "cell_type": "code",
   "execution_count": null,
   "metadata": {
    "collapsed": false
   },
   "outputs": [],
   "source": [
    "doggo = Animal(species=\"German Sepherd\", name=\"Eustace\")\n",
    "doggo.say_my_name()\n",
    "doggo.say_my_species()"
   ]
  },
  {
   "cell_type": "markdown",
   "metadata": {},
   "source": [
    "### 4.3. **Exercise:** \n",
    "The following is a class implementation of a U.S. state. Write a function for this class that returns the minimum wage rounded to the nearest dollar.\n",
    "\n",
    "### <div style=\"color:red\">Solution:</div>"
   ]
  },
  {
   "cell_type": "code",
   "execution_count": null,
   "metadata": {
    "collapsed": false
   },
   "outputs": [],
   "source": [
    "class State:\n",
    "    def __init__(self, abbrv, region, min_wage, maj_party_Dem):\n",
    "        \"\"\"Since Python is dynamically typed (types are not declared \n",
    "        for variables before running a program), it is good practice to \n",
    "        document your `init` function so that users know what to pass\n",
    "        as parameters.\n",
    "        \n",
    "        Args:\n",
    "            abbrv (str):          Two letter abbreviation for state.\n",
    "            region (str):         Which U.S. region this state belongs to.\n",
    "            min_wage (float):     The 2017 minimum wage in $USD.\n",
    "            maj_party_Dem (bool): Whether the state legislature is controlled\n",
    "                                  by Democrats in 2017.\n",
    "        \n",
    "        \"\"\"\n",
    "        self.abbrv         = abbrv\n",
    "        self.region        = region\n",
    "        self.min_wage      = min_wage\n",
    "        self.maj_party_Dem = maj_party_Dem\n",
    "        \n",
    "    def print_min_wage(self):\n",
    "        \"\"\"Prints this state's minimum wage in 2017.\n",
    "        \"\"\"\n",
    "        print \"$\",self.min_wage\n",
    "        \n",
    "    # SOLUTION fxn >>>>>>>\n",
    "    def get_min_wage(self):\n",
    "        return int(self.min_wage)\n",
    "    # <<<<<<<<<<<<<<<<<<<<\n",
    "        \n",
    "    def get_maj_party_name(self):\n",
    "        \"\"\"Returns the name of the majority party in this state's \n",
    "        legislature.\n",
    "        \"\"\"\n",
    "        if self.maj_party_Dem == True:\n",
    "            return \"Democrat\"\n",
    "        else:\n",
    "            return \"Republican\"\n",
    "        \n",
    "MA = State(\"MA\", \"New England\", min_wage=11.00, maj_party_Dem=True)\n",
    "MA"
   ]
  },
  {
   "cell_type": "markdown",
   "metadata": {},
   "source": [
    "### 4.4. **Exercise:** \n",
    "Create a list of **`State`** objects using all of the available data we have collected on region, minimum wage, and majority party. \n",
    "\n",
    "### <div style=\"color:red\">Solution:</div>"
   ]
  },
  {
   "cell_type": "code",
   "execution_count": null,
   "metadata": {
    "collapsed": false
   },
   "outputs": [],
   "source": [
    "States = []\n",
    "for (r, slist) in R2S.iteritems():\n",
    "    for s in slist:\n",
    "        if s in S2W.keys() and s in S2P.keys():\n",
    "            maj_party_Dem = True if S2P[s] == \"Dem\" else False\n",
    "            States.append(State(s, r, S2W[s], maj_party_Dem))"
   ]
  },
  {
   "cell_type": "markdown",
   "metadata": {},
   "source": [
    "### <div style=\"color:purple\">SUMMARY</div>\n",
    "- In this section, we demonstrated how Python is both **functional** and **object-oriented** .. most data science packages use a mix of the 2 \"styles\".\n",
    "\n",
    "\n",
    "- A **`lambda`** is basically just a slim and trim version of a function defined by **`def`**.\n",
    "\n",
    "\n",
    "- The functions **`max`**, **`min`**, and **`sorted`** can take in lambda functions (with the **`key`** argument) that describe alternative values to use when sorting each element in a list. \n",
    "\n",
    "\n",
    "- With **`map`**, **`filter`**, and **`reduce`**, you can pretty much condense *anything* into a single line full of **`lambda`** functions ... use this power wisely.\n",
    "\n",
    "\n",
    "- Classes provide a powerful way of encapsulating functions into \"container\" objects.\n",
    "\n",
    "<br><br>\n",
    "<div style=\"color:gray; text-align:right; font-weight:bold;\">[BACK TO TOP  &#8593;](#toc)</div>"
   ]
  },
  {
   "cell_type": "markdown",
   "metadata": {},
   "source": [
    "## 5. Working with Strings (**`str`**) [optional: *useful for debugging*] <a class=\"anchor\" id=\"str\"></a>\n",
    "\n",
    "Python has a variety of powerful string parsing functions. \n",
    "\n",
    "Some of these functions are implemented as **`str`** class-methods, e.g.\n",
    "\n",
    "&nbsp;&nbsp;&nbsp;&nbsp;&nbsp;&nbsp;&nbsp;&nbsp;**`myString.fxn()`**\n",
    "\n",
    "while others are global functions to be called on strings, e.g.\n",
    "\n",
    "&nbsp;&nbsp;&nbsp;&nbsp;&nbsp;&nbsp;&nbsp;&nbsp;**`fxn(myString)`**\n",
    "\n",
    "Examples are given below:"
   ]
  },
  {
   "cell_type": "code",
   "execution_count": null,
   "metadata": {
    "collapsed": true
   },
   "outputs": [],
   "source": [
    "s = \"Cambridge, Massachusetts\""
   ]
  },
  {
   "cell_type": "code",
   "execution_count": null,
   "metadata": {
    "collapsed": false
   },
   "outputs": [],
   "source": [
    "print len(s)                                       # LENGTH"
   ]
  },
  {
   "cell_type": "code",
   "execution_count": null,
   "metadata": {
    "collapsed": false
   },
   "outputs": [],
   "source": [
    "print s[0]                                         # INDEX and SLICE into a string\n",
    "print s[-1]\n",
    "print s[0:9]"
   ]
  },
  {
   "cell_type": "code",
   "execution_count": null,
   "metadata": {
    "collapsed": false
   },
   "outputs": [],
   "source": [
    "print \".\".join([str(a), str(int(c))])              # JOIN strings\n",
    "print \", \".join([\"Cook County\", \"Illinois\"])"
   ]
  },
  {
   "cell_type": "code",
   "execution_count": null,
   "metadata": {
    "collapsed": false
   },
   "outputs": [],
   "source": [
    "s1 = \"Course-Class-Notes-Syllabus\"                 # SPLIT strings into a list\n",
    "print s1.split(\"-\") "
   ]
  },
  {
   "cell_type": "code",
   "execution_count": null,
   "metadata": {
    "collapsed": false
   },
   "outputs": [],
   "source": [
    "print \"---2018-Election-Results---\".strip(\"-\")     # STRIP chars. from ends"
   ]
  },
  {
   "cell_type": "code",
   "execution_count": null,
   "metadata": {
    "collapsed": false
   },
   "outputs": [],
   "source": [
    "y = \"My GPA: 5.000\"                                # FIND starting index of a substring\n",
    "print y.find(\"GPA\")"
   ]
  },
  {
   "cell_type": "code",
   "execution_count": null,
   "metadata": {
    "collapsed": false
   },
   "outputs": [],
   "source": [
    "print \"Course {0}, Class {1}\".format(a, c)         # FORMAT strings \n",
    "print \"Course {cr}, Class {cl}\".format(cr=a, cl=c)\n",
    "print \"Course %i, Class %1.f\" % (a, c)"
   ]
  },
  {
   "cell_type": "markdown",
   "metadata": {},
   "source": [
    "### 5.1. **Exercise:** \n",
    "Given the following strings,"
   ]
  },
  {
   "cell_type": "code",
   "execution_count": null,
   "metadata": {
    "collapsed": true
   },
   "outputs": [],
   "source": [
    "results_2016 = [\n",
    "    \"Middlesex (MA) [Dem] -- 66.3%\",\n",
    "    \"Clark (IL) [Rep] -- 71.9%\",\n",
    "    \"Maricopa (AZ) [Rep] -- 49.1%\"\n",
    "]"
   ]
  },
  {
   "cell_type": "markdown",
   "metadata": {},
   "source": [
    "Use the above string parsing methods, write a function and apply it to each string and return a list containing:\n",
    "\n",
    "1. The county name\n",
    "2. The state name\n",
    "3. The party name\n",
    "4. The vote share (as a float)\n",
    "\n",
    "### <div style=\"color:red\">Solution:</div>"
   ]
  },
  {
   "cell_type": "code",
   "execution_count": null,
   "metadata": {
    "collapsed": false
   },
   "outputs": [],
   "source": [
    "def parse(in_string):\n",
    "    space_delim = in_string.split(\" \")\n",
    "    return [\n",
    "        space_delim[0],\n",
    "        space_delim[1].strip(\"()\"),\n",
    "        space_delim[2].strip(\"[]\"),  \n",
    "        float(space_delim[-1].strip(\"%\"))\n",
    "    ]\n",
    "\n",
    "map(parse, results_2016)"
   ]
  },
  {
   "cell_type": "markdown",
   "metadata": {},
   "source": [
    "### <div style=\"color:purple\">SUMMARY</div>\n",
    "\n",
    "- **`str`** variables have many nifty global and class methods (e.g. **`.join()`**, **`.split()`**, **`.find()`**)\n",
    "\n",
    "\n",
    "- **`str`** variables can be treated like lists of individual characters; thus many **`list`** functions also apply to strings.  \n",
    "<br><br>\n",
    "<div style=\"color:gray; text-align:right; font-weight:bold;\">[BACK TO TOP  &#8593;](#toc)</div>"
   ]
  },
  {
   "cell_type": "markdown",
   "metadata": {},
   "source": [
    "## 6. Handling Errors [optional: *useful for debugging*] <a class=\"anchor\" id=\"err\"></a>\n",
    "\n",
    "What is an **exception**? \n",
    "\n",
    "Let's find out:"
   ]
  },
  {
   "cell_type": "code",
   "execution_count": null,
   "metadata": {
    "collapsed": false
   },
   "outputs": [],
   "source": [
    "# print S2P[\"DC\"]"
   ]
  },
  {
   "cell_type": "markdown",
   "metadata": {},
   "source": [
    "An **exception** is an event, which occurs during the execution of a program that disrupts the normal flow of the program's instructions. \n",
    "\n",
    "In general, when a Python script encounters a situation that it cannot cope with, it raises an exception. An exception is a Python object that represents an **error**.\n",
    "\n",
    "Python allows us to handle errors in cutomized ways and thereby gracefully continue executing our program without exiting out on the problematic line of code:"
   ]
  },
  {
   "cell_type": "code",
   "execution_count": null,
   "metadata": {
    "collapsed": false
   },
   "outputs": [],
   "source": [
    "try:\n",
    "    S2P[\"DC\"]\n",
    "except KeyError as e:\n",
    "    print \"Entity not found in `S2P` ... moving on\""
   ]
  },
  {
   "cell_type": "markdown",
   "metadata": {},
   "source": [
    "You can create highly informative error messages using the string formatting techniques discussed above to guide the user in debugging:"
   ]
  },
  {
   "cell_type": "code",
   "execution_count": null,
   "metadata": {
    "collapsed": false
   },
   "outputs": [],
   "source": [
    "try:\n",
    "    S2P[\"DC\"]\n",
    "except KeyError as e:\n",
    "    print \"Entity %s not found in `S2P` ... moving on\" % e"
   ]
  },
  {
   "cell_type": "markdown",
   "metadata": {},
   "source": [
    "Additionally, you can create your *own* exceptions when something happens in your program that you don't like:"
   ]
  },
  {
   "cell_type": "code",
   "execution_count": null,
   "metadata": {
    "collapsed": false
   },
   "outputs": [],
   "source": [
    "if \"MA\" in S2P.keys():\n",
    "    raise Exception(\"Coastal elite present in data!\")"
   ]
  },
  {
   "cell_type": "markdown",
   "metadata": {},
   "source": [
    "### 6.1. **Exercise:** \n",
    "Write a block of code that finds the U.S. states with missing party information using **`try/catch`**. \n",
    "\n",
    "### <div style=\"color:red\">Solution:</div>"
   ]
  },
  {
   "cell_type": "code",
   "execution_count": null,
   "metadata": {
    "collapsed": false
   },
   "outputs": [],
   "source": [
    "# Let's iterate through every state in each region and try to get party data.\n",
    "# If it fails, we obviously know that state does not have party data so we can\n",
    "# add it to a to-do list.\n",
    "missing_ = []\n",
    "for r, slist in R2S.items():\n",
    "    for s in slist:\n",
    "        try:\n",
    "            p = S2P[s]\n",
    "        except Exception as e:\n",
    "            missing_.append(s)\n",
    "missing_"
   ]
  },
  {
   "cell_type": "markdown",
   "metadata": {},
   "source": [
    "See [**`https://docs.python.org/2.7/tutorial/errors.html`**](https://docs.python.org/2.7/tutorial/errors.html) for an overview of different Python exception types."
   ]
  },
  {
   "cell_type": "markdown",
   "metadata": {},
   "source": [
    "### <div style=\"color:purple\">SUMMARY</div>\n",
    "\n",
    "- **`try`** and **`except`** statements are useful in making sure bugs/errors don't end the execution of your program (i.e. your program can still smoothly continue running).\n",
    "\n",
    "\n",
    "- The **`except`** that you use can behave differently based on the kind of **`Exception`** (error) that the program has enountered.\n",
    "\n",
    "\n",
    "- These statements are absolutely *crucial* when doing **web-scraping** -- a task where you will undoubtedly encounter many errors / timeouts / failures, etc.\n",
    "<br><br>\n",
    "<div style=\"color:gray; text-align:right; font-weight:bold;\">[BACK TO TOP  &#8593;](#toc)</div>"
   ]
  },
  {
   "cell_type": "markdown",
   "metadata": {},
   "source": [
    "## 7. Reading and Writing [optional:* useful for messy files*] <a class=\"anchor\" id=\"rw\"></a>\n",
    "\n",
    "It is recommended using Python's own native read/write functions when not dealing with columnar data (.csv, .xlsx) which can be more easily handled by the third-party **`pandas`** library (more on this in the next notebook!)."
   ]
  },
  {
   "cell_type": "code",
   "execution_count": 50,
   "metadata": {
    "collapsed": false
   },
   "outputs": [],
   "source": [
    "# 'w' marker is for 'write'\n",
    "# 'r' marker is for 'read'\n",
    "# 'b' marker is to open file in binary\n",
    "\n",
    "# with open(\"data/state2party2017.txt\", \"wb\") as f: \n",
    "#     f.write(str(S2P))\n",
    "#     print \"OK write.\"\n",
    "\n",
    "# with open(\"data/state2party2017.txt\", \"rb\") as f: \n",
    "#     print f.read()\n",
    "#     print \"OK read.\""
   ]
  },
  {
   "cell_type": "markdown",
   "metadata": {},
   "source": [
    "For a brief primer on reading/writing files, see:\n",
    "\n",
    "&nbsp;&nbsp;&nbsp;&nbsp;&nbsp;&nbsp;&nbsp;&nbsp;[**`https://docs.python.org/2/tutorial/inputoutput.html#reading-and-writing-files`**](https://docs.python.org/2/tutorial/inputoutput.html#reading-and-writing-files)\n",
    "\n"
   ]
  },
  {
   "cell_type": "markdown",
   "metadata": {},
   "source": [
    "### 7.1. **Exercise**: \n",
    "The **`.json`** file-type (used to store dictionaries) is precisely one file format that is best dealt with using lower level read/write functions in Python itself. Using the **`json`** library and consulting the appropriate documentation, perform the following tasks:\n",
    "\n",
    "1. Flatten the dictionary **`R2S`** and prints it in a \"pretty\" way.\n",
    "2. Save the dictionary **`R2S`** out to a .json file (**`region2states.json`**) and then read it back in as a **`dict`** object, rather than a string.\n",
    "\n",
    "### <div style=\"color:red\">Solution:</div>"
   ]
  },
  {
   "cell_type": "code",
   "execution_count": 49,
   "metadata": {
    "collapsed": false
   },
   "outputs": [
    {
     "name": "stdout",
     "output_type": "stream",
     "text": [
      "{\n",
      "    \"West South Central\": [\n",
      "        \"AR\", \n",
      "        \"LA\", \n",
      "        \"OK\", \n",
      "        \"TX\"\n",
      "    ], \n",
      "    \"Mountain\": [\n",
      "        \"AZ\", \n",
      "        \"CO\", \n",
      "        \"ID\", \n",
      "        \"MT\", \n",
      "        \"NM\", \n",
      "        \"NV\", \n",
      "        \"UT\", \n",
      "        \"WY\"\n",
      "    ], \n",
      "    \"Middle Atlantic\": [\n",
      "        \"NJ\", \n",
      "        \"NY\", \n",
      "        \"PA\"\n",
      "    ], \n",
      "    \"South Atlantic\": [\n",
      "        \"DC\", \n",
      "        \"DE\", \n",
      "        \"FL\", \n",
      "        \"GA\", \n",
      "        \"MD\", \n",
      "        \"NC\", \n",
      "        \"SC\", \n",
      "        \"VA\", \n",
      "        \"WV\"\n",
      "    ], \n",
      "    \"East South Central\": [\n",
      "        \"AL\", \n",
      "        \"KY\", \n",
      "        \"MS\", \n",
      "        \"TN\"\n",
      "    ], \n",
      "    \"New England\": [\n",
      "        \"CT\", \n",
      "        \"MA\", \n",
      "        \"ME\", \n",
      "        \"NH\", \n",
      "        \"RI\", \n",
      "        \"VT\"\n",
      "    ], \n",
      "    \"East North Central\": [\n",
      "        \"IL\", \n",
      "        \"IN\", \n",
      "        \"MI\", \n",
      "        \"OH\", \n",
      "        \"WI\"\n",
      "    ], \n",
      "    \"West North Central\": [\n",
      "        \"IA\", \n",
      "        \"KS\", \n",
      "        \"MN\", \n",
      "        \"MO\", \n",
      "        \"ND\", \n",
      "        \"NE\", \n",
      "        \"SD\"\n",
      "    ], \n",
      "    \"Pacific\": [\n",
      "        \"AK\", \n",
      "        \"CA\", \n",
      "        \"HI\", \n",
      "        \"OR\", \n",
      "        \"WA\"\n",
      "    ]\n",
      "}\n"
     ]
    },
    {
     "ename": "IOError",
     "evalue": "[Errno 2] No such file or directory: 'outputs/region2states.json'",
     "output_type": "error",
     "traceback": [
      "\u001b[0;31m---------------------------------------------------------------------------\u001b[0m",
      "\u001b[0;31mIOError\u001b[0m                                   Traceback (most recent call last)",
      "\u001b[0;32m<ipython-input-49-7ffb097c5ef6>\u001b[0m in \u001b[0;36m<module>\u001b[0;34m()\u001b[0m\n\u001b[1;32m      2\u001b[0m \u001b[0;34m\u001b[0m\u001b[0m\n\u001b[1;32m      3\u001b[0m \u001b[0;32mprint\u001b[0m \u001b[0mjson\u001b[0m\u001b[0;34m.\u001b[0m\u001b[0mdumps\u001b[0m\u001b[0;34m(\u001b[0m\u001b[0mR2S\u001b[0m\u001b[0;34m,\u001b[0m \u001b[0mindent\u001b[0m\u001b[0;34m=\u001b[0m\u001b[0;36m4\u001b[0m\u001b[0;34m)\u001b[0m\u001b[0;34m\u001b[0m\u001b[0m\n\u001b[0;32m----> 4\u001b[0;31m \u001b[0;32mwith\u001b[0m \u001b[0mopen\u001b[0m\u001b[0;34m(\u001b[0m\u001b[0;34m\"outputs/region2states.json\"\u001b[0m\u001b[0;34m,\u001b[0m \u001b[0;34m\"wb\"\u001b[0m\u001b[0;34m)\u001b[0m \u001b[0;32mas\u001b[0m \u001b[0mf\u001b[0m\u001b[0;34m:\u001b[0m\u001b[0;34m\u001b[0m\u001b[0m\n\u001b[0m\u001b[1;32m      5\u001b[0m     \u001b[0mf\u001b[0m\u001b[0;34m.\u001b[0m\u001b[0mwrite\u001b[0m\u001b[0;34m(\u001b[0m\u001b[0mjson\u001b[0m\u001b[0;34m.\u001b[0m\u001b[0mdumps\u001b[0m\u001b[0;34m(\u001b[0m\u001b[0mregion2states\u001b[0m\u001b[0;34m,\u001b[0m \u001b[0mindent\u001b[0m\u001b[0;34m=\u001b[0m\u001b[0;36m4\u001b[0m\u001b[0;34m)\u001b[0m\u001b[0;34m)\u001b[0m\u001b[0;34m\u001b[0m\u001b[0m\n\u001b[1;32m      6\u001b[0m \u001b[0;34m\u001b[0m\u001b[0m\n",
      "\u001b[0;31mIOError\u001b[0m: [Errno 2] No such file or directory: 'outputs/region2states.json'"
     ]
    }
   ],
   "source": [
    "import json\n",
    "\n",
    "# print json.dumps(R2S, indent=4)\n",
    "# with open(\"output/region2states.json\", \"wb\") as f:\n",
    "#     f.write(json.dumps(region2states, indent=4))\n",
    "    \n",
    "# with open(\"output/region2states.json\", \"rb\") as f:\n",
    "#     R2S = json.load(f)"
   ]
  },
  {
   "cell_type": "markdown",
   "metadata": {},
   "source": [
    "### <div style=\"color:purple\">SUMMARY</div>\n",
    "\n",
    "- Reading/writing files in Python is really easy!\n",
    "\n",
    "\n",
    "- All such read/write operations should happen within the scope of a **`with open()`** clause. Within such a clause, the file in question stays open and immediately closes once the clause is exited.\n",
    "<br><br>\n",
    "<div style=\"color:gray; text-align:right; font-weight:bold;\">[BACK TO TOP  &#8593;](#toc)</div>"
   ]
  },
  {
   "cell_type": "markdown",
   "metadata": {},
   "source": [
    "## 8. System Libraries [optional: *useful for complex tasks*] <a class=\"anchor\" id=\"sys-lib\"></a>\n",
    "\n",
    "A list of other essential Python libraries for advanced Python users:\n",
    "\n",
    "* **`sys`/`os`** &nbsp;&nbsp;&nbsp;&nbsp;- Perform functionalities that your system / OS provides (e.g. execute bash scripts, navigate filesystem).\n",
    "* **`csv`** &nbsp;&nbsp;&nbsp;&nbsp;&nbsp;&nbsp;&nbsp;&nbsp;&nbsp; - Read/write + interface with csv files on a low level.\n",
    "* **`urllib2`** &nbsp;- Perform HTTP requests.\n",
    "* **`math`** &nbsp;&nbsp;&nbsp;&nbsp;&nbsp;&nbsp;&nbsp; - Basic mathematical operations and expressions (e.g. pi, e, inf)\n",
    "* **`random`** &nbsp;&nbsp;&nbsp; - Useful for random sampling and shuffling.\n",
    "* **`datetime`** - Parsing and creating dates.\n",
    "* **`sqlite3`** &nbsp;&nbsp;- Work with SQLLite databases.\n",
    "* **`joblib`** &nbsp;&nbsp;&nbsp; - Execute parallel functions.\n",
    "<br><br>\n",
    "<div style=\"color:gray; text-align:right; font-weight:bold;\">[BACK TO TOP  &#8593;](#toc)</div>"
   ]
  },
  {
   "cell_type": "markdown",
   "metadata": {},
   "source": [
    "## 9. Miscellaneous Topics [optional: *useful for writing cleaner/faster code*]\n",
    "\n",
    "There is a number of other very \"Pythonic\" topics that we did not fully cover in this notebook for the sake of brevity. \n"
   ]
  },
  {
   "cell_type": "markdown",
   "metadata": {},
   "source": [
    "### 9.1. **<u>List Comprehensions</u>**\n",
    "\n",
    "List comprehensions can be used to define collections mathematically as well as more quickly iterate over a complex, nested data structure. \n",
    "\n",
    "Consider the following mathematical sets:\n",
    "\n",
    "&nbsp;&nbsp;&nbsp;&nbsp;&nbsp;&nbsp;&nbsp;&nbsp;**`A = {x² : x in {0 ... 9}}`**\n",
    "\n",
    "&nbsp;&nbsp;&nbsp;&nbsp;&nbsp;&nbsp;&nbsp;&nbsp;**`B = (1, 2, 4, 8, ..., 2¹²)`**\n",
    "\n",
    "&nbsp;&nbsp;&nbsp;&nbsp;&nbsp;&nbsp;&nbsp;&nbsp;**`C = {x | x in S and x even}`**\n",
    "\n",
    "These can be written in Python as follows:"
   ]
  },
  {
   "cell_type": "code",
   "execution_count": null,
   "metadata": {
    "collapsed": true
   },
   "outputs": [],
   "source": [
    "A = [x**2 for x in range(10)]\n",
    "B = [2**i for i in range(13)]\n",
    "C = [x for x in A if x % 2 == 0]"
   ]
  },
  {
   "cell_type": "code",
   "execution_count": null,
   "metadata": {
    "collapsed": false
   },
   "outputs": [],
   "source": [
    "print A\n",
    "print B\n",
    "print C"
   ]
  },
  {
   "cell_type": "markdown",
   "metadata": {},
   "source": [
    "A more complicated example extracting prime and non-prime numbers:"
   ]
  },
  {
   "cell_type": "code",
   "execution_count": null,
   "metadata": {
    "collapsed": true
   },
   "outputs": [],
   "source": [
    "no_primes = [j for i in range(2, 8) for j in range(i*2, 50, i)]\n",
    "primes = [x for x in range(2, 50) if x not in no_primes]"
   ]
  },
  {
   "cell_type": "code",
   "execution_count": null,
   "metadata": {
    "collapsed": false
   },
   "outputs": [],
   "source": [
    "print no_primes\n",
    "print primes"
   ]
  },
  {
   "cell_type": "markdown",
   "metadata": {},
   "source": [
    "#### 9.1.1. **Exercise:** \n",
    "Create a list comprehension expression that outputs a list where each element is a **`tuple`** consisting of `(region, state, wage, party)`.\n",
    "\n",
    "#### <div style=\"color:red\">Solution:</div>"
   ]
  },
  {
   "cell_type": "code",
   "execution_count": null,
   "metadata": {
    "collapsed": false
   },
   "outputs": [],
   "source": [
    "[(r, s, S2W[s], S2P[s]) for (r, slist) in R2S.iteritems() for s in slist if s in S2P.keys()]"
   ]
  },
  {
   "cell_type": "markdown",
   "metadata": {},
   "source": [
    "### 9.2. **<u>Generators</u>**\n",
    "\n",
    "What happens if you iterate over a *really huge* collection of items? Chances are that your RAM might explode and you will become deeply unhappy.\n",
    "\n",
    "Rather than fitting all items of your *really huge* collection into memory immediately as you iterate, you can:\n",
    "\n",
    "1. Ask for each value one at a time.\n",
    "2. Use each generated value.\n",
    "3. Throw it away.\n",
    "\n",
    "This is essentially what a generator expression does, which can conserve a lot of memory if you're working with a huge dataset!\n",
    "\n",
    "Functionally, however, a generator *serves* the same role as a list comprehension. The method of iteration over the collection is simply different. \n",
    "\n",
    "See below for a comparison:"
   ]
  },
  {
   "cell_type": "code",
   "execution_count": null,
   "metadata": {
    "collapsed": false
   },
   "outputs": [],
   "source": [
    "list_of_squares = [x**2 for x in range(10)]\n",
    "for y in list_of_squares:\n",
    "    print y"
   ]
  },
  {
   "cell_type": "code",
   "execution_count": null,
   "metadata": {
    "collapsed": false
   },
   "outputs": [],
   "source": [
    "generator_of_squares = (x**2 for x in range(10))\n",
    "for y in generator_of_squares:\n",
    "    print y"
   ]
  },
  {
   "cell_type": "markdown",
   "metadata": {},
   "source": [
    "You can also use the **`next()`** function to iterate through a generator one element at a time:"
   ]
  },
  {
   "cell_type": "code",
   "execution_count": null,
   "metadata": {
    "collapsed": false
   },
   "outputs": [],
   "source": [
    "generator_of_squares = (x**2 for x in range(10))\n",
    "print next(generator_of_squares)\n",
    "print next(generator_of_squares)\n",
    "print next(generator_of_squares)\n",
    "print next(generator_of_squares)\n",
    "print next(generator_of_squares)"
   ]
  },
  {
   "cell_type": "markdown",
   "metadata": {},
   "source": [
    "### 9.3. **<u>`yield` Statement</u>**\n",
    "\n",
    "In essence, a generator is a \"dynamic\" list comprehension -- that is, each element of the list comprehension is created \"on-the-fly\" as we need it. However, note that list comprehensions must also all be contained in one line. In other words, a generator *can only really consist of a single expression*! \n",
    "\n",
    "This might be utterly ludicrous if we're doing something particularly complex to each element in our collection.\n",
    "\n",
    "What if, instead, we could enclose the complex logic of determining the next element to dynamically generate in a *function*? That is precisely what we can do if we use a **`yield`** statement in our function rather than a **`return`**.\n",
    "\n",
    "For example, the equivalent of the following generator:\n"
   ]
  },
  {
   "cell_type": "code",
   "execution_count": null,
   "metadata": {
    "collapsed": true
   },
   "outputs": [],
   "source": [
    "square_lc = (x**2 for x in range(10))"
   ]
  },
  {
   "cell_type": "markdown",
   "metadata": {},
   "source": [
    "would be:"
   ]
  },
  {
   "cell_type": "code",
   "execution_count": null,
   "metadata": {
    "collapsed": true
   },
   "outputs": [],
   "source": [
    "def square_fxn():\n",
    "    for x in range(10):\n",
    "        yield x**2"
   ]
  },
  {
   "cell_type": "markdown",
   "metadata": {},
   "source": [
    "To master this expression and de-confuse yourself, you must understand one thing: a function with a **`yield`** statement will return a generator and the **`yield`** statement declares what the next element in the generator will be!\n",
    "\n",
    "For instance, when you call the above **`square_fxn`** it will return a generator object. You can then iterate through the generator.\n",
    "\n",
    "Try it out!"
   ]
  },
  {
   "cell_type": "code",
   "execution_count": null,
   "metadata": {
    "collapsed": false,
    "scrolled": true
   },
   "outputs": [],
   "source": [
    "g = square_fxn()\n",
    "next(g)\n",
    "next(g)\n",
    "next(g)\n",
    "next(g)\n",
    "for x in g:\n",
    "    print x"
   ]
  },
  {
   "cell_type": "markdown",
   "metadata": {},
   "source": [
    "### 9.4. **Exercise:** \n",
    "The following block of code creates the *cartesian product* of all regional states. That is, assuming each region $r \\in R$ has $N_r$ states, it creates $\\prod_{r \\in R}{N_{r}}$ tuples where each tuple contains $|R|$ elements, consisting of a unique combination of a single state from each region:"
   ]
  },
  {
   "cell_type": "code",
   "execution_count": null,
   "metadata": {
    "collapsed": false
   },
   "outputs": [],
   "source": [
    "import itertools\n",
    "all_regional_combos = list(itertools.product(*R2S.values()))\n",
    "all_regional_combos[-1]"
   ]
  },
  {
   "cell_type": "markdown",
   "metadata": {},
   "source": [
    "Note that since all the elements are being thrown into memory all at once, it is somewhat slow!\n",
    "\n",
    "Write a function using either a **`yield`** statement or a generator expression that manually iterates over the cartesian product of regional states.\n",
    "\n",
    "### <div style=\"color:red\">Solution:</div>"
   ]
  },
  {
   "cell_type": "code",
   "execution_count": null,
   "metadata": {
    "collapsed": false
   },
   "outputs": [],
   "source": [
    "# Easiest way to do this is just use the original expression \n",
    "# (without the `list` casting) which itself returns a \n",
    "# generator object!\n",
    "all_regional_combos = itertools.product(*R2S.values())\n",
    "next(all_regional_combos)"
   ]
  },
  {
   "cell_type": "markdown",
   "metadata": {},
   "source": [
    "### <div style=\"color:purple\">SUMMARY</div>\n",
    "\n",
    "- List comprehensions are a *great* (and often more interpretable) alternative to **`map`** functions. Use them to replace nested loops that don't require a huge amount of \"loop-body\" code.\n",
    "\n",
    "\n",
    "- Generators (either manually created or using **`yield`** embedded in a function) are essentially optimized list comprehensions. Use them when you expect to iterate over a *huge* amount of data or particularly complex/memory-intensive objects (e.g. state district geometric shapes, a large multi-GB page on a website).\n",
    "<br><br>\n",
    "<div style=\"color:gray; text-align:right; font-weight:bold;\">[BACK TO TOP  &#8593;](#toc)</div>"
   ]
  },
  {
   "cell_type": "markdown",
   "metadata": {},
   "source": [
    "# <span style=\"color:gray\">END OF NOTEBOOK</span>\n",
    "\n"
   ]
  }
 ],
 "metadata": {
  "kernelspec": {
   "display_name": "Python 2",
   "language": "python",
   "name": "python2"
  },
  "language_info": {
   "codemirror_mode": {
    "name": "ipython",
    "version": 2
   },
   "file_extension": ".py",
   "mimetype": "text/x-python",
   "name": "python",
   "nbconvert_exporter": "python",
   "pygments_lexer": "ipython2",
   "version": "2.7.13"
  }
 },
 "nbformat": 4,
 "nbformat_minor": 1
}
