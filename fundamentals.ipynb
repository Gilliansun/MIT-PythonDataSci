{
 "cells": [
  {
   "cell_type": "markdown",
   "metadata": {},
   "source": [
    "# Python Fundamentals: A Crash Course \n",
    "\n",
    "### Instructor: Soubhik Barari\n",
    "\n",
    "Welcome! This Jupyter notebook serves as a walk-through of the most fundamental features of the Python programming language *specifically for data science*. Therefore, this is a *practical* rather than *comprehensive* guide, giving you the core essentials to get started with data science. \n",
    "\n",
    "<a class=\"anchor\" id=\"toc\"></a>\n",
    "### <u>Table of Contents</u>\n",
    "1. [**Basic Types**](#basic-types)\n",
    "2. [**Basic Data Structures (`list` and `dict`)**](#data-struct)\n",
    "3. [**Control Flow**](#control-flow)\n",
    "4. [**Functional and Object-Oriented Programming**](#func-obj)\n",
    "5. [**Working with Strings (`str`)**](#str)**\n",
    "6. [**Handling Errors**](#err)**\n",
    "7. [**Reading and Writing**](#rw) **\n",
    "8. [**System Libraries**](#sys-lib) **\n",
    "9. [**Miscellaneous Topics**](#misc) **\n",
    "\n",
    "<sub>** = optional</sub>\n",
    "\n",
    "**TIP:** when first learning Python, it's a good idea to have the documentation up next to your workspace. For Python 2.7 - the version of Python used in this notebook - that is:\n",
    "\n",
    "&nbsp;&nbsp;&nbsp;&nbsp;&nbsp;&nbsp;&nbsp;&nbsp;**[`https://docs.python.org/2.7/`](https://docs.python.org/2.7/)**\n",
    "\n",
    "\n",
    "This notebook assumes that you have some basic exposure of or proficiency with the **`R`** programming language or an imperative programming language of similar complexity.\n",
    "\n"
   ]
  },
  {
   "cell_type": "markdown",
   "metadata": {},
   "source": [
    "## 1. Basic Types  <a class=\"anchor\" id=\"basic-types\"></a>\n",
    "\n",
    "First we're going to go over the most fundamental building blocks of Python: basic data types. <br>\n",
    "\n",
    "As you would expect, Python has a data type for integers (**`int`**), strings (**`str`**), booleans (**`bool`**), and for floating point numbers/decimals (**`float`**). If you're familiar with R, these types pretty much directly translate with minor syntactical differences."
   ]
  },
  {
   "cell_type": "code",
   "execution_count": null,
   "metadata": {
    "collapsed": true
   },
   "outputs": [],
   "source": [
    "a = 17\n",
    "b = \"Hello world\"\n",
    "c = 806.0\n",
    "d = \"\"\"\n",
    "    This is a multiline string.\n",
    "    \"\"\"\n",
    "e = True\n",
    "f = None"
   ]
  },
  {
   "cell_type": "markdown",
   "metadata": {},
   "source": [
    "You can write comments with a single **`#`** just like in R."
   ]
  },
  {
   "cell_type": "code",
   "execution_count": null,
   "metadata": {
    "collapsed": true
   },
   "outputs": [],
   "source": [
    "# This is a comment!"
   ]
  },
  {
   "cell_type": "markdown",
   "metadata": {},
   "source": [
    "The print command is simply **`print`**."
   ]
  },
  {
   "cell_type": "code",
   "execution_count": null,
   "metadata": {
    "collapsed": false
   },
   "outputs": [],
   "source": [
    "print a\n",
    "print b\n",
    "print c\n",
    "print d"
   ]
  },
  {
   "cell_type": "markdown",
   "metadata": {},
   "source": [
    "The equivalent of **`typeof`** in R is **`type`** in Python to discover the data type of any variable."
   ]
  },
  {
   "cell_type": "code",
   "execution_count": null,
   "metadata": {
    "collapsed": false
   },
   "outputs": [],
   "source": [
    "print type(a)\n",
    "print type(b); print type(c); print type(d)"
   ]
  },
  {
   "cell_type": "markdown",
   "metadata": {},
   "source": [
    "The usual syntax for numerical operations in R still apply. "
   ]
  },
  {
   "cell_type": "code",
   "execution_count": null,
   "metadata": {
    "collapsed": false
   },
   "outputs": [],
   "source": [
    "print a + c\n",
    "print a / 5"
   ]
  },
  {
   "cell_type": "code",
   "execution_count": null,
   "metadata": {
    "collapsed": false
   },
   "outputs": [],
   "source": [
    "print float(a) / 5"
   ]
  },
  {
   "cell_type": "markdown",
   "metadata": {
    "collapsed": true
   },
   "source": [
    "\n",
    "### 1.1. **Exercise:** \n",
    "Concatenate **`a`, `b`, `c`, `d`** into a single **`string`** object and display the output: "
   ]
  },
  {
   "cell_type": "code",
   "execution_count": 1,
   "metadata": {
    "collapsed": false
   },
   "outputs": [],
   "source": [
    "# TODO"
   ]
  },
  {
   "cell_type": "markdown",
   "metadata": {},
   "source": [
    "**TIP**: when you want to learn more about a variable's *class*, use the **`help`** function!"
   ]
  },
  {
   "cell_type": "code",
   "execution_count": null,
   "metadata": {
    "collapsed": false,
    "scrolled": false
   },
   "outputs": [],
   "source": [
    "help(type(d))"
   ]
  },
  {
   "cell_type": "markdown",
   "metadata": {},
   "source": [
    "### <div style=\"color:purple\">SUMMARY:</div>\n",
    "- Arithmetic operations are the same as in **`R`**.\n",
    "\n",
    "\n",
    "- **`float`** and **`int`** behave differently under division.\n",
    "\n",
    "\n",
    "- Type-casting is encouraged!\n",
    "\n",
    "\n",
    "- Functions to save your life: **`print`**, **`type`** and **`help`**.\n",
    "<br><br>\n",
    "<div style=\"color:gray; text-align:right; font-weight:bold;\">[BACK TO TOP  &#8593;](#toc)</div>"
   ]
  },
  {
   "cell_type": "markdown",
   "metadata": {},
   "source": [
    "## 2. Basic Data Structures: **`list`** and **`dict`** <a class=\"anchor\" id=\"data-struct\"></a>\n",
    "\n",
    "We are going to go over the three most important data structures that can \"collect\" and organize multiple variables of various data types."
   ]
  },
  {
   "cell_type": "markdown",
   "metadata": {},
   "source": [
    "### 2.1. <u>**`list`**</u>\n",
    "\n",
    "An ordered collection that can contain variables of multiple data types and is accessed via numerical index. Can be modified (*mutable*).\n",
    "\n",
    "**TIP:** Python is a zero-indexed programming language!"
   ]
  },
  {
   "cell_type": "code",
   "execution_count": null,
   "metadata": {
    "collapsed": false
   },
   "outputs": [],
   "source": [
    "states_list = [\"MA\", \"CA\", \"TX\", \"PA\"]          # INSTANTIATION"
   ]
  },
  {
   "cell_type": "markdown",
   "metadata": {},
   "source": [
    "Ways to index/slice into a Python list **`l`**:\n",
    "* **`l[i]`** &nbsp;&nbsp;&nbsp;&nbsp;&nbsp;&nbsp;&nbsp;&nbsp;&nbsp;&nbsp;&nbsp;&nbsp;&nbsp;&nbsp;&nbsp;&nbsp;&nbsp;&nbsp;&nbsp;&nbsp;&nbsp; - access single element at index **`i-1`**\n",
    "* **`l[start:end]`** &nbsp;&nbsp;&nbsp;&nbsp; - access all elements between indices **`start-1`** and **`end-1`**\n",
    "* **`l[start:end:n]`**&nbsp; - access every **`n`<sup>th</sup>** element between indices **`start-1`** and **`end-1`**"
   ]
  },
  {
   "cell_type": "code",
   "execution_count": null,
   "metadata": {
    "collapsed": false
   },
   "outputs": [],
   "source": [
    "print states_list[0]\n",
    "print states_list[0:2]\n",
    "print states_list[0:3:2]"
   ]
  },
  {
   "cell_type": "markdown",
   "metadata": {},
   "source": [
    "**TIP:** The **`n`** in Python can be negative, in which case you will iterate from the specified **`start`** to the **`end`** with the specified step size of **`n`**."
   ]
  },
  {
   "cell_type": "code",
   "execution_count": null,
   "metadata": {
    "collapsed": false
   },
   "outputs": [],
   "source": [
    "print states_list[3:0:-1]"
   ]
  },
  {
   "cell_type": "code",
   "execution_count": null,
   "metadata": {
    "collapsed": false
   },
   "outputs": [],
   "source": [
    "print len(states_list)                         # LENGTH"
   ]
  },
  {
   "cell_type": "code",
   "execution_count": null,
   "metadata": {
    "collapsed": false
   },
   "outputs": [],
   "source": [
    "states_list = states_list + [\"AZ\", \"MN\"]       # CONCATENATION\n",
    "print states_list"
   ]
  },
  {
   "cell_type": "code",
   "execution_count": null,
   "metadata": {
    "collapsed": false
   },
   "outputs": [],
   "source": [
    "print [\"Here's Johnny!\"]*3                     # REPETITION"
   ]
  },
  {
   "cell_type": "code",
   "execution_count": null,
   "metadata": {
    "collapsed": false
   },
   "outputs": [],
   "source": [
    "print sorted(states_list)                      # SORTING (way 1)\n",
    "states_list.sort()                             # SORTING (way 2)\n",
    "print states_list"
   ]
  },
  {
   "cell_type": "code",
   "execution_count": null,
   "metadata": {
    "collapsed": false
   },
   "outputs": [],
   "source": [
    "states_list.insert(1, \"AZ\")                    # INSERT\n",
    "print states_list"
   ]
  },
  {
   "cell_type": "code",
   "execution_count": null,
   "metadata": {
    "collapsed": false
   },
   "outputs": [],
   "source": [
    "states_list.append(17)                         # APPEND\n",
    "print states_list"
   ]
  },
  {
   "cell_type": "code",
   "execution_count": null,
   "metadata": {
    "collapsed": false
   },
   "outputs": [],
   "source": [
    "print states_list.index(\"AZ\")                  # FIND (get index)\n",
    "print \"AZ\" in states_list                      # FIND (get y/n answer)\n",
    "print \"PA\" in states_list"
   ]
  },
  {
   "cell_type": "code",
   "execution_count": null,
   "metadata": {
    "collapsed": false
   },
   "outputs": [],
   "source": [
    "states_list.count(\"AZ\")                        # COUNT"
   ]
  },
  {
   "cell_type": "code",
   "execution_count": null,
   "metadata": {
    "collapsed": false
   },
   "outputs": [],
   "source": [
    "zip([\"MA\",\"AZ\",\"PA\"],[\"Mass.\",\"Ariz\",\"Penn.\"]) # ZIP"
   ]
  },
  {
   "cell_type": "code",
   "execution_count": null,
   "metadata": {
    "collapsed": false
   },
   "outputs": [],
   "source": [
    "print min([5.15, 10.00, 7.25, 11.00])          # MINIMUM\n",
    "print max([5.15, 10.00, 7.25, 11.00])          # MAXIMUM"
   ]
  },
  {
   "cell_type": "code",
   "execution_count": null,
   "metadata": {
    "collapsed": false
   },
   "outputs": [],
   "source": [
    "print range(0, 7)                              # RANGES\n",
    "print range(0, len(states_list))\n",
    "print range(len(states_list))"
   ]
  },
  {
   "cell_type": "markdown",
   "metadata": {},
   "source": [
    "### 2.2. <u>**`dict`**</u>\n",
    "\n",
    "A collection of items (**values**) that can be accessed by corresponding labels (**keys**).  "
   ]
  },
  {
   "cell_type": "code",
   "execution_count": null,
   "metadata": {
    "collapsed": false
   },
   "outputs": [],
   "source": [
    "min_wage_dict = {                              # INSTANTIATION (way 1)\n",
    "    \"MA\"  : 11.00,\n",
    "    \"AZ\"  : 10.00,\n",
    "    \"GA\"  : 5.15,\n",
    "    \"TX\"  : 7.25\n",
    "}\n",
    "\n",
    "states_list = [\"MA\", \"AZ\", \"GA\", \"TX\"]         # INSTANTIATION (way 2)\n",
    "min_wages = [11.00, 10.00, 5.15, 7.25]\n",
    "min_wage_dict = dict(zip(states_list, min_wages))\n",
    "\n",
    "min_wage_dict = dict(MA=11.00,                 # INSTANTIATION (way 3)\n",
    "                     AZ=10.00,\n",
    "                     GA=5.15,\n",
    "                     TX=7.25)\n",
    "print min_wage_dict"
   ]
  },
  {
   "cell_type": "code",
   "execution_count": null,
   "metadata": {
    "collapsed": false
   },
   "outputs": [],
   "source": [
    "min_wage_dict[\"MA\"] = 15.00                    # UPDATE VALUE(S)\n",
    "print min_wage_dict[\"MA\"]"
   ]
  },
  {
   "cell_type": "markdown",
   "metadata": {},
   "source": [
    "**TIP:** If a dictionary has a string as a key (e.g. **`\"Key\"`**), it can be accessed like **`df.Key`** in addition to being accessed like **`df[\"Key\"]`**."
   ]
  },
  {
   "cell_type": "code",
   "execution_count": null,
   "metadata": {
    "collapsed": false
   },
   "outputs": [],
   "source": [
    "print min_wage_dict.items()                    # FLATTEN DICTIONARY"
   ]
  },
  {
   "cell_type": "markdown",
   "metadata": {},
   "source": [
    "**TIP:** a **`tuple`** is just a read-only list. Note that each key-value pair that comes out of **`min_wage_dict.items()`** is a tuple!"
   ]
  },
  {
   "cell_type": "code",
   "execution_count": null,
   "metadata": {
    "collapsed": false
   },
   "outputs": [],
   "source": [
    "print \"States:\", min_wage_dict.keys()          # GET KEYS\n",
    "print \"Wages:\", min_wage_dict.values()         # GET VALUES"
   ]
  },
  {
   "cell_type": "markdown",
   "metadata": {},
   "source": [
    "### 2.3. **Exercise:** \n",
    "Write some code to find the lowest minimum wage in the states in our \"sample\" and output the state name, using either the **`dict`** or the **`list`** variables."
   ]
  },
  {
   "cell_type": "code",
   "execution_count": 2,
   "metadata": {
    "collapsed": false
   },
   "outputs": [],
   "source": [
    "# TODO"
   ]
  },
  {
   "cell_type": "markdown",
   "metadata": {},
   "source": [
    "### 2.4. **Exercise:** \n",
    "Write some code to find the average minimum wage in the states in our \"sample\" rounded to the nearest dollar, using either the **`dict`** or the **`list`** variables."
   ]
  },
  {
   "cell_type": "code",
   "execution_count": 3,
   "metadata": {
    "collapsed": false
   },
   "outputs": [],
   "source": [
    "# TODO"
   ]
  },
  {
   "cell_type": "markdown",
   "metadata": {},
   "source": [
    "**TIP:** A **`list`** can be converted to a **`set`** (i.e. stores only unique elements of a list):"
   ]
  },
  {
   "cell_type": "code",
   "execution_count": null,
   "metadata": {
    "collapsed": false
   },
   "outputs": [],
   "source": [
    "set([1,2,2,2,2,3,3,3,5,5,5])"
   ]
  },
  {
   "cell_type": "markdown",
   "metadata": {},
   "source": [
    "### <div style=\"color:purple\">SUMMARY</div>\n",
    "- A **`list`** can be indexed, sliced using a range, or sliced using intervals.\n",
    "\n",
    "\n",
    "- The first element of a list has index 0!\n",
    "\n",
    "\n",
    "- A **`dict`** is a \"named\" list.\n",
    "\n",
    "\n",
    "- There are many global functions (e.g. **`zip`**) and class functions (e.g. **`d.items()`**) that are applicable to **`list`** and **`dict`** objects respectively. \n",
    "\n",
    "\n",
    "- A **`tuple`** is a read-only list.\n",
    "\n",
    "\n",
    "- A **`set`** is a de-depulicated list.\n",
    "<br><br>\n",
    "<div style=\"color:gray; text-align:right; font-weight:bold;\">[BACK TO TOP  &#8593;](#toc)</div>"
   ]
  },
  {
   "cell_type": "markdown",
   "metadata": {},
   "source": [
    "## 3. Control Flow <a class=\"anchor\" id=\"control-flow\"></a>\n",
    "\n",
    "Now that we know how to create variables as well as organize them into some simple but powerful data structures, let's learn how to \"traverse\" our data structures in order to do tasks that involve *more than one element of a data structure*."
   ]
  },
  {
   "cell_type": "markdown",
   "metadata": {},
   "source": [
    "### 3.1. <u>Loops</u>"
   ]
  },
  {
   "cell_type": "markdown",
   "metadata": {},
   "source": [
    "**TIP:** Indentation matters in Python!!"
   ]
  },
  {
   "cell_type": "code",
   "execution_count": null,
   "metadata": {
    "collapsed": false
   },
   "outputs": [],
   "source": [
    "for s in states_list:                # FOR-loop\n",
    "    print s"
   ]
  },
  {
   "cell_type": "code",
   "execution_count": null,
   "metadata": {
    "collapsed": false
   },
   "outputs": [],
   "source": [
    "for i in range(len(states_list)):    # FOR-loop (over range)\n",
    "    print i"
   ]
  },
  {
   "cell_type": "code",
   "execution_count": null,
   "metadata": {
    "collapsed": false
   },
   "outputs": [],
   "source": [
    "for (i, s) in enumerate(states_list): # FOR-loop (over enumerated list)\n",
    "    print i, s"
   ]
  },
  {
   "cell_type": "code",
   "execution_count": null,
   "metadata": {
    "collapsed": false
   },
   "outputs": [],
   "source": [
    "for (i, s) in enumerate(states_list):# FOR-loops (nested)\n",
    "    print i\n",
    "    for char in s:\n",
    "        print \"'\"+char+\"'\""
   ]
  },
  {
   "cell_type": "code",
   "execution_count": null,
   "metadata": {
    "collapsed": false
   },
   "outputs": [],
   "source": [
    "i = 0                                # WHILE-loop\n",
    "while (i < (len(states_list)-1)):\n",
    "    print states_list[i]\n",
    "    i = i + 1"
   ]
  },
  {
   "cell_type": "markdown",
   "metadata": {},
   "source": [
    "### 3.2. <u>Conditional statements</u>"
   ]
  },
  {
   "cell_type": "code",
   "execution_count": null,
   "metadata": {
    "collapsed": false
   },
   "outputs": [],
   "source": [
    "for (i, s) in enumerate(states_list): # IF statement\n",
    "    if s[1] == \"A\":\n",
    "        print s"
   ]
  },
  {
   "cell_type": "code",
   "execution_count": null,
   "metadata": {
    "collapsed": false
   },
   "outputs": [],
   "source": [
    "for (i, s) in enumerate(states_list): # IF/ELSE statements\n",
    "    if i == 0:\n",
    "        print \"BEST STATE:\",s\n",
    "    elif i == (len(states_list)-1):\n",
    "        print \"WORST STATE:\",s\n",
    "    else:\n",
    "        continue                      # CONTINUE statement"
   ]
  },
  {
   "cell_type": "code",
   "execution_count": null,
   "metadata": {
    "collapsed": false
   },
   "outputs": [],
   "source": [
    "for (i, s) in enumerate(states_list):\n",
    "    if \"G\" in s:\n",
    "        print s\n",
    "        print \"Found a state w/'G' in it! DONE!\" \n",
    "        break                         # BREAK statement"
   ]
  },
  {
   "cell_type": "markdown",
   "metadata": {},
   "source": [
    "**TIP:** You can create an entire conditional clause in one line ... similar to calling **`ifelse()`** in **`R`**:"
   ]
  },
  {
   "cell_type": "code",
   "execution_count": null,
   "metadata": {
    "collapsed": false
   },
   "outputs": [],
   "source": [
    "has_best_state = True if \"MA\" in states_list else False\n",
    "print has_best_state"
   ]
  },
  {
   "cell_type": "markdown",
   "metadata": {},
   "source": [
    "### 3.3. <u>**Application: State minimum wage data**</u>\n",
    "\n",
    "Below, we have dictionaries denoting which *region* each of the states the U.S. belongs to as well as the corresponding *majority party* in the state legislature (in 2017).\n",
    "\n"
   ]
  },
  {
   "cell_type": "code",
   "execution_count": null,
   "metadata": {
    "collapsed": false
   },
   "outputs": [],
   "source": [
    "R2S   = {'Mountain': ['AZ', 'CO', 'ID', 'MT', 'NM', 'NV', 'UT', 'WY'], 'South Atlantic': ['DC', 'DE', 'FL', 'GA', 'MD', 'NC', 'SC', 'VA', 'WV'], 'New England': ['CT', 'MA', 'ME', 'NH', 'RI', 'VT'], 'East North Central': ['IL', 'IN', 'MI', 'OH', 'WI'], 'West North Central': ['IA', 'KS', 'MN', 'MO', 'ND', 'NE', 'SD'], 'Pacific': ['AK', 'CA', 'HI', 'OR', 'WA'], 'Middle Atlantic': ['NJ', 'NY', 'PA'], 'West South Central': ['AR', 'LA', 'OK', 'TX'], 'East South Central': ['AL', 'KY', 'MS', 'TN']}\n",
    "S2P   = {'WA': 'Dem', 'DE': 'Dem', 'WI': 'Rep', 'WV': 'Rep', 'HI': 'Dem', 'FL': 'Rep', 'WY': 'Rep', 'NH': 'Rep', 'NJ': 'Dem', 'NM': 'Dem', 'TX': 'Rep', 'LA': 'Rep', 'NC': 'Rep', 'ND': 'Rep', 'TN': 'Rep', 'NY': 'Dem', 'PA': 'Rep', 'CA': 'Dem', 'NV': 'Dem', 'VA': 'Rep', 'CO': 'Split', 'AK': 'Rep', 'AL': 'Rep', 'AR': 'Rep', 'VT': 'Dem', 'IL': 'Dem', 'GA': 'Rep', 'IN': 'Rep', 'IA': 'Rep', 'OK': 'Rep', 'AZ': 'Rep', 'ID': 'Rep', 'CT': 'Split', 'ME': 'Split', 'MD': 'Dem', 'MA': 'Dem', 'OH': 'Rep', 'UT': 'Rep', 'MO': 'Rep', 'MN': 'Rep', 'MI': 'Rep', 'RI': 'Dem', 'KS': 'Rep', 'MT': 'Rep', 'MS': 'Rep', 'SC': 'Rep', 'KY': 'Rep', 'OR': 'Dem', 'SD': 'Rep'}\n",
    "S2W   = {'WA': 11.0, 'DE': 8.25, 'DC': 12.5, 'WI': 7.25, 'WV': 8.75, 'HI': 9.25, 'FL': 8.01, 'WY': 7.25, 'NH': 7.25, 'NJ': 8.44, 'NM': 7.5, 'TX': 7.25, 'LA': 7.25, 'NC': 7.25, 'ND': 7.25, 'NE': 9.0, 'TN': 7.25, 'NY': 9.70, 'PA': 7.25, 'CA': 10.5, 'NV': 8.25, 'VA': 7.25, 'CO': 9.31, 'AK': 9.81, 'AL': 7.25, 'AR': 8.5, 'VT': 10.0, 'IL': 8.25, 'GA': 7.25, 'IN': 7.25, 'IA': 7.25, 'OK': 7.25, 'AZ': 10.0, 'ID': 7.25, 'CT': 10.1, 'ME': 9.0, 'MD': 9.25, 'MA': 11.0, 'OH': 8.15, 'UT': 7.25, 'MO': 7.71, 'MN': 9.5, 'MI': 8.91, 'RI': 9.60, 'KS': 7.25, 'MT': 8.15, 'MS': 7.25, 'SC': 7.25, 'KY': 7.25, 'OR': 10.25, 'SD': 8.65}"
   ]
  },
  {
   "cell_type": "code",
   "execution_count": null,
   "metadata": {
    "collapsed": false
   },
   "outputs": [],
   "source": [
    "print R2S[\"New England\"]\n",
    "print S2P[\"AZ\"]\n",
    "print S2W[\"MA\"]"
   ]
  },
  {
   "cell_type": "markdown",
   "metadata": {},
   "source": [
    "#### 3.3.1. **Exercise:** \n",
    "First, output which party has the most state legislature majorities across all states."
   ]
  },
  {
   "cell_type": "code",
   "execution_count": 5,
   "metadata": {
    "collapsed": false
   },
   "outputs": [],
   "source": [
    "# TODO"
   ]
  },
  {
   "cell_type": "markdown",
   "metadata": {},
   "source": [
    "#### 3.3.2. **Exercise:** \n",
    "Next, calculate the average minimum wage for states with *Democratic* state legislatures and *Republican* state legislatures respectively."
   ]
  },
  {
   "cell_type": "code",
   "execution_count": null,
   "metadata": {
    "collapsed": false
   },
   "outputs": [],
   "source": [
    "# TODO"
   ]
  },
  {
   "cell_type": "markdown",
   "metadata": {},
   "source": [
    "#### 3.3.3. **Exercise:** \n",
    "Which region has the highest average minimum wage?"
   ]
  },
  {
   "cell_type": "code",
   "execution_count": 6,
   "metadata": {
    "collapsed": false
   },
   "outputs": [],
   "source": [
    "# TODO"
   ]
  },
  {
   "cell_type": "markdown",
   "metadata": {},
   "source": [
    "### <div style=\"color:purple\">SUMMARY</div>\n",
    "- Indentation matters for loops and conditional statements.\n",
    "\n",
    "\n",
    "- You can write an entire clause of conditional statements in one line!\n",
    "\n",
    "\n",
    "- The **`enumerate`** function automatically pairs each element of an iterable variable with its index.\n",
    "\n",
    "\n",
    "- Each character in a **`str`** variable can be iterated over.\n",
    "\n",
    "\n",
    "- In a loop, **`continue`** and **`break`** statements skip ahead to the next iteration and exit the loop respectively.\n",
    "\n",
    "\n",
    "- Sometimes using loops is a huge pain when using multiple or nested data structures...\n",
    "<br><br>\n",
    "<div style=\"color:gray; text-align:right; font-weight:bold;\">[BACK TO TOP  &#8593;](#toc)</div>"
   ]
  },
  {
   "cell_type": "markdown",
   "metadata": {},
   "source": [
    "## 4. Functional and Object-Oriented Programming <a class=\"anchor\" id=\"func-obj\"></a>\n",
    "\n",
    "Finally, we will learn the syntax for two important structures in Python: functions and classes."
   ]
  },
  {
   "cell_type": "markdown",
   "metadata": {
    "collapsed": true
   },
   "source": [
    "### 4.1. <u>**Functions**</u>\n",
    "\n",
    "A function groups a set of statements together so that they may be run anywhere in a Python program. As in any other programming language, a Python function takes a set of inputs and computes a output value to return to the user.\n",
    "\n",
    "There are two ways to define functions. The first way is via a **`def`** statement:"
   ]
  },
  {
   "cell_type": "code",
   "execution_count": null,
   "metadata": {
    "collapsed": true
   },
   "outputs": [],
   "source": [
    "def f(x):\n",
    "    return x**2"
   ]
  },
  {
   "cell_type": "code",
   "execution_count": null,
   "metadata": {
    "collapsed": true
   },
   "outputs": [],
   "source": [
    "def compute_average(iterable):\n",
    "    \"\"\"This function returns the average of elements in an\n",
    "       iterable data type such as a list.\n",
    "    \"\"\"\n",
    "    return sum(iterable)/float(len(iterable))"
   ]
  },
  {
   "cell_type": "code",
   "execution_count": null,
   "metadata": {
    "collapsed": true
   },
   "outputs": [],
   "source": [
    "Last_Computed_Average = None\n",
    "def compute_average2(iterable):\n",
    "    \"\"\"This function returns the average of elements in an\n",
    "       iterable data type such as a list. Additionally it \n",
    "       stores the last computed average in a global variable.\n",
    "    \"\"\"\n",
    "    global Last_Computed_Average\n",
    "    Last_Computed_Average = sum(iterable)/float(len(iterable))\n",
    "    return Last_Computed_Average"
   ]
  },
  {
   "cell_type": "markdown",
   "metadata": {},
   "source": [
    "**TIP:** Functions defined via **`def`** do not need to have a **`return`** statement at the end! In other words, a function can simply \"do some stuff\" and then return nothing back to the user (the return value will just be `None`)."
   ]
  },
  {
   "cell_type": "markdown",
   "metadata": {},
   "source": [
    "The second way is via a **`lambda`** expression:"
   ]
  },
  {
   "cell_type": "code",
   "execution_count": null,
   "metadata": {
    "collapsed": false
   },
   "outputs": [],
   "source": [
    "compute_average = lambda i: sum(i)/float(len(i)) "
   ]
  },
  {
   "cell_type": "markdown",
   "metadata": {},
   "source": [
    "Both share the same type (**`function`**), however there are only 2 differences between **`def`** and **`lambda`**:\n",
    "\n",
    "* **Anonymity**. A **`def`**'d fxn must have a name while a **`lambda`** does not need be assigned to a variable with a name.\n",
    "\n",
    "* **Sparsity**. A **`def`**'d fxn can contain an arbitrary number of statements while a **`lambda`** must consist of a single expression (no assignments allowed!). \n",
    "\n",
    "\n",
    "**TIP:** The biggest convenience of **`lambda`** functions is being able to neatly pass them to *higher-order functions* -- that is, functions that take functions as their argments. See below:\n"
   ]
  },
  {
   "cell_type": "code",
   "execution_count": null,
   "metadata": {
    "collapsed": false
   },
   "outputs": [],
   "source": [
    "map(lambda x: x**2, range(10))"
   ]
  },
  {
   "cell_type": "code",
   "execution_count": null,
   "metadata": {
    "collapsed": false
   },
   "outputs": [],
   "source": [
    "filter(lambda s: s in R2S[\"Pacific\"], [\"AZ\",\"MA\",\"CA\",\"OR\"])"
   ]
  },
  {
   "cell_type": "code",
   "execution_count": null,
   "metadata": {
    "collapsed": false
   },
   "outputs": [],
   "source": [
    "reduce(lambda x_i, x_j: x_i + \",\" + x_j, [\"AZ\",\"MA\",\"CA\",\"OR\"])"
   ]
  },
  {
   "cell_type": "code",
   "execution_count": null,
   "metadata": {
    "collapsed": false
   },
   "outputs": [],
   "source": [
    "# How many regions have more than 7 states?\n",
    "filter(lambda y: y > 7, map(lambda x: (x[0], len(x[1])), R2S.items()))"
   ]
  },
  {
   "cell_type": "markdown",
   "metadata": {},
   "source": [
    "#### 4.1.1. **Exercise:** \n",
    "Output which party has the most state legislature majorities across all states *but without any **`for`** loops, **`while`** loops, or **`if/else`** statements*.\n",
    "\n",
    "**HINT:** Python's **`max`** function can sort iterable variables by some custom criterion using the **`key`** argument."
   ]
  },
  {
   "cell_type": "code",
   "execution_count": 7,
   "metadata": {
    "collapsed": false
   },
   "outputs": [],
   "source": [
    "# TODO"
   ]
  },
  {
   "cell_type": "markdown",
   "metadata": {},
   "source": [
    "**TIP:** The **`numpy`** package in Python has an implementation of \"mode\" which would come in handy here. See the next notebook for how to work with **`numpy`**!"
   ]
  },
  {
   "cell_type": "markdown",
   "metadata": {},
   "source": [
    "#### 4.1.2. **Exercise:** \n",
    "Calculate the average minimum wage for states with *Democratic* state legislatures and *Republican* state legislatures respectively *but without any **`for`** loops, **`while`** loops, or **`if/else`** statements*."
   ]
  },
  {
   "cell_type": "code",
   "execution_count": 8,
   "metadata": {
    "collapsed": false
   },
   "outputs": [],
   "source": [
    "# TODO"
   ]
  },
  {
   "cell_type": "markdown",
   "metadata": {},
   "source": [
    "#### 4.1.3. **Exercise:**\n",
    "\n",
    "Finally, which region within *Republican* states has the lowest average minimum wage?"
   ]
  },
  {
   "cell_type": "code",
   "execution_count": 9,
   "metadata": {
    "collapsed": false
   },
   "outputs": [],
   "source": [
    "# TODO"
   ]
  },
  {
   "cell_type": "markdown",
   "metadata": {},
   "source": [
    "### 4.2. <u>**Classes**</u>\n",
    "\n",
    "A class is a framework that defines objects that contain certain properties (e.g. functions, shared globals, and local variables). \n",
    "\n",
    "Once a class is defined, it can be instantiated as an \"instance\" of that class.\n",
    "\n",
    "All classes must have an **`__init__`** function defined. This function is what first runs when a class instance is created, based on the user's inputs.\n",
    "\n",
    "Example:"
   ]
  },
  {
   "cell_type": "code",
   "execution_count": null,
   "metadata": {
    "collapsed": false
   },
   "outputs": [],
   "source": [
    "class Animal:\n",
    "    def __init__(self, species, name):     # INIT FUNCTION (must have `self` as first argument)\n",
    "        self.my_species = species\n",
    "        self.my_name    = name\n",
    "        \n",
    "    def say_my_name(self):                 # CLASS FUNCTION\n",
    "        print \"Hello human! My name is\",self.my_name\n",
    "        \n",
    "    def say_my_species(self):\n",
    "        print \"I belong to the\",self.my_species,\"species\""
   ]
  },
  {
   "cell_type": "code",
   "execution_count": null,
   "metadata": {
    "collapsed": false
   },
   "outputs": [],
   "source": [
    "doggo = Animal(species=\"German Sepherd\", name=\"Eustace\")\n",
    "doggo.say_my_name()\n",
    "doggo.say_my_species()"
   ]
  },
  {
   "cell_type": "markdown",
   "metadata": {},
   "source": [
    "### 4.3. **Exercise:** \n",
    "The following is a class implementation of a U.S. state. Write a function for this class that returns the minimum wage rounded to the nearest dollar."
   ]
  },
  {
   "cell_type": "code",
   "execution_count": 10,
   "metadata": {
    "collapsed": false
   },
   "outputs": [
    {
     "data": {
      "text/plain": [
       "<__main__.State instance at 0x1025e3680>"
      ]
     },
     "execution_count": 10,
     "metadata": {},
     "output_type": "execute_result"
    }
   ],
   "source": [
    "class State:\n",
    "    def __init__(self, abbrv, region, min_wage, maj_party_Dem):\n",
    "        \"\"\"Since Python is dynamically typed (types are not declared \n",
    "        for variables before running a program), it is good practice to \n",
    "        document your `init` function so that users know what to pass\n",
    "        as parameters.\n",
    "        \n",
    "        Args:\n",
    "            abbrv (str):          Two letter abbreviation for state.\n",
    "            region (str):         Which U.S. region this state belongs to.\n",
    "            min_wage (float):     The 2017 minimum wage in $USD.\n",
    "            maj_party_Dem (bool): Whether the state legislature is controlled\n",
    "                                  by Democrats in 2017.\n",
    "        \n",
    "        \"\"\"\n",
    "        self.abbrv         = abbrv\n",
    "        self.region        = region\n",
    "        self.min_wage      = min_wage\n",
    "        self.maj_party_Dem = maj_party_Dem\n",
    "        \n",
    "    def print_min_wage(self):\n",
    "        \"\"\"Prints this state's minimum wage in 2017.\n",
    "        \"\"\"\n",
    "        print \"$\",self.min_wage\n",
    "        \n",
    "    # TODO\n",
    "        \n",
    "    def get_maj_party_name(self):\n",
    "        \"\"\"Returns the name of the majority party in this state's \n",
    "        legislature.\n",
    "        \"\"\"\n",
    "        if self.maj_party_Dem == True:\n",
    "            return \"Democrat\"\n",
    "        else:\n",
    "            return \"Republican\"\n",
    "        \n",
    "MA = State(\"MA\", \"New England\", min_wage=11.00, maj_party_Dem=True)\n",
    "MA"
   ]
  },
  {
   "cell_type": "markdown",
   "metadata": {},
   "source": [
    "### 4.4. **Exercise:** \n",
    "Create a list of **`State`** objects using all of the available data we have collected on region, minimum wage, and majority party. "
   ]
  },
  {
   "cell_type": "code",
   "execution_count": 11,
   "metadata": {
    "collapsed": false
   },
   "outputs": [],
   "source": [
    "# TODO"
   ]
  },
  {
   "cell_type": "markdown",
   "metadata": {},
   "source": [
    "### <div style=\"color:purple\">SUMMARY</div>\n",
    "- In this section, we demonstrated how Python is both **functional** and **object-oriented** .. most data science packages use a mix of the 2 \"styles\".\n",
    "\n",
    "\n",
    "- A **`lambda`** is basically just a slim and trim version of a function defined by **`def`**.\n",
    "\n",
    "\n",
    "- The functions **`max`**, **`min`**, and **`sorted`** can take in lambda functions (with the **`key`** argument) that describe alternative values to use when sorting each element in a list. \n",
    "\n",
    "\n",
    "- With **`map`**, **`filter`**, and **`reduce`**, you can pretty much condense *anything* into a single line full of **`lambda`** functions ... use this power wisely.\n",
    "\n",
    "\n",
    "- Classes provide a powerful way of encapsulating functions into \"container\" objects.\n",
    "\n",
    "<br><br>\n",
    "<div style=\"color:gray; text-align:right; font-weight:bold;\">[BACK TO TOP  &#8593;](#toc)</div>"
   ]
  },
  {
   "cell_type": "markdown",
   "metadata": {},
   "source": [
    "## 5. Working with Strings (**`str`**) [optional: *useful for debugging*] <a class=\"anchor\" id=\"str\"></a>\n",
    "\n",
    "Python has a variety of powerful string parsing functions. \n",
    "\n",
    "Some of these functions are implemented as **`str`** class-methods, e.g.\n",
    "\n",
    "&nbsp;&nbsp;&nbsp;&nbsp;&nbsp;&nbsp;&nbsp;&nbsp;**`myString.fxn()`**\n",
    "\n",
    "while others are global functions to be called on strings, e.g.\n",
    "\n",
    "&nbsp;&nbsp;&nbsp;&nbsp;&nbsp;&nbsp;&nbsp;&nbsp;**`fxn(myString)`**\n",
    "\n",
    "Examples are given below:"
   ]
  },
  {
   "cell_type": "code",
   "execution_count": null,
   "metadata": {
    "collapsed": true
   },
   "outputs": [],
   "source": [
    "s = \"Cambridge, Massachusetts\""
   ]
  },
  {
   "cell_type": "code",
   "execution_count": null,
   "metadata": {
    "collapsed": false
   },
   "outputs": [],
   "source": [
    "print len(s)                                       # LENGTH"
   ]
  },
  {
   "cell_type": "code",
   "execution_count": null,
   "metadata": {
    "collapsed": false
   },
   "outputs": [],
   "source": [
    "print s[0]                                         # INDEX and SLICE into a string\n",
    "print s[-1]\n",
    "print s[0:9]"
   ]
  },
  {
   "cell_type": "code",
   "execution_count": null,
   "metadata": {
    "collapsed": false
   },
   "outputs": [],
   "source": [
    "print \".\".join([str(a), str(int(c))])              # JOIN strings\n",
    "print \", \".join([\"Cook County\", \"Illinois\"])"
   ]
  },
  {
   "cell_type": "code",
   "execution_count": null,
   "metadata": {
    "collapsed": false
   },
   "outputs": [],
   "source": [
    "s1 = \"Course-Class-Notes-Syllabus\"                 # SPLIT strings into a list\n",
    "print s1.split(\"-\") "
   ]
  },
  {
   "cell_type": "code",
   "execution_count": null,
   "metadata": {
    "collapsed": false
   },
   "outputs": [],
   "source": [
    "print \"---2018-Election-Results---\".strip(\"-\")     # STRIP chars. from ends"
   ]
  },
  {
   "cell_type": "code",
   "execution_count": null,
   "metadata": {
    "collapsed": false
   },
   "outputs": [],
   "source": [
    "y = \"My GPA: 5.000\"                                # FIND starting index of a substring\n",
    "print y.find(\"GPA\")"
   ]
  },
  {
   "cell_type": "code",
   "execution_count": null,
   "metadata": {
    "collapsed": false
   },
   "outputs": [],
   "source": [
    "print \"Course {0}, Class {1}\".format(a, c)         # FORMAT strings \n",
    "print \"Course {cr}, Class {cl}\".format(cr=a, cl=c)\n",
    "print \"Course %i, Class %1.f\" % (a, c)"
   ]
  },
  {
   "cell_type": "markdown",
   "metadata": {},
   "source": [
    "### 5.1. **Exercise:** \n",
    "Given the following strings,"
   ]
  },
  {
   "cell_type": "code",
   "execution_count": null,
   "metadata": {
    "collapsed": true
   },
   "outputs": [],
   "source": [
    "results_2016 = [\n",
    "    \"Middlesex (MA) [Dem] -- 66.3%\",\n",
    "    \"Clark (IL) [Rep] -- 71.9%\",\n",
    "    \"Maricopa (AZ) [Rep] -- 49.1%\"\n",
    "]"
   ]
  },
  {
   "cell_type": "markdown",
   "metadata": {},
   "source": [
    "Use the above string parsing methods, write a function and apply it to each string and return a list containing:\n",
    "\n",
    "1. The county name\n",
    "2. The state name\n",
    "3. The party name\n",
    "4. The vote share (as a float)"
   ]
  },
  {
   "cell_type": "code",
   "execution_count": 12,
   "metadata": {
    "collapsed": false
   },
   "outputs": [],
   "source": [
    "# TODO"
   ]
  },
  {
   "cell_type": "markdown",
   "metadata": {},
   "source": [
    "### <div style=\"color:purple\">SUMMARY</div>\n",
    "\n",
    "- **`str`** variables have many nifty global and class methods (e.g. **`.join()`**, **`.split()`**, **`.find()`**)\n",
    "\n",
    "\n",
    "- **`str`** variables can be treated like lists of individual characters; thus many **`list`** functions also apply to strings.  \n",
    "<br><br>\n",
    "<div style=\"color:gray; text-align:right; font-weight:bold;\">[BACK TO TOP  &#8593;](#toc)</div>"
   ]
  },
  {
   "cell_type": "markdown",
   "metadata": {},
   "source": [
    "## 6. Handling Errors [optional: *useful for debugging*] <a class=\"anchor\" id=\"err\"></a>\n",
    "\n",
    "What is an **exception**? \n",
    "\n",
    "Let's find out:"
   ]
  },
  {
   "cell_type": "code",
   "execution_count": null,
   "metadata": {
    "collapsed": false
   },
   "outputs": [],
   "source": [
    "# print S2P[\"DC\"]"
   ]
  },
  {
   "cell_type": "markdown",
   "metadata": {},
   "source": [
    "An **exception** is an event, which occurs during the execution of a program that disrupts the normal flow of the program's instructions. \n",
    "\n",
    "In general, when a Python script encounters a situation that it cannot cope with, it raises an exception. An exception is a Python object that represents an **error**.\n",
    "\n",
    "Python allows us to handle errors in cutomized ways and thereby gracefully continue executing our program without exiting out on the problematic line of code:"
   ]
  },
  {
   "cell_type": "code",
   "execution_count": null,
   "metadata": {
    "collapsed": false
   },
   "outputs": [],
   "source": [
    "try:\n",
    "    S2P[\"DC\"]\n",
    "except KeyError as e:\n",
    "    print \"Entity not found in `S2P` ... moving on\""
   ]
  },
  {
   "cell_type": "markdown",
   "metadata": {},
   "source": [
    "You can create highly informative error messages using the string formatting techniques discussed above to guide the user in debugging:"
   ]
  },
  {
   "cell_type": "code",
   "execution_count": null,
   "metadata": {
    "collapsed": false
   },
   "outputs": [],
   "source": [
    "try:\n",
    "    S2P[\"DC\"]\n",
    "except KeyError as e:\n",
    "    print \"Entity %s not found in `S2P` ... moving on\" % e"
   ]
  },
  {
   "cell_type": "markdown",
   "metadata": {},
   "source": [
    "Additionally, you can create your *own* exceptions when something happens in your program that you don't like:"
   ]
  },
  {
   "cell_type": "code",
   "execution_count": null,
   "metadata": {
    "collapsed": false
   },
   "outputs": [],
   "source": [
    "if \"MA\" in S2P.keys():\n",
    "    raise Exception(\"Coastal elite present in data!\")"
   ]
  },
  {
   "cell_type": "markdown",
   "metadata": {},
   "source": [
    "### 6.1. **Exercise:** \n",
    "Write a block of code that finds the U.S. states with missing party information using **`try/catch`**. "
   ]
  },
  {
   "cell_type": "code",
   "execution_count": null,
   "metadata": {
    "collapsed": false
   },
   "outputs": [],
   "source": [
    "# TODO"
   ]
  },
  {
   "cell_type": "markdown",
   "metadata": {},
   "source": [
    "See [**`https://docs.python.org/2.7/tutorial/errors.html`**](https://docs.python.org/2.7/tutorial/errors.html) for an overview of different Python exception types."
   ]
  },
  {
   "cell_type": "markdown",
   "metadata": {},
   "source": [
    "### <div style=\"color:purple\">SUMMARY</div>\n",
    "\n",
    "- **`try`** and **`except`** statements are useful in making sure bugs/errors don't end the execution of your program (i.e. your program can still smoothly continue running).\n",
    "\n",
    "\n",
    "- The **`except`** that you use can behave differently based on the kind of **`Exception`** (error) that the program has enountered.\n",
    "\n",
    "\n",
    "- These statements are absolutely *crucial* when doing **web-scraping** -- a task where you will undoubtedly encounter many errors / timeouts / failures, etc.\n",
    "<br><br>\n",
    "<div style=\"color:gray; text-align:right; font-weight:bold;\">[BACK TO TOP  &#8593;](#toc)</div>"
   ]
  },
  {
   "cell_type": "markdown",
   "metadata": {},
   "source": [
    "## 7. Reading and Writing [optional:* useful for messy files*] <a class=\"anchor\" id=\"rw\"></a>\n",
    "\n",
    "It is recommended using Python's own native read/write functions when not dealing with columnar data (.csv, .xlsx) which can be more easily handled by the third-party **`pandas`** library (more on this in the next notebook!)."
   ]
  },
  {
   "cell_type": "code",
   "execution_count": null,
   "metadata": {
    "collapsed": false
   },
   "outputs": [],
   "source": [
    "# 'w' marker is for 'write'\n",
    "# 'r' marker is for 'read'\n",
    "# 'b' marker is to open file in binary\n",
    "\n",
    "# with open(\"data/state2party2017.txt\", \"wb\") as f: \n",
    "#     f.write(str(S2P))\n",
    "#     print \"OK write.\"\n",
    "\n",
    "# with open(\"data/state2party2017.txt\", \"rb\") as f: \n",
    "#     print f.read()\n",
    "#     print \"OK read.\""
   ]
  },
  {
   "cell_type": "markdown",
   "metadata": {},
   "source": [
    "For a brief primer on reading/writing files, see:\n",
    "\n",
    "&nbsp;&nbsp;&nbsp;&nbsp;&nbsp;&nbsp;&nbsp;&nbsp;[**`https://docs.python.org/2/tutorial/inputoutput.html#reading-and-writing-files`**](https://docs.python.org/2/tutorial/inputoutput.html#reading-and-writing-files)\n",
    "\n"
   ]
  },
  {
   "cell_type": "markdown",
   "metadata": {},
   "source": [
    "### 7.1. **Exercise**: \n",
    "The **`.json`** file-type (used to store dictionaries) is precisely one file format that is best dealt with using lower level read/write functions in Python itself. Using the **`json`** library and consulting the appropriate documentation, perform the following tasks:\n",
    "\n",
    "1. Flatten the dictionary **`R2S`** and prints it in a \"pretty\" way.\n",
    "2. Save the dictionary **`R2S`** out to a .json file (**`region2states.json`**) and then read it back in as a **`dict`** object, rather than a string."
   ]
  },
  {
   "cell_type": "code",
   "execution_count": 13,
   "metadata": {
    "collapsed": false
   },
   "outputs": [],
   "source": [
    "# TODO"
   ]
  },
  {
   "cell_type": "markdown",
   "metadata": {},
   "source": [
    "### <div style=\"color:purple\">SUMMARY</div>\n",
    "\n",
    "- Reading/writing files in Python is really easy!\n",
    "\n",
    "\n",
    "- All such read/write operations should happen within the scope of a **`with open()`** clause. Within such a clause, the file in question stays open and immediately closes once the clause is exited.\n",
    "<br><br>\n",
    "<div style=\"color:gray; text-align:right; font-weight:bold;\">[BACK TO TOP  &#8593;](#toc)</div>"
   ]
  },
  {
   "cell_type": "markdown",
   "metadata": {},
   "source": [
    "## 8. System Libraries [optional: *useful for complex tasks*] <a class=\"anchor\" id=\"sys-lib\"></a>\n",
    "\n",
    "A list of other essential Python libraries for advanced Python users:\n",
    "\n",
    "* **`sys`/`os`** &nbsp;&nbsp;&nbsp;&nbsp;- Perform functionalities that your system / OS provides (e.g. execute bash scripts, navigate filesystem).\n",
    "* **`csv`** &nbsp;&nbsp;&nbsp;&nbsp;&nbsp;&nbsp;&nbsp;&nbsp;&nbsp; - Read/write + interface with csv files on a low level.\n",
    "* **`urllib2`** &nbsp;- Perform HTTP requests.\n",
    "* **`math`** &nbsp;&nbsp;&nbsp;&nbsp;&nbsp;&nbsp;&nbsp; - Basic mathematical operations and expressions (e.g. pi, e, inf)\n",
    "* **`random`** &nbsp;&nbsp;&nbsp; - Useful for random sampling and shuffling.\n",
    "* **`datetime`** - Parsing and creating dates.\n",
    "* **`sqlite3`** &nbsp;&nbsp;- Work with SQLLite databases.\n",
    "* **`joblib`** &nbsp;&nbsp;&nbsp; - Execute parallel functions.\n",
    "<br><br>\n",
    "<div style=\"color:gray; text-align:right; font-weight:bold;\">[BACK TO TOP  &#8593;](#toc)</div>"
   ]
  },
  {
   "cell_type": "markdown",
   "metadata": {},
   "source": [
    "## 9. Miscellaneous Topics [optional: *useful for writing cleaner/faster code*]\n",
    "\n",
    "There is a number of other very \"Pythonic\" topics that we did not fully cover in this notebook for the sake of brevity. \n"
   ]
  },
  {
   "cell_type": "markdown",
   "metadata": {},
   "source": [
    "### 9.1. **<u>List Comprehensions</u>**\n",
    "\n",
    "List comprehensions can be used to define collections mathematically as well as more quickly iterate over a complex, nested data structure. \n",
    "\n",
    "Consider the following mathematical sets:\n",
    "\n",
    "&nbsp;&nbsp;&nbsp;&nbsp;&nbsp;&nbsp;&nbsp;&nbsp;**`A = {x² : x in {0 ... 9}}`**\n",
    "\n",
    "&nbsp;&nbsp;&nbsp;&nbsp;&nbsp;&nbsp;&nbsp;&nbsp;**`B = (1, 2, 4, 8, ..., 2¹²)`**\n",
    "\n",
    "&nbsp;&nbsp;&nbsp;&nbsp;&nbsp;&nbsp;&nbsp;&nbsp;**`C = {x | x in S and x even}`**\n",
    "\n",
    "These can be written in Python as follows:"
   ]
  },
  {
   "cell_type": "code",
   "execution_count": null,
   "metadata": {
    "collapsed": true
   },
   "outputs": [],
   "source": [
    "A = [x**2 for x in range(10)]\n",
    "B = [2**i for i in range(13)]\n",
    "C = [x for x in A if x % 2 == 0]"
   ]
  },
  {
   "cell_type": "code",
   "execution_count": null,
   "metadata": {
    "collapsed": false
   },
   "outputs": [],
   "source": [
    "print A\n",
    "print B\n",
    "print C"
   ]
  },
  {
   "cell_type": "markdown",
   "metadata": {},
   "source": [
    "A more complicated example extracting prime and non-prime numbers:"
   ]
  },
  {
   "cell_type": "code",
   "execution_count": null,
   "metadata": {
    "collapsed": true
   },
   "outputs": [],
   "source": [
    "no_primes = [j for i in range(2, 8) for j in range(i*2, 50, i)]\n",
    "primes = [x for x in range(2, 50) if x not in no_primes]"
   ]
  },
  {
   "cell_type": "code",
   "execution_count": null,
   "metadata": {
    "collapsed": false
   },
   "outputs": [],
   "source": [
    "print no_primes\n",
    "print primes"
   ]
  },
  {
   "cell_type": "markdown",
   "metadata": {},
   "source": [
    "#### 9.1.1. **Exercise:** \n",
    "Create a list comprehension expression that outputs a list where each element is a **`tuple`** consisting of `(region, state, wage, party)`."
   ]
  },
  {
   "cell_type": "code",
   "execution_count": null,
   "metadata": {
    "collapsed": false
   },
   "outputs": [],
   "source": [
    "[(r, s, S2W[s], S2P[s]) for (r, slist) in R2S.iteritems() for s in slist if s in S2P.keys()]"
   ]
  },
  {
   "cell_type": "markdown",
   "metadata": {},
   "source": [
    "### 9.2. **<u>Generators</u>**\n",
    "\n",
    "What happens if you iterate over a *really huge* collection of items? Chances are that your RAM might explode and you will become deeply unhappy.\n",
    "\n",
    "Rather than fitting all items of your *really huge* collection into memory immediately as you iterate, you can:\n",
    "\n",
    "1. Ask for each value one at a time.\n",
    "2. Use each generated value.\n",
    "3. Throw it away.\n",
    "\n",
    "This is essentially what a generator expression does, which can conserve a lot of memory if you're working with a huge dataset!\n",
    "\n",
    "Functionally, however, a generator *serves* the same role as a list comprehension. The method of iteration over the collection is simply different. \n",
    "\n",
    "See below for a comparison:"
   ]
  },
  {
   "cell_type": "code",
   "execution_count": null,
   "metadata": {
    "collapsed": false
   },
   "outputs": [],
   "source": [
    "list_of_squares = [x**2 for x in range(10)]\n",
    "for y in list_of_squares:\n",
    "    print y"
   ]
  },
  {
   "cell_type": "code",
   "execution_count": null,
   "metadata": {
    "collapsed": false
   },
   "outputs": [],
   "source": [
    "generator_of_squares = (x**2 for x in range(10))\n",
    "for y in generator_of_squares:\n",
    "    print y"
   ]
  },
  {
   "cell_type": "markdown",
   "metadata": {},
   "source": [
    "You can also use the **`next()`** function to iterate through a generator one element at a time:"
   ]
  },
  {
   "cell_type": "code",
   "execution_count": null,
   "metadata": {
    "collapsed": false
   },
   "outputs": [],
   "source": [
    "generator_of_squares = (x**2 for x in range(10))\n",
    "print next(generator_of_squares)\n",
    "print next(generator_of_squares)\n",
    "print next(generator_of_squares)\n",
    "print next(generator_of_squares)\n",
    "print next(generator_of_squares)"
   ]
  },
  {
   "cell_type": "markdown",
   "metadata": {},
   "source": [
    "### 9.3. **<u>`yield` Statement</u>**\n",
    "\n",
    "In essence, a generator is a \"dynamic\" list comprehension -- that is, each element of the list comprehension is created \"on-the-fly\" as we need it. However, note that list comprehensions must also all be contained in one line. In other words, a generator *can only really consist of a single expression*! \n",
    "\n",
    "This might be utterly ludicrous if we're doing something particularly complex to each element in our collection.\n",
    "\n",
    "What if, instead, we could enclose the complex logic of determining the next element to dynamically generate in a *function*? That is precisely what we can do if we use a **`yield`** statement in our function rather than a **`return`**.\n",
    "\n",
    "For example, the equivalent of the following generator:\n"
   ]
  },
  {
   "cell_type": "code",
   "execution_count": null,
   "metadata": {
    "collapsed": true
   },
   "outputs": [],
   "source": [
    "square_lc = (x**2 for x in range(10))"
   ]
  },
  {
   "cell_type": "markdown",
   "metadata": {},
   "source": [
    "would be:"
   ]
  },
  {
   "cell_type": "code",
   "execution_count": null,
   "metadata": {
    "collapsed": true
   },
   "outputs": [],
   "source": [
    "def square_fxn():\n",
    "    for x in range(10):\n",
    "        yield x**2"
   ]
  },
  {
   "cell_type": "markdown",
   "metadata": {},
   "source": [
    "To master this expression and de-confuse yourself, you must understand one thing: a function with a **`yield`** statement will return a generator and the **`yield`** statement declares what the next element in the generator will be!\n",
    "\n",
    "For instance, when you call the above **`square_fxn`** it will return a generator object. You can then iterate through the generator.\n",
    "\n",
    "Try it out!"
   ]
  },
  {
   "cell_type": "code",
   "execution_count": null,
   "metadata": {
    "collapsed": false,
    "scrolled": true
   },
   "outputs": [],
   "source": [
    "g = square_fxn()\n",
    "next(g)\n",
    "next(g)\n",
    "next(g)\n",
    "next(g)\n",
    "for x in g:\n",
    "    print x"
   ]
  },
  {
   "cell_type": "markdown",
   "metadata": {},
   "source": [
    "### 9.4. **Exercise:** \n",
    "The following block of code creates the *cartesian product* of all regional states. That is, assuming each region $r \\in R$ has $N_r$ states, it creates $\\prod_{r \\in R}{N_{r}}$ tuples where each tuple contains $|R|$ elements, consisting of a unique combination of a single state from each region:"
   ]
  },
  {
   "cell_type": "code",
   "execution_count": null,
   "metadata": {
    "collapsed": false
   },
   "outputs": [],
   "source": [
    "import itertools\n",
    "all_regional_combos = list(itertools.product(*R2S.values()))\n",
    "all_regional_combos[-1]"
   ]
  },
  {
   "cell_type": "markdown",
   "metadata": {},
   "source": [
    "Note that since all the elements are being thrown into memory all at once, it is somewhat slow!\n",
    "\n",
    "Write a function using either a **`yield`** statement or a generator expression that manually iterates over the cartesian product of regional states."
   ]
  },
  {
   "cell_type": "code",
   "execution_count": 14,
   "metadata": {
    "collapsed": false
   },
   "outputs": [],
   "source": [
    "# TODO"
   ]
  },
  {
   "cell_type": "markdown",
   "metadata": {},
   "source": [
    "### <div style=\"color:purple\">SUMMARY</div>\n",
    "\n",
    "- List comprehensions are a *great* (and often more interpretable) alternative to **`map`** functions. Use them to replace nested loops that don't require a huge amount of \"loop-body\" code.\n",
    "\n",
    "\n",
    "- Generators (either manually created or using **`yield`** embedded in a function) are essentially optimized list comprehensions. Use them when you expect to iterate over a *huge* amount of data or particularly complex/memory-intensive objects (e.g. state district geometric shapes, a large multi-GB page on a website).\n",
    "<br><br>\n",
    "<div style=\"color:gray; text-align:right; font-weight:bold;\">[BACK TO TOP  &#8593;](#toc)</div>"
   ]
  },
  {
   "cell_type": "markdown",
   "metadata": {},
   "source": [
    "# <span style=\"color:gray\">END OF NOTEBOOK</span>\n",
    "\n"
   ]
  }
 ],
 "metadata": {
  "kernelspec": {
   "display_name": "Python 2",
   "language": "python",
   "name": "python2"
  },
  "language_info": {
   "codemirror_mode": {
    "name": "ipython",
    "version": 2
   },
   "file_extension": ".py",
   "mimetype": "text/x-python",
   "name": "python",
   "nbconvert_exporter": "python",
   "pygments_lexer": "ipython2",
   "version": "2.7.13"
  }
 },
 "nbformat": 4,
 "nbformat_minor": 1
}
